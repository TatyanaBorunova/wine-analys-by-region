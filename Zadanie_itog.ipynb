{
  "cells": [
    {
      "cell_type": "markdown",
      "metadata": {
        "id": "nScVltl2o1ks"
      },
      "source": [
        "**<center> ГОСУДАРСТВЕННОЕ БЮДЖЕТНОЕ ОБРАЗОВАТЕЛЬНОЕ УЧРЕЖДЕНИЕ</center>**\n",
        "**<center>ГОРОДА МОСКВЫ</center>**\n",
        "**<center>ДОПОЛНИТЕЛЬНОГО ПРОФЕССИОНАЛЬНОГО ОБРАЗОВАНИЯ</center>**\n",
        "**<center>ЦЕНТР ПРОФЕССИОНАЛЬНЫХ КВАЛИФИКАЦИЙ И СОДЕЙСТВИЯ ТРУДОУСТРОЙСТВУ</center>**\n",
        "**<center>«ПРОФЕССИОНАЛ»</center>**\n",
        "<br>\n",
        "<br>\n",
        "<br>\n",
        "<br>\n",
        "<br>\n",
        "<br>\n",
        "<br>\n",
        "<br>\n",
        "<br>\n",
        "<br>\n",
        "<br>\n",
        "<br>\n",
        "<br>"
      ]
    },
    {
      "cell_type": "markdown",
      "metadata": {
        "id": "OcKsE6PjWwMB"
      },
      "source": [
        "#### <center> ИТОГОВАЯ АТТЕСТАЦИОННАЯ РАБОТА </center>\n",
        "<center> на тему </center>\n",
        "<center> «Анализ данных с использованием Python» </center>\n",
        "<center> (на примере анализа данных исследуемого продукта) </center> \n",
        "<center>слушателя Боруновой Татьяны Сергеевны <br>группы № 752 </center>\n",
        " <center>по программе профессиональной переподготовки </center>\n",
        "<center> «Аналитик данных» </center>\n",
        "<br>\n",
        "<br>\n",
        "<br>\n",
        "<br>\n",
        "<br>\n",
        "<br>\n",
        "<br>\n",
        "<br>\n",
        "<br>\n",
        "<br>\n",
        "<br>\n",
        "<br>\n",
        "<br>\n",
        "<br>\n",
        "<br>\n",
        "<br>\n",
        "<br>\n",
        "<br>"
      ]
    },
    {
      "cell_type": "markdown",
      "metadata": {
        "id": "a8VeexFlqOlS"
      },
      "source": [
        "#### <center> Москва, 2022"
      ]
    },
    {
      "cell_type": "markdown",
      "metadata": {
        "id": "FEylji2fVBp1"
      },
      "source": [
        "### Цель исследования:"
      ]
    },
    {
      "cell_type": "markdown",
      "metadata": {
        "id": "imV0ddfiVBp1"
      },
      "source": [
        "\n",
        "Цель данного проекта — выявить, какие признаки имеют наибольшее влияние на рейтинг вина. Для анализа используется набор данных из Kaggle, крупнейшего в мире сообщества специалистов по данным и машинному обучению. Набор данных состоит из 13 признаков (2 числовых признака и 11 категориальных признаков).\n",
        "\n",
        "Выполнение задачи предполагает выполнение следующих этапов исследования:<br>\n",
        "<a href=#1>1.  Предобработка данных</a><br>\n",
        "<a href=#2>2.  Исследовательский анализ данных</a><br>\n",
        "<a href=#3>3.  Составление структуры развития рынка вина каждого региона.</a><br>\n",
        "<a href=#4>4.  Проведение исследования статистических показателей зависимости цены вина от рейтинга в регионе.</a><br>\n",
        "<a href=#5>5.  Проверка гипотез.</a><br>\n",
        "<a href=#6>6.  Выводы</a><br>\n",
        " "
      ]
    },
    {
      "cell_type": "markdown",
      "metadata": {
        "id": "xU1neCj09-Cg"
      },
      "source": [
        "### Столбцы данных для проведения исследования\n",
        "Набор данных, используемых для проведения исследования содержит следующие столбцы:\n",
        "- country — страна происхождения вина.<br>\n",
        "- description — описание вкусового профиля вина.<br>\n",
        "- designation — виноградник, ягоды которого используются при изготовлении вина.<br>\n",
        "- points — оценка вина, согласно рейтинга журнала Wine Enthusiast, в баллах по шкале от 1 до 100.<br>\n",
        "- price — стоимость одной бутылки вина.<br>\n",
        "- province — место изготовления вина (провинция или штат).<br>\n",
        "- region_1 — винодельческая область в провинции или штате (например, долина Напа в штате Калифорния).<br>\n",
        "- region_2 — (необязательно) конкретный зона виноделия в винодельческой области (например, Резерфорд в долине Напа).<br>\n",
        "- variety — сорт винограда, который используется при изготовлении вина (например, Пино Нуар).<br>\n",
        "- winery — винодельня-производитель вина.<br>"
      ]
    },
    {
      "cell_type": "markdown",
      "metadata": {
        "id": "ZlzWxbiXVBp4"
      },
      "source": [
        "#  <a name=\"1\">1.Предобработка данных</a>"
      ]
    },
    {
      "cell_type": "markdown",
      "metadata": {
        "id": "ZnnRnBSrJF34"
      },
      "source": [
        "Предобработка данных предполагает выполнение следующих последовательных действий:\n",
        "- Импортировать библиотеки.\n",
        "- Загрузить данные.\n",
        "- Заменить названия столбцов (привести к нижнему регистру).<br>\n",
        "- Преобразовать данные в нужные типы. Описать, в каких столбцах заменили тип данных и почему.<br>\n",
        "- Обработать пропуски при необходимости. <br>\n",
        "- Внести новый столбец \"Континенты\" в случае необходимости.<br>\n",
        "\n",
        "country_to_continent = {<br>\n",
        "'Italy':'Europe',<br>\n",
        "'Portugal':'Europe',<br>\n",
        "'US':'North America',<br>\n",
        "'Spain':'Europe',<br>\n",
        "'France':'Europe',<br>\n",
        "'Germany':'Europe',<br>\n",
        "'Argentina':'Latin America',<br>\n",
        "'Chile':'Latin America',<br>\n",
        "'Australia': 'Oceania',<br>\n",
        "'Austria': 'Europe',<br>\n",
        "'South Africa': 'Africa',<br>\n",
        "'New Zealand': 'Oceania',<br>\n",
        "'Israel': 'Asia', <br>\n",
        "'Hungary':'Europe',<br>\n",
        "'Greece':'Europe',<br>\n",
        "'Romania':'Europe',<br>\n",
        "'Mexico':'Latin America',<br>\n",
        "'Canada':'North America',<br>\n",
        "'Turkey': 'Asia',<br>\n",
        "'Czech Republic': 'Europe',<br>\n",
        "'Slovenia': 'Europe',<br>\n",
        "'Luxembourg': 'Europe',<br>\n",
        "'Croatia': 'Europe',<br>\n",
        "'Georgia':'Europe',<br>\n",
        "'Uruguay': 'Latin America',<br>\n",
        "'England': 'Europe',<br>\n",
        "'Lebanon': 'Asia',<br>\n",
        "'Serbia': 'Europe',<br>\n",
        "'Brazil': 'Latin America',<br>\n",
        "'Moldova': 'Europe',<br>\n",
        "'Morocco':'Africa',<br>\n",
        "'Peru':'Latin America',<br>\n",
        "'India':'Asia',<br>\n",
        "'Bulgaria':'Europe',<br>\n",
        "'Cyprus': 'Europe',<br>\n",
        "'Armenia':'Asia',<br>\n",
        "'Switzerland':'Europe',<br>\n",
        "'Bosnia and Herzegovina':'Europe',<br>\n",
        "'Ukraine':'Europe',<br>\n",
        "'Slovakia':'Europe',<br>\n",
        "'Macedonia':'Europe',<br>\n",
        "'China':'Asia',<br>\n",
        "'Egypt':'Africa'<br>\n",
        "}"
      ]
    },
    {
      "cell_type": "markdown",
      "metadata": {
        "id": "aBQiCyNpVBp4"
      },
      "source": [
        "Импорт необходимых библиотек"
      ]
    },
    {
      "cell_type": "code",
      "execution_count": 1,
      "metadata": {
        "id": "AuUnHg0GVBp5"
      },
      "outputs": [],
      "source": [
        "import pandas as pd\n",
        "import numpy as np\n",
        "import matplotlib.pyplot as plt\n",
        "import seaborn as sns\n",
        "import matplotlib.cm as cm\n",
        "\n",
        "import scipy.stats as st\n",
        "# импорт библиотеки warnings\n",
        "import warnings\n",
        "warnings.simplefilter(action='ignore', category=FutureWarning)"
      ]
    },
    {
      "cell_type": "markdown",
      "metadata": {
        "id": "397l4WRJVBp6"
      },
      "source": [
        "Загрузка данных"
      ]
    },
    {
      "cell_type": "markdown",
      "metadata": {
        "id": "VEHSXVFNoM6F"
      },
      "source": [
        "Выполняем загрузку данных из открытого источника (платформы Kaggle) в формате *.csv"
      ]
    },
    {
      "cell_type": "code",
      "execution_count": 2,
      "metadata": {
        "colab": {
          "base_uri": "https://localhost:8080/",
          "height": 74
        },
        "id": "BQowqxmYVBp6",
        "outputId": "4652117c-fbb5-4709-db53-ac0538768b56"
      },
      "outputs": [
        {
          "output_type": "display_data",
          "data": {
            "text/plain": [
              "<IPython.core.display.HTML object>"
            ],
            "text/html": [
              "\n",
              "     <input type=\"file\" id=\"files-69f8faa6-2888-49fa-8f49-31deb01f8ba2\" name=\"files[]\" multiple disabled\n",
              "        style=\"border:none\" />\n",
              "     <output id=\"result-69f8faa6-2888-49fa-8f49-31deb01f8ba2\">\n",
              "      Upload widget is only available when the cell has been executed in the\n",
              "      current browser session. Please rerun this cell to enable.\n",
              "      </output>\n",
              "      <script>// Copyright 2017 Google LLC\n",
              "//\n",
              "// Licensed under the Apache License, Version 2.0 (the \"License\");\n",
              "// you may not use this file except in compliance with the License.\n",
              "// You may obtain a copy of the License at\n",
              "//\n",
              "//      http://www.apache.org/licenses/LICENSE-2.0\n",
              "//\n",
              "// Unless required by applicable law or agreed to in writing, software\n",
              "// distributed under the License is distributed on an \"AS IS\" BASIS,\n",
              "// WITHOUT WARRANTIES OR CONDITIONS OF ANY KIND, either express or implied.\n",
              "// See the License for the specific language governing permissions and\n",
              "// limitations under the License.\n",
              "\n",
              "/**\n",
              " * @fileoverview Helpers for google.colab Python module.\n",
              " */\n",
              "(function(scope) {\n",
              "function span(text, styleAttributes = {}) {\n",
              "  const element = document.createElement('span');\n",
              "  element.textContent = text;\n",
              "  for (const key of Object.keys(styleAttributes)) {\n",
              "    element.style[key] = styleAttributes[key];\n",
              "  }\n",
              "  return element;\n",
              "}\n",
              "\n",
              "// Max number of bytes which will be uploaded at a time.\n",
              "const MAX_PAYLOAD_SIZE = 100 * 1024;\n",
              "\n",
              "function _uploadFiles(inputId, outputId) {\n",
              "  const steps = uploadFilesStep(inputId, outputId);\n",
              "  const outputElement = document.getElementById(outputId);\n",
              "  // Cache steps on the outputElement to make it available for the next call\n",
              "  // to uploadFilesContinue from Python.\n",
              "  outputElement.steps = steps;\n",
              "\n",
              "  return _uploadFilesContinue(outputId);\n",
              "}\n",
              "\n",
              "// This is roughly an async generator (not supported in the browser yet),\n",
              "// where there are multiple asynchronous steps and the Python side is going\n",
              "// to poll for completion of each step.\n",
              "// This uses a Promise to block the python side on completion of each step,\n",
              "// then passes the result of the previous step as the input to the next step.\n",
              "function _uploadFilesContinue(outputId) {\n",
              "  const outputElement = document.getElementById(outputId);\n",
              "  const steps = outputElement.steps;\n",
              "\n",
              "  const next = steps.next(outputElement.lastPromiseValue);\n",
              "  return Promise.resolve(next.value.promise).then((value) => {\n",
              "    // Cache the last promise value to make it available to the next\n",
              "    // step of the generator.\n",
              "    outputElement.lastPromiseValue = value;\n",
              "    return next.value.response;\n",
              "  });\n",
              "}\n",
              "\n",
              "/**\n",
              " * Generator function which is called between each async step of the upload\n",
              " * process.\n",
              " * @param {string} inputId Element ID of the input file picker element.\n",
              " * @param {string} outputId Element ID of the output display.\n",
              " * @return {!Iterable<!Object>} Iterable of next steps.\n",
              " */\n",
              "function* uploadFilesStep(inputId, outputId) {\n",
              "  const inputElement = document.getElementById(inputId);\n",
              "  inputElement.disabled = false;\n",
              "\n",
              "  const outputElement = document.getElementById(outputId);\n",
              "  outputElement.innerHTML = '';\n",
              "\n",
              "  const pickedPromise = new Promise((resolve) => {\n",
              "    inputElement.addEventListener('change', (e) => {\n",
              "      resolve(e.target.files);\n",
              "    });\n",
              "  });\n",
              "\n",
              "  const cancel = document.createElement('button');\n",
              "  inputElement.parentElement.appendChild(cancel);\n",
              "  cancel.textContent = 'Cancel upload';\n",
              "  const cancelPromise = new Promise((resolve) => {\n",
              "    cancel.onclick = () => {\n",
              "      resolve(null);\n",
              "    };\n",
              "  });\n",
              "\n",
              "  // Wait for the user to pick the files.\n",
              "  const files = yield {\n",
              "    promise: Promise.race([pickedPromise, cancelPromise]),\n",
              "    response: {\n",
              "      action: 'starting',\n",
              "    }\n",
              "  };\n",
              "\n",
              "  cancel.remove();\n",
              "\n",
              "  // Disable the input element since further picks are not allowed.\n",
              "  inputElement.disabled = true;\n",
              "\n",
              "  if (!files) {\n",
              "    return {\n",
              "      response: {\n",
              "        action: 'complete',\n",
              "      }\n",
              "    };\n",
              "  }\n",
              "\n",
              "  for (const file of files) {\n",
              "    const li = document.createElement('li');\n",
              "    li.append(span(file.name, {fontWeight: 'bold'}));\n",
              "    li.append(span(\n",
              "        `(${file.type || 'n/a'}) - ${file.size} bytes, ` +\n",
              "        `last modified: ${\n",
              "            file.lastModifiedDate ? file.lastModifiedDate.toLocaleDateString() :\n",
              "                                    'n/a'} - `));\n",
              "    const percent = span('0% done');\n",
              "    li.appendChild(percent);\n",
              "\n",
              "    outputElement.appendChild(li);\n",
              "\n",
              "    const fileDataPromise = new Promise((resolve) => {\n",
              "      const reader = new FileReader();\n",
              "      reader.onload = (e) => {\n",
              "        resolve(e.target.result);\n",
              "      };\n",
              "      reader.readAsArrayBuffer(file);\n",
              "    });\n",
              "    // Wait for the data to be ready.\n",
              "    let fileData = yield {\n",
              "      promise: fileDataPromise,\n",
              "      response: {\n",
              "        action: 'continue',\n",
              "      }\n",
              "    };\n",
              "\n",
              "    // Use a chunked sending to avoid message size limits. See b/62115660.\n",
              "    let position = 0;\n",
              "    do {\n",
              "      const length = Math.min(fileData.byteLength - position, MAX_PAYLOAD_SIZE);\n",
              "      const chunk = new Uint8Array(fileData, position, length);\n",
              "      position += length;\n",
              "\n",
              "      const base64 = btoa(String.fromCharCode.apply(null, chunk));\n",
              "      yield {\n",
              "        response: {\n",
              "          action: 'append',\n",
              "          file: file.name,\n",
              "          data: base64,\n",
              "        },\n",
              "      };\n",
              "\n",
              "      let percentDone = fileData.byteLength === 0 ?\n",
              "          100 :\n",
              "          Math.round((position / fileData.byteLength) * 100);\n",
              "      percent.textContent = `${percentDone}% done`;\n",
              "\n",
              "    } while (position < fileData.byteLength);\n",
              "  }\n",
              "\n",
              "  // All done.\n",
              "  yield {\n",
              "    response: {\n",
              "      action: 'complete',\n",
              "    }\n",
              "  };\n",
              "}\n",
              "\n",
              "scope.google = scope.google || {};\n",
              "scope.google.colab = scope.google.colab || {};\n",
              "scope.google.colab._files = {\n",
              "  _uploadFiles,\n",
              "  _uploadFilesContinue,\n",
              "};\n",
              "})(self);\n",
              "</script> "
            ]
          },
          "metadata": {}
        },
        {
          "output_type": "stream",
          "name": "stdout",
          "text": [
            "Saving winemag-data_first150k.csv to winemag-data_first150k.csv\n"
          ]
        }
      ],
      "source": [
        "from google.colab import files\n",
        "df = files.upload()\n"
      ]
    },
    {
      "cell_type": "code",
      "source": [
        "df = pd.read_csv(filepath_or_buffer= 'winemag-data_first150k.csv', sep = ',')\n",
        "df.head(7)"
      ],
      "metadata": {
        "colab": {
          "base_uri": "https://localhost:8080/",
          "height": 452
        },
        "id": "NG8tyvKnM9TF",
        "outputId": "01dd2d3f-aa9f-42aa-eb85-1743e7b58f80"
      },
      "execution_count": 3,
      "outputs": [
        {
          "output_type": "execute_result",
          "data": {
            "text/plain": [
              "   Unnamed: 0 country                                        description  \\\n",
              "0           0      US  This tremendous 100% varietal wine hails from ...   \n",
              "1           1   Spain  Ripe aromas of fig, blackberry and cassis are ...   \n",
              "2           2      US  Mac Watson honors the memory of a wine once ma...   \n",
              "3           3      US  This spent 20 months in 30% new French oak, an...   \n",
              "4           4  France  This is the top wine from La Bégude, named aft...   \n",
              "5           5   Spain  Deep, dense and pure from the opening bell, th...   \n",
              "6           6   Spain  Slightly gritty black-fruit aromas include a s...   \n",
              "\n",
              "                            designation  points  price        province  \\\n",
              "0                     Martha's Vineyard      96  235.0      California   \n",
              "1  Carodorum Selección Especial Reserva      96  110.0  Northern Spain   \n",
              "2         Special Selected Late Harvest      96   90.0      California   \n",
              "3                               Reserve      96   65.0          Oregon   \n",
              "4                            La Brûlade      95   66.0        Provence   \n",
              "5                             Numanthia      95   73.0  Northern Spain   \n",
              "6                             San Román      95   65.0  Northern Spain   \n",
              "\n",
              "            region_1           region_2             variety  \\\n",
              "0        Napa Valley               Napa  Cabernet Sauvignon   \n",
              "1               Toro                NaN       Tinta de Toro   \n",
              "2     Knights Valley             Sonoma     Sauvignon Blanc   \n",
              "3  Willamette Valley  Willamette Valley          Pinot Noir   \n",
              "4             Bandol                NaN  Provence red blend   \n",
              "5               Toro                NaN       Tinta de Toro   \n",
              "6               Toro                NaN       Tinta de Toro   \n",
              "\n",
              "                    winery  \n",
              "0                    Heitz  \n",
              "1  Bodega Carmen Rodríguez  \n",
              "2                 Macauley  \n",
              "3                    Ponzi  \n",
              "4     Domaine de la Bégude  \n",
              "5                Numanthia  \n",
              "6                 Maurodos  "
            ],
            "text/html": [
              "\n",
              "  <div id=\"df-f71f373e-3742-4369-a33d-5207051e6aac\">\n",
              "    <div class=\"colab-df-container\">\n",
              "      <div>\n",
              "<style scoped>\n",
              "    .dataframe tbody tr th:only-of-type {\n",
              "        vertical-align: middle;\n",
              "    }\n",
              "\n",
              "    .dataframe tbody tr th {\n",
              "        vertical-align: top;\n",
              "    }\n",
              "\n",
              "    .dataframe thead th {\n",
              "        text-align: right;\n",
              "    }\n",
              "</style>\n",
              "<table border=\"1\" class=\"dataframe\">\n",
              "  <thead>\n",
              "    <tr style=\"text-align: right;\">\n",
              "      <th></th>\n",
              "      <th>Unnamed: 0</th>\n",
              "      <th>country</th>\n",
              "      <th>description</th>\n",
              "      <th>designation</th>\n",
              "      <th>points</th>\n",
              "      <th>price</th>\n",
              "      <th>province</th>\n",
              "      <th>region_1</th>\n",
              "      <th>region_2</th>\n",
              "      <th>variety</th>\n",
              "      <th>winery</th>\n",
              "    </tr>\n",
              "  </thead>\n",
              "  <tbody>\n",
              "    <tr>\n",
              "      <th>0</th>\n",
              "      <td>0</td>\n",
              "      <td>US</td>\n",
              "      <td>This tremendous 100% varietal wine hails from ...</td>\n",
              "      <td>Martha's Vineyard</td>\n",
              "      <td>96</td>\n",
              "      <td>235.0</td>\n",
              "      <td>California</td>\n",
              "      <td>Napa Valley</td>\n",
              "      <td>Napa</td>\n",
              "      <td>Cabernet Sauvignon</td>\n",
              "      <td>Heitz</td>\n",
              "    </tr>\n",
              "    <tr>\n",
              "      <th>1</th>\n",
              "      <td>1</td>\n",
              "      <td>Spain</td>\n",
              "      <td>Ripe aromas of fig, blackberry and cassis are ...</td>\n",
              "      <td>Carodorum Selección Especial Reserva</td>\n",
              "      <td>96</td>\n",
              "      <td>110.0</td>\n",
              "      <td>Northern Spain</td>\n",
              "      <td>Toro</td>\n",
              "      <td>NaN</td>\n",
              "      <td>Tinta de Toro</td>\n",
              "      <td>Bodega Carmen Rodríguez</td>\n",
              "    </tr>\n",
              "    <tr>\n",
              "      <th>2</th>\n",
              "      <td>2</td>\n",
              "      <td>US</td>\n",
              "      <td>Mac Watson honors the memory of a wine once ma...</td>\n",
              "      <td>Special Selected Late Harvest</td>\n",
              "      <td>96</td>\n",
              "      <td>90.0</td>\n",
              "      <td>California</td>\n",
              "      <td>Knights Valley</td>\n",
              "      <td>Sonoma</td>\n",
              "      <td>Sauvignon Blanc</td>\n",
              "      <td>Macauley</td>\n",
              "    </tr>\n",
              "    <tr>\n",
              "      <th>3</th>\n",
              "      <td>3</td>\n",
              "      <td>US</td>\n",
              "      <td>This spent 20 months in 30% new French oak, an...</td>\n",
              "      <td>Reserve</td>\n",
              "      <td>96</td>\n",
              "      <td>65.0</td>\n",
              "      <td>Oregon</td>\n",
              "      <td>Willamette Valley</td>\n",
              "      <td>Willamette Valley</td>\n",
              "      <td>Pinot Noir</td>\n",
              "      <td>Ponzi</td>\n",
              "    </tr>\n",
              "    <tr>\n",
              "      <th>4</th>\n",
              "      <td>4</td>\n",
              "      <td>France</td>\n",
              "      <td>This is the top wine from La Bégude, named aft...</td>\n",
              "      <td>La Brûlade</td>\n",
              "      <td>95</td>\n",
              "      <td>66.0</td>\n",
              "      <td>Provence</td>\n",
              "      <td>Bandol</td>\n",
              "      <td>NaN</td>\n",
              "      <td>Provence red blend</td>\n",
              "      <td>Domaine de la Bégude</td>\n",
              "    </tr>\n",
              "    <tr>\n",
              "      <th>5</th>\n",
              "      <td>5</td>\n",
              "      <td>Spain</td>\n",
              "      <td>Deep, dense and pure from the opening bell, th...</td>\n",
              "      <td>Numanthia</td>\n",
              "      <td>95</td>\n",
              "      <td>73.0</td>\n",
              "      <td>Northern Spain</td>\n",
              "      <td>Toro</td>\n",
              "      <td>NaN</td>\n",
              "      <td>Tinta de Toro</td>\n",
              "      <td>Numanthia</td>\n",
              "    </tr>\n",
              "    <tr>\n",
              "      <th>6</th>\n",
              "      <td>6</td>\n",
              "      <td>Spain</td>\n",
              "      <td>Slightly gritty black-fruit aromas include a s...</td>\n",
              "      <td>San Román</td>\n",
              "      <td>95</td>\n",
              "      <td>65.0</td>\n",
              "      <td>Northern Spain</td>\n",
              "      <td>Toro</td>\n",
              "      <td>NaN</td>\n",
              "      <td>Tinta de Toro</td>\n",
              "      <td>Maurodos</td>\n",
              "    </tr>\n",
              "  </tbody>\n",
              "</table>\n",
              "</div>\n",
              "      <button class=\"colab-df-convert\" onclick=\"convertToInteractive('df-f71f373e-3742-4369-a33d-5207051e6aac')\"\n",
              "              title=\"Convert this dataframe to an interactive table.\"\n",
              "              style=\"display:none;\">\n",
              "        \n",
              "  <svg xmlns=\"http://www.w3.org/2000/svg\" height=\"24px\"viewBox=\"0 0 24 24\"\n",
              "       width=\"24px\">\n",
              "    <path d=\"M0 0h24v24H0V0z\" fill=\"none\"/>\n",
              "    <path d=\"M18.56 5.44l.94 2.06.94-2.06 2.06-.94-2.06-.94-.94-2.06-.94 2.06-2.06.94zm-11 1L8.5 8.5l.94-2.06 2.06-.94-2.06-.94L8.5 2.5l-.94 2.06-2.06.94zm10 10l.94 2.06.94-2.06 2.06-.94-2.06-.94-.94-2.06-.94 2.06-2.06.94z\"/><path d=\"M17.41 7.96l-1.37-1.37c-.4-.4-.92-.59-1.43-.59-.52 0-1.04.2-1.43.59L10.3 9.45l-7.72 7.72c-.78.78-.78 2.05 0 2.83L4 21.41c.39.39.9.59 1.41.59.51 0 1.02-.2 1.41-.59l7.78-7.78 2.81-2.81c.8-.78.8-2.07 0-2.86zM5.41 20L4 18.59l7.72-7.72 1.47 1.35L5.41 20z\"/>\n",
              "  </svg>\n",
              "      </button>\n",
              "      \n",
              "  <style>\n",
              "    .colab-df-container {\n",
              "      display:flex;\n",
              "      flex-wrap:wrap;\n",
              "      gap: 12px;\n",
              "    }\n",
              "\n",
              "    .colab-df-convert {\n",
              "      background-color: #E8F0FE;\n",
              "      border: none;\n",
              "      border-radius: 50%;\n",
              "      cursor: pointer;\n",
              "      display: none;\n",
              "      fill: #1967D2;\n",
              "      height: 32px;\n",
              "      padding: 0 0 0 0;\n",
              "      width: 32px;\n",
              "    }\n",
              "\n",
              "    .colab-df-convert:hover {\n",
              "      background-color: #E2EBFA;\n",
              "      box-shadow: 0px 1px 2px rgba(60, 64, 67, 0.3), 0px 1px 3px 1px rgba(60, 64, 67, 0.15);\n",
              "      fill: #174EA6;\n",
              "    }\n",
              "\n",
              "    [theme=dark] .colab-df-convert {\n",
              "      background-color: #3B4455;\n",
              "      fill: #D2E3FC;\n",
              "    }\n",
              "\n",
              "    [theme=dark] .colab-df-convert:hover {\n",
              "      background-color: #434B5C;\n",
              "      box-shadow: 0px 1px 3px 1px rgba(0, 0, 0, 0.15);\n",
              "      filter: drop-shadow(0px 1px 2px rgba(0, 0, 0, 0.3));\n",
              "      fill: #FFFFFF;\n",
              "    }\n",
              "  </style>\n",
              "\n",
              "      <script>\n",
              "        const buttonEl =\n",
              "          document.querySelector('#df-f71f373e-3742-4369-a33d-5207051e6aac button.colab-df-convert');\n",
              "        buttonEl.style.display =\n",
              "          google.colab.kernel.accessAllowed ? 'block' : 'none';\n",
              "\n",
              "        async function convertToInteractive(key) {\n",
              "          const element = document.querySelector('#df-f71f373e-3742-4369-a33d-5207051e6aac');\n",
              "          const dataTable =\n",
              "            await google.colab.kernel.invokeFunction('convertToInteractive',\n",
              "                                                     [key], {});\n",
              "          if (!dataTable) return;\n",
              "\n",
              "          const docLinkHtml = 'Like what you see? Visit the ' +\n",
              "            '<a target=\"_blank\" href=https://colab.research.google.com/notebooks/data_table.ipynb>data table notebook</a>'\n",
              "            + ' to learn more about interactive tables.';\n",
              "          element.innerHTML = '';\n",
              "          dataTable['output_type'] = 'display_data';\n",
              "          await google.colab.output.renderOutput(dataTable, element);\n",
              "          const docLink = document.createElement('div');\n",
              "          docLink.innerHTML = docLinkHtml;\n",
              "          element.appendChild(docLink);\n",
              "        }\n",
              "      </script>\n",
              "    </div>\n",
              "  </div>\n",
              "  "
            ]
          },
          "metadata": {},
          "execution_count": 3
        }
      ]
    },
    {
      "cell_type": "code",
      "source": [
        "del df['Unnamed: 0']"
      ],
      "metadata": {
        "id": "XDtP8pi9E5Go"
      },
      "execution_count": 4,
      "outputs": []
    },
    {
      "cell_type": "markdown",
      "source": [
        "Объектом нашего исследования являются вина Африки и Океании. "
      ],
      "metadata": {
        "id": "1GdYLZvn_1lu"
      }
    },
    {
      "cell_type": "code",
      "source": [
        "country_to_continent = {\n",
        "'Italy':'Europe',\n",
        "'Portugal':'Europe',\n",
        "'US':'North America',\n",
        "'Spain':'Europe',\n",
        "'France':'Europe',\n",
        "'Germany':'Europe',\n",
        "'Argentina':'Latin America',\n",
        "'Chile':'Latin America',\n",
        "'Australia': 'Africa&Oceania',\n",
        "'Austria': 'Europe',\n",
        "'South Africa': 'Africa&Oceania',\n",
        "'New Zealand': 'Africa&Oceania',\n",
        "'Israel': 'Asia',\n",
        "'Hungary':'Europe',\n",
        "'Greece':'Europe',\n",
        "'Romania':'Europe',\n",
        "'Mexico':'Latin America',\n",
        "'Canada':'North America',\n",
        "'Turkey': 'Asia',\n",
        "'Czech Republic': 'Europe',\n",
        "'Slovenia': 'Europe',\n",
        "'Luxembourg': 'Europe',\n",
        "'Croatia': 'Europe',\n",
        "'Georgia':'Europe',\n",
        "'Uruguay': 'Latin America',\n",
        "'England': 'Europe',\n",
        "'Lebanon': 'Asia',\n",
        "'Serbia': 'Europe',\n",
        "'Brazil': 'Latin America',\n",
        "'Moldova': 'Europe',\n",
        "'Morocco':'Africa&Oceania',\n",
        "'Peru':'Latin America',\n",
        "'India':'Asia',\n",
        "'Bulgaria':'Europe',\n",
        "'Cyprus': 'Europe',\n",
        "'Armenia':'Asia',\n",
        "'Switzerland':'Europe',\n",
        "'Bosnia and Herzegovina':'Europe',\n",
        "'Ukraine':'Europe',\n",
        "'Slovakia':'Europe',\n",
        "'Macedonia':'Europe',\n",
        "'China':'Asia',\n",
        "'Egypt':'Africa&Oceania'\n",
        "}"
      ],
      "metadata": {
        "id": "48CNhtpz_phD"
      },
      "execution_count": 5,
      "outputs": []
    },
    {
      "cell_type": "code",
      "source": [
        "df['continent']=df['country'].map(country_to_continent)\n",
        "df"
      ],
      "metadata": {
        "colab": {
          "base_uri": "https://localhost:8080/",
          "height": 641
        },
        "id": "H5fcuHOaAOou",
        "outputId": "0067abb2-432d-4943-e054-05dc72c6ece4"
      },
      "execution_count": 6,
      "outputs": [
        {
          "output_type": "execute_result",
          "data": {
            "text/plain": [
              "       country                                        description  \\\n",
              "0           US  This tremendous 100% varietal wine hails from ...   \n",
              "1        Spain  Ripe aromas of fig, blackberry and cassis are ...   \n",
              "2           US  Mac Watson honors the memory of a wine once ma...   \n",
              "3           US  This spent 20 months in 30% new French oak, an...   \n",
              "4       France  This is the top wine from La Bégude, named aft...   \n",
              "...        ...                                                ...   \n",
              "150925   Italy  Many people feel Fiano represents southern Ita...   \n",
              "150926  France  Offers an intriguing nose with ginger, lime an...   \n",
              "150927   Italy  This classic example comes from a cru vineyard...   \n",
              "150928  France  A perfect salmon shade, with scents of peaches...   \n",
              "150929   Italy  More Pinot Grigios should taste like this. A r...   \n",
              "\n",
              "                                 designation  points  price  \\\n",
              "0                          Martha's Vineyard      96  235.0   \n",
              "1       Carodorum Selección Especial Reserva      96  110.0   \n",
              "2              Special Selected Late Harvest      96   90.0   \n",
              "3                                    Reserve      96   65.0   \n",
              "4                                 La Brûlade      95   66.0   \n",
              "...                                      ...     ...    ...   \n",
              "150925                                   NaN      91   20.0   \n",
              "150926                        Cuvée Prestige      91   27.0   \n",
              "150927                         Terre di Dora      91   20.0   \n",
              "150928                       Grand Brut Rosé      90   52.0   \n",
              "150929                                   NaN      90   15.0   \n",
              "\n",
              "                  province           region_1           region_2  \\\n",
              "0               California        Napa Valley               Napa   \n",
              "1           Northern Spain               Toro                NaN   \n",
              "2               California     Knights Valley             Sonoma   \n",
              "3                   Oregon  Willamette Valley  Willamette Valley   \n",
              "4                 Provence             Bandol                NaN   \n",
              "...                    ...                ...                ...   \n",
              "150925      Southern Italy  Fiano di Avellino                NaN   \n",
              "150926           Champagne          Champagne                NaN   \n",
              "150927      Southern Italy  Fiano di Avellino                NaN   \n",
              "150928           Champagne          Champagne                NaN   \n",
              "150929  Northeastern Italy         Alto Adige                NaN   \n",
              "\n",
              "                   variety                   winery      continent  \n",
              "0       Cabernet Sauvignon                    Heitz  North America  \n",
              "1            Tinta de Toro  Bodega Carmen Rodríguez         Europe  \n",
              "2          Sauvignon Blanc                 Macauley  North America  \n",
              "3               Pinot Noir                    Ponzi  North America  \n",
              "4       Provence red blend     Domaine de la Bégude         Europe  \n",
              "...                    ...                      ...            ...  \n",
              "150925         White Blend    Feudi di San Gregorio         Europe  \n",
              "150926     Champagne Blend                H.Germain         Europe  \n",
              "150927         White Blend                Terredora         Europe  \n",
              "150928     Champagne Blend                   Gosset         Europe  \n",
              "150929        Pinot Grigio            Alois Lageder         Europe  \n",
              "\n",
              "[150930 rows x 11 columns]"
            ],
            "text/html": [
              "\n",
              "  <div id=\"df-42424863-3753-4fe5-bd90-2b33265df589\">\n",
              "    <div class=\"colab-df-container\">\n",
              "      <div>\n",
              "<style scoped>\n",
              "    .dataframe tbody tr th:only-of-type {\n",
              "        vertical-align: middle;\n",
              "    }\n",
              "\n",
              "    .dataframe tbody tr th {\n",
              "        vertical-align: top;\n",
              "    }\n",
              "\n",
              "    .dataframe thead th {\n",
              "        text-align: right;\n",
              "    }\n",
              "</style>\n",
              "<table border=\"1\" class=\"dataframe\">\n",
              "  <thead>\n",
              "    <tr style=\"text-align: right;\">\n",
              "      <th></th>\n",
              "      <th>country</th>\n",
              "      <th>description</th>\n",
              "      <th>designation</th>\n",
              "      <th>points</th>\n",
              "      <th>price</th>\n",
              "      <th>province</th>\n",
              "      <th>region_1</th>\n",
              "      <th>region_2</th>\n",
              "      <th>variety</th>\n",
              "      <th>winery</th>\n",
              "      <th>continent</th>\n",
              "    </tr>\n",
              "  </thead>\n",
              "  <tbody>\n",
              "    <tr>\n",
              "      <th>0</th>\n",
              "      <td>US</td>\n",
              "      <td>This tremendous 100% varietal wine hails from ...</td>\n",
              "      <td>Martha's Vineyard</td>\n",
              "      <td>96</td>\n",
              "      <td>235.0</td>\n",
              "      <td>California</td>\n",
              "      <td>Napa Valley</td>\n",
              "      <td>Napa</td>\n",
              "      <td>Cabernet Sauvignon</td>\n",
              "      <td>Heitz</td>\n",
              "      <td>North America</td>\n",
              "    </tr>\n",
              "    <tr>\n",
              "      <th>1</th>\n",
              "      <td>Spain</td>\n",
              "      <td>Ripe aromas of fig, blackberry and cassis are ...</td>\n",
              "      <td>Carodorum Selección Especial Reserva</td>\n",
              "      <td>96</td>\n",
              "      <td>110.0</td>\n",
              "      <td>Northern Spain</td>\n",
              "      <td>Toro</td>\n",
              "      <td>NaN</td>\n",
              "      <td>Tinta de Toro</td>\n",
              "      <td>Bodega Carmen Rodríguez</td>\n",
              "      <td>Europe</td>\n",
              "    </tr>\n",
              "    <tr>\n",
              "      <th>2</th>\n",
              "      <td>US</td>\n",
              "      <td>Mac Watson honors the memory of a wine once ma...</td>\n",
              "      <td>Special Selected Late Harvest</td>\n",
              "      <td>96</td>\n",
              "      <td>90.0</td>\n",
              "      <td>California</td>\n",
              "      <td>Knights Valley</td>\n",
              "      <td>Sonoma</td>\n",
              "      <td>Sauvignon Blanc</td>\n",
              "      <td>Macauley</td>\n",
              "      <td>North America</td>\n",
              "    </tr>\n",
              "    <tr>\n",
              "      <th>3</th>\n",
              "      <td>US</td>\n",
              "      <td>This spent 20 months in 30% new French oak, an...</td>\n",
              "      <td>Reserve</td>\n",
              "      <td>96</td>\n",
              "      <td>65.0</td>\n",
              "      <td>Oregon</td>\n",
              "      <td>Willamette Valley</td>\n",
              "      <td>Willamette Valley</td>\n",
              "      <td>Pinot Noir</td>\n",
              "      <td>Ponzi</td>\n",
              "      <td>North America</td>\n",
              "    </tr>\n",
              "    <tr>\n",
              "      <th>4</th>\n",
              "      <td>France</td>\n",
              "      <td>This is the top wine from La Bégude, named aft...</td>\n",
              "      <td>La Brûlade</td>\n",
              "      <td>95</td>\n",
              "      <td>66.0</td>\n",
              "      <td>Provence</td>\n",
              "      <td>Bandol</td>\n",
              "      <td>NaN</td>\n",
              "      <td>Provence red blend</td>\n",
              "      <td>Domaine de la Bégude</td>\n",
              "      <td>Europe</td>\n",
              "    </tr>\n",
              "    <tr>\n",
              "      <th>...</th>\n",
              "      <td>...</td>\n",
              "      <td>...</td>\n",
              "      <td>...</td>\n",
              "      <td>...</td>\n",
              "      <td>...</td>\n",
              "      <td>...</td>\n",
              "      <td>...</td>\n",
              "      <td>...</td>\n",
              "      <td>...</td>\n",
              "      <td>...</td>\n",
              "      <td>...</td>\n",
              "    </tr>\n",
              "    <tr>\n",
              "      <th>150925</th>\n",
              "      <td>Italy</td>\n",
              "      <td>Many people feel Fiano represents southern Ita...</td>\n",
              "      <td>NaN</td>\n",
              "      <td>91</td>\n",
              "      <td>20.0</td>\n",
              "      <td>Southern Italy</td>\n",
              "      <td>Fiano di Avellino</td>\n",
              "      <td>NaN</td>\n",
              "      <td>White Blend</td>\n",
              "      <td>Feudi di San Gregorio</td>\n",
              "      <td>Europe</td>\n",
              "    </tr>\n",
              "    <tr>\n",
              "      <th>150926</th>\n",
              "      <td>France</td>\n",
              "      <td>Offers an intriguing nose with ginger, lime an...</td>\n",
              "      <td>Cuvée Prestige</td>\n",
              "      <td>91</td>\n",
              "      <td>27.0</td>\n",
              "      <td>Champagne</td>\n",
              "      <td>Champagne</td>\n",
              "      <td>NaN</td>\n",
              "      <td>Champagne Blend</td>\n",
              "      <td>H.Germain</td>\n",
              "      <td>Europe</td>\n",
              "    </tr>\n",
              "    <tr>\n",
              "      <th>150927</th>\n",
              "      <td>Italy</td>\n",
              "      <td>This classic example comes from a cru vineyard...</td>\n",
              "      <td>Terre di Dora</td>\n",
              "      <td>91</td>\n",
              "      <td>20.0</td>\n",
              "      <td>Southern Italy</td>\n",
              "      <td>Fiano di Avellino</td>\n",
              "      <td>NaN</td>\n",
              "      <td>White Blend</td>\n",
              "      <td>Terredora</td>\n",
              "      <td>Europe</td>\n",
              "    </tr>\n",
              "    <tr>\n",
              "      <th>150928</th>\n",
              "      <td>France</td>\n",
              "      <td>A perfect salmon shade, with scents of peaches...</td>\n",
              "      <td>Grand Brut Rosé</td>\n",
              "      <td>90</td>\n",
              "      <td>52.0</td>\n",
              "      <td>Champagne</td>\n",
              "      <td>Champagne</td>\n",
              "      <td>NaN</td>\n",
              "      <td>Champagne Blend</td>\n",
              "      <td>Gosset</td>\n",
              "      <td>Europe</td>\n",
              "    </tr>\n",
              "    <tr>\n",
              "      <th>150929</th>\n",
              "      <td>Italy</td>\n",
              "      <td>More Pinot Grigios should taste like this. A r...</td>\n",
              "      <td>NaN</td>\n",
              "      <td>90</td>\n",
              "      <td>15.0</td>\n",
              "      <td>Northeastern Italy</td>\n",
              "      <td>Alto Adige</td>\n",
              "      <td>NaN</td>\n",
              "      <td>Pinot Grigio</td>\n",
              "      <td>Alois Lageder</td>\n",
              "      <td>Europe</td>\n",
              "    </tr>\n",
              "  </tbody>\n",
              "</table>\n",
              "<p>150930 rows × 11 columns</p>\n",
              "</div>\n",
              "      <button class=\"colab-df-convert\" onclick=\"convertToInteractive('df-42424863-3753-4fe5-bd90-2b33265df589')\"\n",
              "              title=\"Convert this dataframe to an interactive table.\"\n",
              "              style=\"display:none;\">\n",
              "        \n",
              "  <svg xmlns=\"http://www.w3.org/2000/svg\" height=\"24px\"viewBox=\"0 0 24 24\"\n",
              "       width=\"24px\">\n",
              "    <path d=\"M0 0h24v24H0V0z\" fill=\"none\"/>\n",
              "    <path d=\"M18.56 5.44l.94 2.06.94-2.06 2.06-.94-2.06-.94-.94-2.06-.94 2.06-2.06.94zm-11 1L8.5 8.5l.94-2.06 2.06-.94-2.06-.94L8.5 2.5l-.94 2.06-2.06.94zm10 10l.94 2.06.94-2.06 2.06-.94-2.06-.94-.94-2.06-.94 2.06-2.06.94z\"/><path d=\"M17.41 7.96l-1.37-1.37c-.4-.4-.92-.59-1.43-.59-.52 0-1.04.2-1.43.59L10.3 9.45l-7.72 7.72c-.78.78-.78 2.05 0 2.83L4 21.41c.39.39.9.59 1.41.59.51 0 1.02-.2 1.41-.59l7.78-7.78 2.81-2.81c.8-.78.8-2.07 0-2.86zM5.41 20L4 18.59l7.72-7.72 1.47 1.35L5.41 20z\"/>\n",
              "  </svg>\n",
              "      </button>\n",
              "      \n",
              "  <style>\n",
              "    .colab-df-container {\n",
              "      display:flex;\n",
              "      flex-wrap:wrap;\n",
              "      gap: 12px;\n",
              "    }\n",
              "\n",
              "    .colab-df-convert {\n",
              "      background-color: #E8F0FE;\n",
              "      border: none;\n",
              "      border-radius: 50%;\n",
              "      cursor: pointer;\n",
              "      display: none;\n",
              "      fill: #1967D2;\n",
              "      height: 32px;\n",
              "      padding: 0 0 0 0;\n",
              "      width: 32px;\n",
              "    }\n",
              "\n",
              "    .colab-df-convert:hover {\n",
              "      background-color: #E2EBFA;\n",
              "      box-shadow: 0px 1px 2px rgba(60, 64, 67, 0.3), 0px 1px 3px 1px rgba(60, 64, 67, 0.15);\n",
              "      fill: #174EA6;\n",
              "    }\n",
              "\n",
              "    [theme=dark] .colab-df-convert {\n",
              "      background-color: #3B4455;\n",
              "      fill: #D2E3FC;\n",
              "    }\n",
              "\n",
              "    [theme=dark] .colab-df-convert:hover {\n",
              "      background-color: #434B5C;\n",
              "      box-shadow: 0px 1px 3px 1px rgba(0, 0, 0, 0.15);\n",
              "      filter: drop-shadow(0px 1px 2px rgba(0, 0, 0, 0.3));\n",
              "      fill: #FFFFFF;\n",
              "    }\n",
              "  </style>\n",
              "\n",
              "      <script>\n",
              "        const buttonEl =\n",
              "          document.querySelector('#df-42424863-3753-4fe5-bd90-2b33265df589 button.colab-df-convert');\n",
              "        buttonEl.style.display =\n",
              "          google.colab.kernel.accessAllowed ? 'block' : 'none';\n",
              "\n",
              "        async function convertToInteractive(key) {\n",
              "          const element = document.querySelector('#df-42424863-3753-4fe5-bd90-2b33265df589');\n",
              "          const dataTable =\n",
              "            await google.colab.kernel.invokeFunction('convertToInteractive',\n",
              "                                                     [key], {});\n",
              "          if (!dataTable) return;\n",
              "\n",
              "          const docLinkHtml = 'Like what you see? Visit the ' +\n",
              "            '<a target=\"_blank\" href=https://colab.research.google.com/notebooks/data_table.ipynb>data table notebook</a>'\n",
              "            + ' to learn more about interactive tables.';\n",
              "          element.innerHTML = '';\n",
              "          dataTable['output_type'] = 'display_data';\n",
              "          await google.colab.output.renderOutput(dataTable, element);\n",
              "          const docLink = document.createElement('div');\n",
              "          docLink.innerHTML = docLinkHtml;\n",
              "          element.appendChild(docLink);\n",
              "        }\n",
              "      </script>\n",
              "    </div>\n",
              "  </div>\n",
              "  "
            ]
          },
          "metadata": {},
          "execution_count": 6
        }
      ]
    },
    {
      "cell_type": "code",
      "source": [
        "df = df.loc[df['continent'] == 'Africa&Oceania']\n",
        "df.info()"
      ],
      "metadata": {
        "colab": {
          "base_uri": "https://localhost:8080/",
          "height": 0
        },
        "id": "MN-4x000AWme",
        "outputId": "efb4ac86-a219-4ec2-b0b6-06d68d8e9395"
      },
      "execution_count": 7,
      "outputs": [
        {
          "output_type": "stream",
          "name": "stdout",
          "text": [
            "<class 'pandas.core.frame.DataFrame'>\n",
            "Int64Index: 10550 entries, 25 to 150854\n",
            "Data columns (total 11 columns):\n",
            " #   Column       Non-Null Count  Dtype  \n",
            "---  ------       --------------  -----  \n",
            " 0   country      10550 non-null  object \n",
            " 1   description  10550 non-null  object \n",
            " 2   designation  6139 non-null   object \n",
            " 3   points       10550 non-null  int64  \n",
            " 4   price        10213 non-null  float64\n",
            " 5   province     10550 non-null  object \n",
            " 6   region_1     4957 non-null   object \n",
            " 7   region_2     0 non-null      object \n",
            " 8   variety      10550 non-null  object \n",
            " 9   winery       10550 non-null  object \n",
            " 10  continent    10550 non-null  object \n",
            "dtypes: float64(1), int64(1), object(9)\n",
            "memory usage: 989.1+ KB\n"
          ]
        }
      ]
    },
    {
      "cell_type": "code",
      "source": [
        "del df['region_1']\n",
        "del df['region_2']\n",
        "df"
      ],
      "metadata": {
        "colab": {
          "base_uri": "https://localhost:8080/",
          "height": 423
        },
        "id": "SIvXOS6DAaWS",
        "outputId": "da4b76a8-339a-41c9-fa99-a3ed86c6543b"
      },
      "execution_count": 8,
      "outputs": [
        {
          "output_type": "execute_result",
          "data": {
            "text/plain": [
              "             country                                        description  \\\n",
              "25       New Zealand  Yields were down in 2015, but intensity is up,...   \n",
              "61         Australia  Moorooduc's estate Pinot Noir is a solid value...   \n",
              "114     South Africa  Muted aromas of tart gooseberry and lime peel ...   \n",
              "216          Morocco  Tones of black cherry, toffee, tobacco, tar an...   \n",
              "305      New Zealand  Yields were down in 2015, but intensity is up,...   \n",
              "...              ...                                                ...   \n",
              "150786     Australia  Nutty, toasty and tropical-fruit elements are ...   \n",
              "150801     Australia  This strongly-oaked wine has apple, lemon and ...   \n",
              "150810     Australia  Deep cassis aromas, a touch of licorice, and m...   \n",
              "150819     Australia  This defines mainstream, affordable Chardonnay...   \n",
              "150854     Australia  The tangy grapefruit, lemon and pear notes on ...   \n",
              "\n",
              "             designation  points  price         province              variety  \\\n",
              "25       Maté's Vineyard      94   57.0            Kumeu           Chardonnay   \n",
              "61                   NaN      91   36.0         Victoria           Pinot Noir   \n",
              "114         Circumstance      86   20.0     Stellenbosch      Sauvignon Blanc   \n",
              "216     Domaine Excelcio      93   35.0       Guerrouane       Syrah-Grenache   \n",
              "305      Maté's Vineyard      94   57.0            Kumeu           Chardonnay   \n",
              "...                  ...     ...    ...              ...                  ...   \n",
              "150786   Limited Release      90   38.0  South Australia           Chardonnay   \n",
              "150801           Reserve      88   16.0  South Australia           Chardonnay   \n",
              "150810               NaN      88   11.0  South Australia   Cabernet Sauvignon   \n",
              "150819               NaN      87   10.0  South Australia           Chardonnay   \n",
              "150854               NaN      85    8.0  South Australia  Semillon-Chardonnay   \n",
              "\n",
              "                winery       continent  \n",
              "25         Kumeu River  Africa&Oceania  \n",
              "61           Moorooduc  Africa&Oceania  \n",
              "114         Waterkloof  Africa&Oceania  \n",
              "216     Bernard Magrez  Africa&Oceania  \n",
              "305        Kumeu River  Africa&Oceania  \n",
              "...                ...             ...  \n",
              "150786   Jacob's Creek  Africa&Oceania  \n",
              "150801   Jacob's Creek  Africa&Oceania  \n",
              "150810   Jacob's Creek  Africa&Oceania  \n",
              "150819   Jacob's Creek  Africa&Oceania  \n",
              "150854   Jacob's Creek  Africa&Oceania  \n",
              "\n",
              "[10550 rows x 9 columns]"
            ],
            "text/html": [
              "\n",
              "  <div id=\"df-975f28ad-ddbe-43a0-8534-e8c4cfc7d130\">\n",
              "    <div class=\"colab-df-container\">\n",
              "      <div>\n",
              "<style scoped>\n",
              "    .dataframe tbody tr th:only-of-type {\n",
              "        vertical-align: middle;\n",
              "    }\n",
              "\n",
              "    .dataframe tbody tr th {\n",
              "        vertical-align: top;\n",
              "    }\n",
              "\n",
              "    .dataframe thead th {\n",
              "        text-align: right;\n",
              "    }\n",
              "</style>\n",
              "<table border=\"1\" class=\"dataframe\">\n",
              "  <thead>\n",
              "    <tr style=\"text-align: right;\">\n",
              "      <th></th>\n",
              "      <th>country</th>\n",
              "      <th>description</th>\n",
              "      <th>designation</th>\n",
              "      <th>points</th>\n",
              "      <th>price</th>\n",
              "      <th>province</th>\n",
              "      <th>variety</th>\n",
              "      <th>winery</th>\n",
              "      <th>continent</th>\n",
              "    </tr>\n",
              "  </thead>\n",
              "  <tbody>\n",
              "    <tr>\n",
              "      <th>25</th>\n",
              "      <td>New Zealand</td>\n",
              "      <td>Yields were down in 2015, but intensity is up,...</td>\n",
              "      <td>Maté's Vineyard</td>\n",
              "      <td>94</td>\n",
              "      <td>57.0</td>\n",
              "      <td>Kumeu</td>\n",
              "      <td>Chardonnay</td>\n",
              "      <td>Kumeu River</td>\n",
              "      <td>Africa&amp;Oceania</td>\n",
              "    </tr>\n",
              "    <tr>\n",
              "      <th>61</th>\n",
              "      <td>Australia</td>\n",
              "      <td>Moorooduc's estate Pinot Noir is a solid value...</td>\n",
              "      <td>NaN</td>\n",
              "      <td>91</td>\n",
              "      <td>36.0</td>\n",
              "      <td>Victoria</td>\n",
              "      <td>Pinot Noir</td>\n",
              "      <td>Moorooduc</td>\n",
              "      <td>Africa&amp;Oceania</td>\n",
              "    </tr>\n",
              "    <tr>\n",
              "      <th>114</th>\n",
              "      <td>South Africa</td>\n",
              "      <td>Muted aromas of tart gooseberry and lime peel ...</td>\n",
              "      <td>Circumstance</td>\n",
              "      <td>86</td>\n",
              "      <td>20.0</td>\n",
              "      <td>Stellenbosch</td>\n",
              "      <td>Sauvignon Blanc</td>\n",
              "      <td>Waterkloof</td>\n",
              "      <td>Africa&amp;Oceania</td>\n",
              "    </tr>\n",
              "    <tr>\n",
              "      <th>216</th>\n",
              "      <td>Morocco</td>\n",
              "      <td>Tones of black cherry, toffee, tobacco, tar an...</td>\n",
              "      <td>Domaine Excelcio</td>\n",
              "      <td>93</td>\n",
              "      <td>35.0</td>\n",
              "      <td>Guerrouane</td>\n",
              "      <td>Syrah-Grenache</td>\n",
              "      <td>Bernard Magrez</td>\n",
              "      <td>Africa&amp;Oceania</td>\n",
              "    </tr>\n",
              "    <tr>\n",
              "      <th>305</th>\n",
              "      <td>New Zealand</td>\n",
              "      <td>Yields were down in 2015, but intensity is up,...</td>\n",
              "      <td>Maté's Vineyard</td>\n",
              "      <td>94</td>\n",
              "      <td>57.0</td>\n",
              "      <td>Kumeu</td>\n",
              "      <td>Chardonnay</td>\n",
              "      <td>Kumeu River</td>\n",
              "      <td>Africa&amp;Oceania</td>\n",
              "    </tr>\n",
              "    <tr>\n",
              "      <th>...</th>\n",
              "      <td>...</td>\n",
              "      <td>...</td>\n",
              "      <td>...</td>\n",
              "      <td>...</td>\n",
              "      <td>...</td>\n",
              "      <td>...</td>\n",
              "      <td>...</td>\n",
              "      <td>...</td>\n",
              "      <td>...</td>\n",
              "    </tr>\n",
              "    <tr>\n",
              "      <th>150786</th>\n",
              "      <td>Australia</td>\n",
              "      <td>Nutty, toasty and tropical-fruit elements are ...</td>\n",
              "      <td>Limited Release</td>\n",
              "      <td>90</td>\n",
              "      <td>38.0</td>\n",
              "      <td>South Australia</td>\n",
              "      <td>Chardonnay</td>\n",
              "      <td>Jacob's Creek</td>\n",
              "      <td>Africa&amp;Oceania</td>\n",
              "    </tr>\n",
              "    <tr>\n",
              "      <th>150801</th>\n",
              "      <td>Australia</td>\n",
              "      <td>This strongly-oaked wine has apple, lemon and ...</td>\n",
              "      <td>Reserve</td>\n",
              "      <td>88</td>\n",
              "      <td>16.0</td>\n",
              "      <td>South Australia</td>\n",
              "      <td>Chardonnay</td>\n",
              "      <td>Jacob's Creek</td>\n",
              "      <td>Africa&amp;Oceania</td>\n",
              "    </tr>\n",
              "    <tr>\n",
              "      <th>150810</th>\n",
              "      <td>Australia</td>\n",
              "      <td>Deep cassis aromas, a touch of licorice, and m...</td>\n",
              "      <td>NaN</td>\n",
              "      <td>88</td>\n",
              "      <td>11.0</td>\n",
              "      <td>South Australia</td>\n",
              "      <td>Cabernet Sauvignon</td>\n",
              "      <td>Jacob's Creek</td>\n",
              "      <td>Africa&amp;Oceania</td>\n",
              "    </tr>\n",
              "    <tr>\n",
              "      <th>150819</th>\n",
              "      <td>Australia</td>\n",
              "      <td>This defines mainstream, affordable Chardonnay...</td>\n",
              "      <td>NaN</td>\n",
              "      <td>87</td>\n",
              "      <td>10.0</td>\n",
              "      <td>South Australia</td>\n",
              "      <td>Chardonnay</td>\n",
              "      <td>Jacob's Creek</td>\n",
              "      <td>Africa&amp;Oceania</td>\n",
              "    </tr>\n",
              "    <tr>\n",
              "      <th>150854</th>\n",
              "      <td>Australia</td>\n",
              "      <td>The tangy grapefruit, lemon and pear notes on ...</td>\n",
              "      <td>NaN</td>\n",
              "      <td>85</td>\n",
              "      <td>8.0</td>\n",
              "      <td>South Australia</td>\n",
              "      <td>Semillon-Chardonnay</td>\n",
              "      <td>Jacob's Creek</td>\n",
              "      <td>Africa&amp;Oceania</td>\n",
              "    </tr>\n",
              "  </tbody>\n",
              "</table>\n",
              "<p>10550 rows × 9 columns</p>\n",
              "</div>\n",
              "      <button class=\"colab-df-convert\" onclick=\"convertToInteractive('df-975f28ad-ddbe-43a0-8534-e8c4cfc7d130')\"\n",
              "              title=\"Convert this dataframe to an interactive table.\"\n",
              "              style=\"display:none;\">\n",
              "        \n",
              "  <svg xmlns=\"http://www.w3.org/2000/svg\" height=\"24px\"viewBox=\"0 0 24 24\"\n",
              "       width=\"24px\">\n",
              "    <path d=\"M0 0h24v24H0V0z\" fill=\"none\"/>\n",
              "    <path d=\"M18.56 5.44l.94 2.06.94-2.06 2.06-.94-2.06-.94-.94-2.06-.94 2.06-2.06.94zm-11 1L8.5 8.5l.94-2.06 2.06-.94-2.06-.94L8.5 2.5l-.94 2.06-2.06.94zm10 10l.94 2.06.94-2.06 2.06-.94-2.06-.94-.94-2.06-.94 2.06-2.06.94z\"/><path d=\"M17.41 7.96l-1.37-1.37c-.4-.4-.92-.59-1.43-.59-.52 0-1.04.2-1.43.59L10.3 9.45l-7.72 7.72c-.78.78-.78 2.05 0 2.83L4 21.41c.39.39.9.59 1.41.59.51 0 1.02-.2 1.41-.59l7.78-7.78 2.81-2.81c.8-.78.8-2.07 0-2.86zM5.41 20L4 18.59l7.72-7.72 1.47 1.35L5.41 20z\"/>\n",
              "  </svg>\n",
              "      </button>\n",
              "      \n",
              "  <style>\n",
              "    .colab-df-container {\n",
              "      display:flex;\n",
              "      flex-wrap:wrap;\n",
              "      gap: 12px;\n",
              "    }\n",
              "\n",
              "    .colab-df-convert {\n",
              "      background-color: #E8F0FE;\n",
              "      border: none;\n",
              "      border-radius: 50%;\n",
              "      cursor: pointer;\n",
              "      display: none;\n",
              "      fill: #1967D2;\n",
              "      height: 32px;\n",
              "      padding: 0 0 0 0;\n",
              "      width: 32px;\n",
              "    }\n",
              "\n",
              "    .colab-df-convert:hover {\n",
              "      background-color: #E2EBFA;\n",
              "      box-shadow: 0px 1px 2px rgba(60, 64, 67, 0.3), 0px 1px 3px 1px rgba(60, 64, 67, 0.15);\n",
              "      fill: #174EA6;\n",
              "    }\n",
              "\n",
              "    [theme=dark] .colab-df-convert {\n",
              "      background-color: #3B4455;\n",
              "      fill: #D2E3FC;\n",
              "    }\n",
              "\n",
              "    [theme=dark] .colab-df-convert:hover {\n",
              "      background-color: #434B5C;\n",
              "      box-shadow: 0px 1px 3px 1px rgba(0, 0, 0, 0.15);\n",
              "      filter: drop-shadow(0px 1px 2px rgba(0, 0, 0, 0.3));\n",
              "      fill: #FFFFFF;\n",
              "    }\n",
              "  </style>\n",
              "\n",
              "      <script>\n",
              "        const buttonEl =\n",
              "          document.querySelector('#df-975f28ad-ddbe-43a0-8534-e8c4cfc7d130 button.colab-df-convert');\n",
              "        buttonEl.style.display =\n",
              "          google.colab.kernel.accessAllowed ? 'block' : 'none';\n",
              "\n",
              "        async function convertToInteractive(key) {\n",
              "          const element = document.querySelector('#df-975f28ad-ddbe-43a0-8534-e8c4cfc7d130');\n",
              "          const dataTable =\n",
              "            await google.colab.kernel.invokeFunction('convertToInteractive',\n",
              "                                                     [key], {});\n",
              "          if (!dataTable) return;\n",
              "\n",
              "          const docLinkHtml = 'Like what you see? Visit the ' +\n",
              "            '<a target=\"_blank\" href=https://colab.research.google.com/notebooks/data_table.ipynb>data table notebook</a>'\n",
              "            + ' to learn more about interactive tables.';\n",
              "          element.innerHTML = '';\n",
              "          dataTable['output_type'] = 'display_data';\n",
              "          await google.colab.output.renderOutput(dataTable, element);\n",
              "          const docLink = document.createElement('div');\n",
              "          docLink.innerHTML = docLinkHtml;\n",
              "          element.appendChild(docLink);\n",
              "        }\n",
              "      </script>\n",
              "    </div>\n",
              "  </div>\n",
              "  "
            ]
          },
          "metadata": {},
          "execution_count": 8
        }
      ]
    },
    {
      "cell_type": "markdown",
      "metadata": {
        "id": "ChZQKfnkqE1j"
      },
      "source": [
        "Для дальнейшего анализа необходимо изучить данные. Создаем DataFrame (df) и с помощью метода .info() получаем детальную информацию о наборе данных в столбцах.  "
      ]
    },
    {
      "cell_type": "code",
      "execution_count": 9,
      "metadata": {
        "id": "cTR5ZQ6uVBp7",
        "outputId": "48b07cf2-d972-47c0-8ec5-e2cbd1433cd1",
        "colab": {
          "base_uri": "https://localhost:8080/",
          "height": 0
        }
      },
      "outputs": [
        {
          "output_type": "stream",
          "name": "stdout",
          "text": [
            "<class 'pandas.core.frame.DataFrame'>\n",
            "Int64Index: 10550 entries, 25 to 150854\n",
            "Data columns (total 9 columns):\n",
            " #   Column       Non-Null Count  Dtype  \n",
            "---  ------       --------------  -----  \n",
            " 0   country      10550 non-null  object \n",
            " 1   description  10550 non-null  object \n",
            " 2   designation  6139 non-null   object \n",
            " 3   points       10550 non-null  int64  \n",
            " 4   price        10213 non-null  float64\n",
            " 5   province     10550 non-null  object \n",
            " 6   variety      10550 non-null  object \n",
            " 7   winery       10550 non-null  object \n",
            " 8   continent    10550 non-null  object \n",
            "dtypes: float64(1), int64(1), object(7)\n",
            "memory usage: 824.2+ KB\n"
          ]
        }
      ],
      "source": [
        "df.info()"
      ]
    },
    {
      "cell_type": "markdown",
      "metadata": {
        "id": "emR89hrYVBp7"
      },
      "source": [
        "Мы видим, что количество значений в столбцах различается. Это говорит о том, что в данных есть пустые значения. \n",
        "\n",
        "Признак points и price числовые. \n"
      ]
    },
    {
      "cell_type": "code",
      "execution_count": 10,
      "metadata": {
        "id": "Xj2c18JqVBp8",
        "outputId": "25be2547-d867-45aa-e6d5-099dea698e72",
        "colab": {
          "base_uri": "https://localhost:8080/",
          "height": 361
        }
      },
      "outputs": [
        {
          "output_type": "display_data",
          "data": {
            "text/plain": [
              "<Figure size 432x288 with 2 Axes>"
            ],
            "image/png": "[encoded data removed]"
          },
          "metadata": {
            "needs_background": "light"
          }
        }
      ],
      "source": [
        "colours = ['#993366', '#FFFF00']\n",
        "sns.heatmap(df.isnull(), cmap=sns.color_palette(colours))\n",
        "# Decorations\n",
        "plt.title('Матрица пропущенных значений набора данных', fontsize=14)\n",
        "plt.xticks(fontsize=12)\n",
        "plt.yticks(fontsize=12)\n",
        "plt.figtext(0.5, -0.2, \"Рисунок 1. - Матрица пропущенных значений набора данных\")\n",
        "plt.show()"
      ]
    },
    {
      "cell_type": "code",
      "execution_count": 11,
      "metadata": {
        "id": "SJThXzVUVBp8",
        "colab": {
          "base_uri": "https://localhost:8080/",
          "height": 0
        },
        "outputId": "b064e63a-8429-46cb-de51-911bbed3bc7f"
      },
      "outputs": [
        {
          "output_type": "stream",
          "name": "stdout",
          "text": [
            "<class 'pandas.core.frame.DataFrame'>\n",
            "Int64Index: 10213 entries, 25 to 150854\n",
            "Data columns (total 9 columns):\n",
            " #   Column       Non-Null Count  Dtype  \n",
            "---  ------       --------------  -----  \n",
            " 0   country      10213 non-null  object \n",
            " 1   description  10213 non-null  object \n",
            " 2   designation  5903 non-null   object \n",
            " 3   points       10213 non-null  int64  \n",
            " 4   price        10213 non-null  float64\n",
            " 5   province     10213 non-null  object \n",
            " 6   variety      10213 non-null  object \n",
            " 7   winery       10213 non-null  object \n",
            " 8   continent    10213 non-null  object \n",
            "dtypes: float64(1), int64(1), object(7)\n",
            "memory usage: 797.9+ KB\n"
          ]
        }
      ],
      "source": [
        "df = df.dropna(subset = ['price']) #удаляем NAN в колонке 'price'\n",
        "df.info()"
      ]
    },
    {
      "cell_type": "markdown",
      "source": [
        "Нулевые значения в колонке designation удалять не будем, так как виноградник нам не важен."
      ],
      "metadata": {
        "id": "5zdCTQd4FSYL"
      }
    },
    {
      "cell_type": "code",
      "source": [
        "print(df['country'].unique())"
      ],
      "metadata": {
        "colab": {
          "base_uri": "https://localhost:8080/",
          "height": 0
        },
        "id": "AkcrR6zrKrDc",
        "outputId": "d0f441f5-5835-42af-f491-669547249a8e"
      },
      "execution_count": 12,
      "outputs": [
        {
          "output_type": "stream",
          "name": "stdout",
          "text": [
            "['New Zealand' 'Australia' 'South Africa' 'Morocco']\n"
          ]
        }
      ]
    },
    {
      "cell_type": "code",
      "source": [
        "print(df['points'].unique())"
      ],
      "metadata": {
        "colab": {
          "base_uri": "https://localhost:8080/",
          "height": 0
        },
        "outputId": "735a549e-2da9-4383-df3f-a8a8129a3bf8",
        "id": "vhapj2BVK47J"
      },
      "execution_count": 13,
      "outputs": [
        {
          "output_type": "stream",
          "name": "stdout",
          "text": [
            "[ 94  91  86  93  90  88  85  92  84  83  98  89  96  87  95  97  81  82\n",
            " 100  80]\n"
          ]
        }
      ]
    },
    {
      "cell_type": "code",
      "source": [
        "print(df['price'].unique())"
      ],
      "metadata": {
        "colab": {
          "base_uri": "https://localhost:8080/",
          "height": 0
        },
        "outputId": "db5c23e0-d78c-4aa6-88a4-be35f9b9e817",
        "id": "cfHa-82iLmvu"
      },
      "execution_count": 14,
      "outputs": [
        {
          "output_type": "stream",
          "name": "stdout",
          "text": [
            "[ 57.  36.  20.  35.  42.  11.  10.  16.  65.  22.  15.  25.  46.  33.\n",
            "  40.  63.   9.  18.  49.  34. 125.  17.  61. 150.  29.  28. 500. 200.\n",
            "  95. 185.  30.  90.  13.  55.  50. 120.  23.  54. 100.  26.  24.  19.\n",
            "  21.  75.  14.  83.  45.  43.  31.  12.  60.  51.  39.  85.  44.  62.\n",
            "  72.  37.  52. 850. 600. 225. 130. 105.  89.  84. 230.  69.  99.  27.\n",
            "  41.  32.  70. 138.  38. 122. 108.   7.  58.   6.   8.  53.  47. 300.\n",
            "  97. 140.   5. 109.  79.  56.  48.  80.  82.  66. 139.  86.  96.  78.\n",
            "  94. 145. 220. 550. 250. 110. 350. 165. 160.  88.  64. 400.  59.  74.\n",
            "  68.  67. 135. 190. 235. 175. 325. 102.  93. 625. 159.  73.]\n"
          ]
        }
      ]
    },
    {
      "cell_type": "code",
      "source": [
        "print(df['province'].unique())"
      ],
      "metadata": {
        "colab": {
          "base_uri": "https://localhost:8080/",
          "height": 0
        },
        "outputId": "93d3d9a0-b063-4c04-8a57-5d266a6c3e15",
        "id": "BFtAvbCeLnEH"
      },
      "execution_count": 15,
      "outputs": [
        {
          "output_type": "stream",
          "name": "stdout",
          "text": [
            "['Kumeu' 'Victoria' 'Stellenbosch' 'Guerrouane' 'Walker Bay'\n",
            " 'South Australia' 'Western Cape' 'Overberg' 'Robertson' 'Tasmania'\n",
            " 'Simonsberg-Paarl' 'Marlborough' 'Central Otago' 'Martinborough'\n",
            " 'South Africa' 'Zenata' 'Nelson' 'Morocco' \"Hawke's Bay\"\n",
            " 'Australia Other' 'Waipara' 'Western Australia' 'Awatere Valley'\n",
            " 'New South Wales' 'New Zealand' 'Gisborne' 'Swartland' 'Hemel en Aarde'\n",
            " 'Simonsberg-Stellenbosch' 'Tulbagh' 'Canterbury' 'Paarl' 'Coastal Region'\n",
            " 'Jonkershoek Valley' 'Elgin' 'Durbanville' 'Polkadraai Hills' 'Malgas'\n",
            " 'Omaka Valley' 'South Island' 'Bot River' 'Cederberg' 'Wellington'\n",
            " 'Breedekloof' 'Franschhoek' 'Constantia' 'Cape Agulhas' 'Klein River'\n",
            " 'Wairau Valley' 'Waiheke Island' 'Waipara Valley' 'Wairarapa' 'Darling'\n",
            " 'Tradouw' 'Philadelphia' 'East Coast' 'Groenekloof' 'Eilandia'\n",
            " 'Queensland' 'North Island' 'Eastern Bays' 'Marlborough & Hawkes Bay'\n",
            " 'Ohiti Valley' 'Moutere' 'Cape South Coast' 'Central Otago-Marlborough'\n",
            " 'Northern Cape' 'Breede River Valley' 'Lutzville Valley' 'Elim'\n",
            " 'Martinborough Terrace' \"Beni M'Tir\" 'Stirling']\n"
          ]
        }
      ]
    },
    {
      "cell_type": "code",
      "source": [
        "print(df['variety'].unique())"
      ],
      "metadata": {
        "colab": {
          "base_uri": "https://localhost:8080/",
          "height": 0
        },
        "outputId": "32edf08c-38d4-4190-cb70-84e9180d9027",
        "id": "3SkNYL8KLnOG"
      },
      "execution_count": 16,
      "outputs": [
        {
          "output_type": "stream",
          "name": "stdout",
          "text": [
            "['Chardonnay' 'Pinot Noir' 'Sauvignon Blanc' 'Syrah-Grenache' 'Shiraz'\n",
            " 'Chenin Blanc' 'Riesling' 'Syrah' 'Marsanne' 'Rosé' 'Cabernet-Shiraz'\n",
            " 'Red Blend' 'Champagne Blend' 'Cabernet Sauvignon' 'Grenache'\n",
            " 'Sparkling Blend' 'Cabernet Sauvignon-Shiraz' 'Pinot Gris' 'White Blend'\n",
            " 'Gewürztraminer' 'Cabernet Sauvignon Grenache' 'Bordeaux-style Red Blend'\n",
            " 'Sémillon' 'Shiraz-Viognier' 'Sauvignon Blanc-Semillon'\n",
            " 'Rhône-style Red Blend' 'Pinot Grigio' 'Rhône-style White Blend'\n",
            " 'Shiraz-Grenache' 'Viognier' 'Viognier-Marsanne' 'Pinotage'\n",
            " 'Chardonnay-Semillon' 'Merlot' 'Cabernet Merlot' 'Syrah-Viognier'\n",
            " 'Verdelho' 'Merlot-Cabernet Sauvignon' 'Steen'\n",
            " 'Chenin Blanc-Sauvignon Blanc' 'Shiraz-Cabernet Sauvignon'\n",
            " 'Cabernet Blend' 'Chenin Blanc-Viognier' 'Petit Verdot' 'G-S-M'\n",
            " 'Grenache-Shiraz' 'Cabernet Sauvignon-Merlot' 'Grenache-Syrah'\n",
            " 'Cabernet Sauvignon-Malbec' 'Moscato' 'Chardonnay-Viognier'\n",
            " 'Shiraz-Pinotage' 'Muscat' 'Tokay' 'Muscadel' 'Port'\n",
            " 'Semillon-Sauvignon Blanc' 'Syrah-Mourvèdre'\n",
            " 'Cabernet Sauvignon-Merlot-Shiraz' 'Sauvignon Blanc-Chenin Blanc'\n",
            " 'Mourvèdre' 'Savagnin' 'Shiraz-Mourvèdre' 'Sauvignon Blanc-Chardonnay'\n",
            " 'Muscadelle' 'Cabernet Sauvignon-Sangiovese' 'Sangiovese' 'Roussanne'\n",
            " 'Malbec' 'Muscat Blanc' 'Merlot-Cabernet' 'Bukettraube' 'Tempranillo'\n",
            " 'Syrah-Cabernet' 'Meritage' 'Cabernet Sauvignon-Cabernet Franc'\n",
            " 'Cabernet Franc' 'Merlot-Cabernet Franc' \"Muscat d'Alexandrie\" 'Mataro'\n",
            " 'Petite Sirah' 'Sauvignon' 'Cabernet' 'Zinfandel' 'Durif' 'Malbec-Merlot'\n",
            " 'Fumé Blanc' 'Semillon-Chardonnay' 'Shiraz-Malbec'\n",
            " 'Viognier-Grenache Blanc' 'Merlot-Shiraz' 'Pinotage-Merlot' 'Vermentino'\n",
            " 'Saperavi' 'Muscat of Alexandria' 'Muscat Blanc à Petit Grain'\n",
            " 'Chenin Blanc-Chardonnay' 'Muscat Hamburg' 'Colombard' 'Merlot-Malbec'\n",
            " 'Bordeaux-style White Blend' 'Morio Muskat' 'Tannat' 'Carnelian'\n",
            " 'Nebbiolo']\n"
          ]
        }
      ]
    },
    {
      "cell_type": "code",
      "source": [
        "print(df['winery'].unique())"
      ],
      "metadata": {
        "colab": {
          "base_uri": "https://localhost:8080/",
          "height": 0
        },
        "id": "YZJcSE4rMFJ0",
        "outputId": "bc98a394-ede2-4a49-e43e-e3e320782529"
      },
      "execution_count": 17,
      "outputs": [
        {
          "output_type": "stream",
          "name": "stdout",
          "text": [
            "['Kumeu River' 'Moorooduc' 'Waterkloof' ... 'Screwed' 'Red Bucket'\n",
            " 'White Knot']\n"
          ]
        }
      ]
    },
    {
      "cell_type": "markdown",
      "metadata": {
        "id": "1Ui0Df9ylYt-"
      },
      "source": [
        "Вывод:\n",
        "\n",
        "*   Предобработка выполнена.\n",
        "*   Были выгружены данные.\n",
        "*   Удалены пустые строчки.\n",
        "*   Колонки типа object: country, description, designation, province, variety, winery, continent. Колонки типа int64: points. Колонки типа float64: price."
      ]
    },
    {
      "cell_type": "markdown",
      "metadata": {
        "id": "VPfNOLrXVBp8"
      },
      "source": [
        "# 2. Исследовательский анализ данных\n",
        "Исследовательский анализ данных включает в себя выполнение следующих этапов:\n",
        "* Найти популярные сорта по регионам.\n",
        "* Выбрать сорта вина с наибольшей стоимостью. Для каждого региона найти среднюю цену вина.\n",
        "* Определить популярные сорта вина в бюджетном сегменте.\n",
        "* Определить, какие сорта вина лидируют по рейтингам. \n",
        "* Построить график «ящик с усами» по рейтингам, выполнив категоризацию по странам, по сортам вина.\n",
        "* Выявить закономерность влияния  рейтинга вина на его цену. Построить диаграмму рассеяния и посчитать корреляцию. \n"
      ]
    },
    {
      "cell_type": "code",
      "source": [
        "df.describe(include=[np.number])"
      ],
      "metadata": {
        "colab": {
          "base_uri": "https://localhost:8080/",
          "height": 300
        },
        "id": "k6bUFwvlBXG0",
        "outputId": "0f2fd925-5f3c-4e20-af19-f03f9015fd41"
      },
      "execution_count": 18,
      "outputs": [
        {
          "output_type": "execute_result",
          "data": {
            "text/plain": [
              "             points         price\n",
              "count  10213.000000  10213.000000\n",
              "mean      87.633213     26.895721\n",
              "std        2.706892     29.114436\n",
              "min       80.000000      5.000000\n",
              "25%       86.000000     15.000000\n",
              "50%       88.000000     20.000000\n",
              "75%       90.000000     30.000000\n",
              "max      100.000000    850.000000"
            ],
            "text/html": [
              "\n",
              "  <div id=\"df-48654a20-0157-4fde-95d1-055279795cda\">\n",
              "    <div class=\"colab-df-container\">\n",
              "      <div>\n",
              "<style scoped>\n",
              "    .dataframe tbody tr th:only-of-type {\n",
              "        vertical-align: middle;\n",
              "    }\n",
              "\n",
              "    .dataframe tbody tr th {\n",
              "        vertical-align: top;\n",
              "    }\n",
              "\n",
              "    .dataframe thead th {\n",
              "        text-align: right;\n",
              "    }\n",
              "</style>\n",
              "<table border=\"1\" class=\"dataframe\">\n",
              "  <thead>\n",
              "    <tr style=\"text-align: right;\">\n",
              "      <th></th>\n",
              "      <th>points</th>\n",
              "      <th>price</th>\n",
              "    </tr>\n",
              "  </thead>\n",
              "  <tbody>\n",
              "    <tr>\n",
              "      <th>count</th>\n",
              "      <td>10213.000000</td>\n",
              "      <td>10213.000000</td>\n",
              "    </tr>\n",
              "    <tr>\n",
              "      <th>mean</th>\n",
              "      <td>87.633213</td>\n",
              "      <td>26.895721</td>\n",
              "    </tr>\n",
              "    <tr>\n",
              "      <th>std</th>\n",
              "      <td>2.706892</td>\n",
              "      <td>29.114436</td>\n",
              "    </tr>\n",
              "    <tr>\n",
              "      <th>min</th>\n",
              "      <td>80.000000</td>\n",
              "      <td>5.000000</td>\n",
              "    </tr>\n",
              "    <tr>\n",
              "      <th>25%</th>\n",
              "      <td>86.000000</td>\n",
              "      <td>15.000000</td>\n",
              "    </tr>\n",
              "    <tr>\n",
              "      <th>50%</th>\n",
              "      <td>88.000000</td>\n",
              "      <td>20.000000</td>\n",
              "    </tr>\n",
              "    <tr>\n",
              "      <th>75%</th>\n",
              "      <td>90.000000</td>\n",
              "      <td>30.000000</td>\n",
              "    </tr>\n",
              "    <tr>\n",
              "      <th>max</th>\n",
              "      <td>100.000000</td>\n",
              "      <td>850.000000</td>\n",
              "    </tr>\n",
              "  </tbody>\n",
              "</table>\n",
              "</div>\n",
              "      <button class=\"colab-df-convert\" onclick=\"convertToInteractive('df-48654a20-0157-4fde-95d1-055279795cda')\"\n",
              "              title=\"Convert this dataframe to an interactive table.\"\n",
              "              style=\"display:none;\">\n",
              "        \n",
              "  <svg xmlns=\"http://www.w3.org/2000/svg\" height=\"24px\"viewBox=\"0 0 24 24\"\n",
              "       width=\"24px\">\n",
              "    <path d=\"M0 0h24v24H0V0z\" fill=\"none\"/>\n",
              "    <path d=\"M18.56 5.44l.94 2.06.94-2.06 2.06-.94-2.06-.94-.94-2.06-.94 2.06-2.06.94zm-11 1L8.5 8.5l.94-2.06 2.06-.94-2.06-.94L8.5 2.5l-.94 2.06-2.06.94zm10 10l.94 2.06.94-2.06 2.06-.94-2.06-.94-.94-2.06-.94 2.06-2.06.94z\"/><path d=\"M17.41 7.96l-1.37-1.37c-.4-.4-.92-.59-1.43-.59-.52 0-1.04.2-1.43.59L10.3 9.45l-7.72 7.72c-.78.78-.78 2.05 0 2.83L4 21.41c.39.39.9.59 1.41.59.51 0 1.02-.2 1.41-.59l7.78-7.78 2.81-2.81c.8-.78.8-2.07 0-2.86zM5.41 20L4 18.59l7.72-7.72 1.47 1.35L5.41 20z\"/>\n",
              "  </svg>\n",
              "      </button>\n",
              "      \n",
              "  <style>\n",
              "    .colab-df-container {\n",
              "      display:flex;\n",
              "      flex-wrap:wrap;\n",
              "      gap: 12px;\n",
              "    }\n",
              "\n",
              "    .colab-df-convert {\n",
              "      background-color: #E8F0FE;\n",
              "      border: none;\n",
              "      border-radius: 50%;\n",
              "      cursor: pointer;\n",
              "      display: none;\n",
              "      fill: #1967D2;\n",
              "      height: 32px;\n",
              "      padding: 0 0 0 0;\n",
              "      width: 32px;\n",
              "    }\n",
              "\n",
              "    .colab-df-convert:hover {\n",
              "      background-color: #E2EBFA;\n",
              "      box-shadow: 0px 1px 2px rgba(60, 64, 67, 0.3), 0px 1px 3px 1px rgba(60, 64, 67, 0.15);\n",
              "      fill: #174EA6;\n",
              "    }\n",
              "\n",
              "    [theme=dark] .colab-df-convert {\n",
              "      background-color: #3B4455;\n",
              "      fill: #D2E3FC;\n",
              "    }\n",
              "\n",
              "    [theme=dark] .colab-df-convert:hover {\n",
              "      background-color: #434B5C;\n",
              "      box-shadow: 0px 1px 3px 1px rgba(0, 0, 0, 0.15);\n",
              "      filter: drop-shadow(0px 1px 2px rgba(0, 0, 0, 0.3));\n",
              "      fill: #FFFFFF;\n",
              "    }\n",
              "  </style>\n",
              "\n",
              "      <script>\n",
              "        const buttonEl =\n",
              "          document.querySelector('#df-48654a20-0157-4fde-95d1-055279795cda button.colab-df-convert');\n",
              "        buttonEl.style.display =\n",
              "          google.colab.kernel.accessAllowed ? 'block' : 'none';\n",
              "\n",
              "        async function convertToInteractive(key) {\n",
              "          const element = document.querySelector('#df-48654a20-0157-4fde-95d1-055279795cda');\n",
              "          const dataTable =\n",
              "            await google.colab.kernel.invokeFunction('convertToInteractive',\n",
              "                                                     [key], {});\n",
              "          if (!dataTable) return;\n",
              "\n",
              "          const docLinkHtml = 'Like what you see? Visit the ' +\n",
              "            '<a target=\"_blank\" href=https://colab.research.google.com/notebooks/data_table.ipynb>data table notebook</a>'\n",
              "            + ' to learn more about interactive tables.';\n",
              "          element.innerHTML = '';\n",
              "          dataTable['output_type'] = 'display_data';\n",
              "          await google.colab.output.renderOutput(dataTable, element);\n",
              "          const docLink = document.createElement('div');\n",
              "          docLink.innerHTML = docLinkHtml;\n",
              "          element.appendChild(docLink);\n",
              "        }\n",
              "      </script>\n",
              "    </div>\n",
              "  </div>\n",
              "  "
            ]
          },
          "metadata": {},
          "execution_count": 18
        }
      ]
    },
    {
      "cell_type": "markdown",
      "source": [
        "Среднее значение цены 26,9, медиана 20. Значит для анализа цены данные нужно выбирать, потому что они искажают результаты анализа данных"
      ],
      "metadata": {
        "id": "8l5sVCI5ILlT"
      }
    },
    {
      "cell_type": "code",
      "source": [
        "df.describe(include=[object])"
      ],
      "metadata": {
        "colab": {
          "base_uri": "https://localhost:8080/",
          "height": 175
        },
        "id": "kVWelzQfGdRb",
        "outputId": "8b9643d5-0acb-47db-b13d-b0fa9dbac596"
      },
      "execution_count": 19,
      "outputs": [
        {
          "output_type": "execute_result",
          "data": {
            "text/plain": [
              "          country                                        description  \\\n",
              "count       10213                                              10213   \n",
              "unique          4                                               6317   \n",
              "top     Australia  Although it starts out with woodsy scents, thi...   \n",
              "freq         4894                                                  4   \n",
              "\n",
              "       designation         province variety      winery       continent  \n",
              "count         5903            10213   10213       10213           10213  \n",
              "unique        1910               73     105        1162               1  \n",
              "top        Reserve  South Australia  Shiraz  D'Arenberg  Africa&Oceania  \n",
              "freq           229             2955    1668         153           10213  "
            ],
            "text/html": [
              "\n",
              "  <div id=\"df-2b99fd83-eda0-4747-9063-9a29320107a1\">\n",
              "    <div class=\"colab-df-container\">\n",
              "      <div>\n",
              "<style scoped>\n",
              "    .dataframe tbody tr th:only-of-type {\n",
              "        vertical-align: middle;\n",
              "    }\n",
              "\n",
              "    .dataframe tbody tr th {\n",
              "        vertical-align: top;\n",
              "    }\n",
              "\n",
              "    .dataframe thead th {\n",
              "        text-align: right;\n",
              "    }\n",
              "</style>\n",
              "<table border=\"1\" class=\"dataframe\">\n",
              "  <thead>\n",
              "    <tr style=\"text-align: right;\">\n",
              "      <th></th>\n",
              "      <th>country</th>\n",
              "      <th>description</th>\n",
              "      <th>designation</th>\n",
              "      <th>province</th>\n",
              "      <th>variety</th>\n",
              "      <th>winery</th>\n",
              "      <th>continent</th>\n",
              "    </tr>\n",
              "  </thead>\n",
              "  <tbody>\n",
              "    <tr>\n",
              "      <th>count</th>\n",
              "      <td>10213</td>\n",
              "      <td>10213</td>\n",
              "      <td>5903</td>\n",
              "      <td>10213</td>\n",
              "      <td>10213</td>\n",
              "      <td>10213</td>\n",
              "      <td>10213</td>\n",
              "    </tr>\n",
              "    <tr>\n",
              "      <th>unique</th>\n",
              "      <td>4</td>\n",
              "      <td>6317</td>\n",
              "      <td>1910</td>\n",
              "      <td>73</td>\n",
              "      <td>105</td>\n",
              "      <td>1162</td>\n",
              "      <td>1</td>\n",
              "    </tr>\n",
              "    <tr>\n",
              "      <th>top</th>\n",
              "      <td>Australia</td>\n",
              "      <td>Although it starts out with woodsy scents, thi...</td>\n",
              "      <td>Reserve</td>\n",
              "      <td>South Australia</td>\n",
              "      <td>Shiraz</td>\n",
              "      <td>D'Arenberg</td>\n",
              "      <td>Africa&amp;Oceania</td>\n",
              "    </tr>\n",
              "    <tr>\n",
              "      <th>freq</th>\n",
              "      <td>4894</td>\n",
              "      <td>4</td>\n",
              "      <td>229</td>\n",
              "      <td>2955</td>\n",
              "      <td>1668</td>\n",
              "      <td>153</td>\n",
              "      <td>10213</td>\n",
              "    </tr>\n",
              "  </tbody>\n",
              "</table>\n",
              "</div>\n",
              "      <button class=\"colab-df-convert\" onclick=\"convertToInteractive('df-2b99fd83-eda0-4747-9063-9a29320107a1')\"\n",
              "              title=\"Convert this dataframe to an interactive table.\"\n",
              "              style=\"display:none;\">\n",
              "        \n",
              "  <svg xmlns=\"http://www.w3.org/2000/svg\" height=\"24px\"viewBox=\"0 0 24 24\"\n",
              "       width=\"24px\">\n",
              "    <path d=\"M0 0h24v24H0V0z\" fill=\"none\"/>\n",
              "    <path d=\"M18.56 5.44l.94 2.06.94-2.06 2.06-.94-2.06-.94-.94-2.06-.94 2.06-2.06.94zm-11 1L8.5 8.5l.94-2.06 2.06-.94-2.06-.94L8.5 2.5l-.94 2.06-2.06.94zm10 10l.94 2.06.94-2.06 2.06-.94-2.06-.94-.94-2.06-.94 2.06-2.06.94z\"/><path d=\"M17.41 7.96l-1.37-1.37c-.4-.4-.92-.59-1.43-.59-.52 0-1.04.2-1.43.59L10.3 9.45l-7.72 7.72c-.78.78-.78 2.05 0 2.83L4 21.41c.39.39.9.59 1.41.59.51 0 1.02-.2 1.41-.59l7.78-7.78 2.81-2.81c.8-.78.8-2.07 0-2.86zM5.41 20L4 18.59l7.72-7.72 1.47 1.35L5.41 20z\"/>\n",
              "  </svg>\n",
              "      </button>\n",
              "      \n",
              "  <style>\n",
              "    .colab-df-container {\n",
              "      display:flex;\n",
              "      flex-wrap:wrap;\n",
              "      gap: 12px;\n",
              "    }\n",
              "\n",
              "    .colab-df-convert {\n",
              "      background-color: #E8F0FE;\n",
              "      border: none;\n",
              "      border-radius: 50%;\n",
              "      cursor: pointer;\n",
              "      display: none;\n",
              "      fill: #1967D2;\n",
              "      height: 32px;\n",
              "      padding: 0 0 0 0;\n",
              "      width: 32px;\n",
              "    }\n",
              "\n",
              "    .colab-df-convert:hover {\n",
              "      background-color: #E2EBFA;\n",
              "      box-shadow: 0px 1px 2px rgba(60, 64, 67, 0.3), 0px 1px 3px 1px rgba(60, 64, 67, 0.15);\n",
              "      fill: #174EA6;\n",
              "    }\n",
              "\n",
              "    [theme=dark] .colab-df-convert {\n",
              "      background-color: #3B4455;\n",
              "      fill: #D2E3FC;\n",
              "    }\n",
              "\n",
              "    [theme=dark] .colab-df-convert:hover {\n",
              "      background-color: #434B5C;\n",
              "      box-shadow: 0px 1px 3px 1px rgba(0, 0, 0, 0.15);\n",
              "      filter: drop-shadow(0px 1px 2px rgba(0, 0, 0, 0.3));\n",
              "      fill: #FFFFFF;\n",
              "    }\n",
              "  </style>\n",
              "\n",
              "      <script>\n",
              "        const buttonEl =\n",
              "          document.querySelector('#df-2b99fd83-eda0-4747-9063-9a29320107a1 button.colab-df-convert');\n",
              "        buttonEl.style.display =\n",
              "          google.colab.kernel.accessAllowed ? 'block' : 'none';\n",
              "\n",
              "        async function convertToInteractive(key) {\n",
              "          const element = document.querySelector('#df-2b99fd83-eda0-4747-9063-9a29320107a1');\n",
              "          const dataTable =\n",
              "            await google.colab.kernel.invokeFunction('convertToInteractive',\n",
              "                                                     [key], {});\n",
              "          if (!dataTable) return;\n",
              "\n",
              "          const docLinkHtml = 'Like what you see? Visit the ' +\n",
              "            '<a target=\"_blank\" href=https://colab.research.google.com/notebooks/data_table.ipynb>data table notebook</a>'\n",
              "            + ' to learn more about interactive tables.';\n",
              "          element.innerHTML = '';\n",
              "          dataTable['output_type'] = 'display_data';\n",
              "          await google.colab.output.renderOutput(dataTable, element);\n",
              "          const docLink = document.createElement('div');\n",
              "          docLink.innerHTML = docLinkHtml;\n",
              "          element.appendChild(docLink);\n",
              "        }\n",
              "      </script>\n",
              "    </div>\n",
              "  </div>\n",
              "  "
            ]
          },
          "metadata": {},
          "execution_count": 19
        }
      ]
    },
    {
      "cell_type": "markdown",
      "source": [
        "## 2.1 Найдем самые популярные сорта в Африке и Океании."
      ],
      "metadata": {
        "id": "8ssLSwomJxRq"
      }
    },
    {
      "cell_type": "code",
      "source": [
        "popular = df\n",
        "popular['count'] = popular['variety']\n",
        "popular = popular.groupby((['country', 'variety']), as_index = False)[['count']].count() \n",
        "popularsort = popular.sort_values(axis=0, by=['count'], ascending=False) \n",
        "popularsort['%'] = round((100*popularsort['count']/popularsort['count'].sum()), 2)\n",
        "popularsort.head()"
      ],
      "metadata": {
        "colab": {
          "base_uri": "https://localhost:8080/",
          "height": 315
        },
        "id": "xojdIzCcJ9Ro",
        "outputId": "922aaecb-e36a-4cec-a5eb-070dc6da35f3"
      },
      "execution_count": 20,
      "outputs": [
        {
          "output_type": "stream",
          "name": "stderr",
          "text": [
            "/usr/local/lib/python3.7/dist-packages/ipykernel_launcher.py:2: SettingWithCopyWarning: \n",
            "A value is trying to be set on a copy of a slice from a DataFrame.\n",
            "Try using .loc[row_indexer,col_indexer] = value instead\n",
            "\n",
            "See the caveats in the documentation: https://pandas.pydata.org/pandas-docs/stable/user_guide/indexing.html#returning-a-view-versus-a-copy\n",
            "  \n"
          ]
        },
        {
          "output_type": "execute_result",
          "data": {
            "text/plain": [
              "         country             variety  count      %\n",
              "61     Australia              Shiraz   1419  13.89\n",
              "111  New Zealand     Sauvignon Blanc   1085  10.62\n",
              "107  New Zealand          Pinot Noir    856   8.38\n",
              "14     Australia          Chardonnay    667   6.53\n",
              "5      Australia  Cabernet Sauvignon    642   6.29"
            ],
            "text/html": [
              "\n",
              "  <div id=\"df-c08ae66e-d94c-469d-9663-44f9c200170d\">\n",
              "    <div class=\"colab-df-container\">\n",
              "      <div>\n",
              "<style scoped>\n",
              "    .dataframe tbody tr th:only-of-type {\n",
              "        vertical-align: middle;\n",
              "    }\n",
              "\n",
              "    .dataframe tbody tr th {\n",
              "        vertical-align: top;\n",
              "    }\n",
              "\n",
              "    .dataframe thead th {\n",
              "        text-align: right;\n",
              "    }\n",
              "</style>\n",
              "<table border=\"1\" class=\"dataframe\">\n",
              "  <thead>\n",
              "    <tr style=\"text-align: right;\">\n",
              "      <th></th>\n",
              "      <th>country</th>\n",
              "      <th>variety</th>\n",
              "      <th>count</th>\n",
              "      <th>%</th>\n",
              "    </tr>\n",
              "  </thead>\n",
              "  <tbody>\n",
              "    <tr>\n",
              "      <th>61</th>\n",
              "      <td>Australia</td>\n",
              "      <td>Shiraz</td>\n",
              "      <td>1419</td>\n",
              "      <td>13.89</td>\n",
              "    </tr>\n",
              "    <tr>\n",
              "      <th>111</th>\n",
              "      <td>New Zealand</td>\n",
              "      <td>Sauvignon Blanc</td>\n",
              "      <td>1085</td>\n",
              "      <td>10.62</td>\n",
              "    </tr>\n",
              "    <tr>\n",
              "      <th>107</th>\n",
              "      <td>New Zealand</td>\n",
              "      <td>Pinot Noir</td>\n",
              "      <td>856</td>\n",
              "      <td>8.38</td>\n",
              "    </tr>\n",
              "    <tr>\n",
              "      <th>14</th>\n",
              "      <td>Australia</td>\n",
              "      <td>Chardonnay</td>\n",
              "      <td>667</td>\n",
              "      <td>6.53</td>\n",
              "    </tr>\n",
              "    <tr>\n",
              "      <th>5</th>\n",
              "      <td>Australia</td>\n",
              "      <td>Cabernet Sauvignon</td>\n",
              "      <td>642</td>\n",
              "      <td>6.29</td>\n",
              "    </tr>\n",
              "  </tbody>\n",
              "</table>\n",
              "</div>\n",
              "      <button class=\"colab-df-convert\" onclick=\"convertToInteractive('df-c08ae66e-d94c-469d-9663-44f9c200170d')\"\n",
              "              title=\"Convert this dataframe to an interactive table.\"\n",
              "              style=\"display:none;\">\n",
              "        \n",
              "  <svg xmlns=\"http://www.w3.org/2000/svg\" height=\"24px\"viewBox=\"0 0 24 24\"\n",
              "       width=\"24px\">\n",
              "    <path d=\"M0 0h24v24H0V0z\" fill=\"none\"/>\n",
              "    <path d=\"M18.56 5.44l.94 2.06.94-2.06 2.06-.94-2.06-.94-.94-2.06-.94 2.06-2.06.94zm-11 1L8.5 8.5l.94-2.06 2.06-.94-2.06-.94L8.5 2.5l-.94 2.06-2.06.94zm10 10l.94 2.06.94-2.06 2.06-.94-2.06-.94-.94-2.06-.94 2.06-2.06.94z\"/><path d=\"M17.41 7.96l-1.37-1.37c-.4-.4-.92-.59-1.43-.59-.52 0-1.04.2-1.43.59L10.3 9.45l-7.72 7.72c-.78.78-.78 2.05 0 2.83L4 21.41c.39.39.9.59 1.41.59.51 0 1.02-.2 1.41-.59l7.78-7.78 2.81-2.81c.8-.78.8-2.07 0-2.86zM5.41 20L4 18.59l7.72-7.72 1.47 1.35L5.41 20z\"/>\n",
              "  </svg>\n",
              "      </button>\n",
              "      \n",
              "  <style>\n",
              "    .colab-df-container {\n",
              "      display:flex;\n",
              "      flex-wrap:wrap;\n",
              "      gap: 12px;\n",
              "    }\n",
              "\n",
              "    .colab-df-convert {\n",
              "      background-color: #E8F0FE;\n",
              "      border: none;\n",
              "      border-radius: 50%;\n",
              "      cursor: pointer;\n",
              "      display: none;\n",
              "      fill: #1967D2;\n",
              "      height: 32px;\n",
              "      padding: 0 0 0 0;\n",
              "      width: 32px;\n",
              "    }\n",
              "\n",
              "    .colab-df-convert:hover {\n",
              "      background-color: #E2EBFA;\n",
              "      box-shadow: 0px 1px 2px rgba(60, 64, 67, 0.3), 0px 1px 3px 1px rgba(60, 64, 67, 0.15);\n",
              "      fill: #174EA6;\n",
              "    }\n",
              "\n",
              "    [theme=dark] .colab-df-convert {\n",
              "      background-color: #3B4455;\n",
              "      fill: #D2E3FC;\n",
              "    }\n",
              "\n",
              "    [theme=dark] .colab-df-convert:hover {\n",
              "      background-color: #434B5C;\n",
              "      box-shadow: 0px 1px 3px 1px rgba(0, 0, 0, 0.15);\n",
              "      filter: drop-shadow(0px 1px 2px rgba(0, 0, 0, 0.3));\n",
              "      fill: #FFFFFF;\n",
              "    }\n",
              "  </style>\n",
              "\n",
              "      <script>\n",
              "        const buttonEl =\n",
              "          document.querySelector('#df-c08ae66e-d94c-469d-9663-44f9c200170d button.colab-df-convert');\n",
              "        buttonEl.style.display =\n",
              "          google.colab.kernel.accessAllowed ? 'block' : 'none';\n",
              "\n",
              "        async function convertToInteractive(key) {\n",
              "          const element = document.querySelector('#df-c08ae66e-d94c-469d-9663-44f9c200170d');\n",
              "          const dataTable =\n",
              "            await google.colab.kernel.invokeFunction('convertToInteractive',\n",
              "                                                     [key], {});\n",
              "          if (!dataTable) return;\n",
              "\n",
              "          const docLinkHtml = 'Like what you see? Visit the ' +\n",
              "            '<a target=\"_blank\" href=https://colab.research.google.com/notebooks/data_table.ipynb>data table notebook</a>'\n",
              "            + ' to learn more about interactive tables.';\n",
              "          element.innerHTML = '';\n",
              "          dataTable['output_type'] = 'display_data';\n",
              "          await google.colab.output.renderOutput(dataTable, element);\n",
              "          const docLink = document.createElement('div');\n",
              "          docLink.innerHTML = docLinkHtml;\n",
              "          element.appendChild(docLink);\n",
              "        }\n",
              "      </script>\n",
              "    </div>\n",
              "  </div>\n",
              "  "
            ]
          },
          "metadata": {},
          "execution_count": 20
        }
      ]
    },
    {
      "cell_type": "markdown",
      "source": [
        "Наиболее популярные вина в Африке и Океании производятся в Австралии и Новой Зеландии и это сорта: Sauvignon Blanc, Chardonnay, Shiraz, Cabernet Sauvignon и Pinot Noir."
      ],
      "metadata": {
        "id": "5tSK37BKGISD"
      }
    },
    {
      "cell_type": "code",
      "source": [
        "popularsort.loc[(popularsort['country']==\"Morocco\") & (popularsort['count'])]"
      ],
      "metadata": {
        "colab": {
          "base_uri": "https://localhost:8080/",
          "height": 175
        },
        "id": "_ZRmoAAMJqwu",
        "outputId": "cf05f277-2fb5-49a7-9189-1f86af9765ea"
      },
      "execution_count": 21,
      "outputs": [
        {
          "output_type": "execute_result",
          "data": {
            "text/plain": [
              "    country                      variety  count     %\n",
              "81  Morocco                   Chardonnay      1  0.01\n",
              "80  Morocco  Cabernet Sauvignon Grenache      1  0.01\n",
              "83  Morocco              Sauvignon Blanc      1  0.01\n",
              "84  Morocco                       Shiraz      1  0.01"
            ],
            "text/html": [
              "\n",
              "  <div id=\"df-fab2abb0-a155-4bba-b9c2-ccf41598de43\">\n",
              "    <div class=\"colab-df-container\">\n",
              "      <div>\n",
              "<style scoped>\n",
              "    .dataframe tbody tr th:only-of-type {\n",
              "        vertical-align: middle;\n",
              "    }\n",
              "\n",
              "    .dataframe tbody tr th {\n",
              "        vertical-align: top;\n",
              "    }\n",
              "\n",
              "    .dataframe thead th {\n",
              "        text-align: right;\n",
              "    }\n",
              "</style>\n",
              "<table border=\"1\" class=\"dataframe\">\n",
              "  <thead>\n",
              "    <tr style=\"text-align: right;\">\n",
              "      <th></th>\n",
              "      <th>country</th>\n",
              "      <th>variety</th>\n",
              "      <th>count</th>\n",
              "      <th>%</th>\n",
              "    </tr>\n",
              "  </thead>\n",
              "  <tbody>\n",
              "    <tr>\n",
              "      <th>81</th>\n",
              "      <td>Morocco</td>\n",
              "      <td>Chardonnay</td>\n",
              "      <td>1</td>\n",
              "      <td>0.01</td>\n",
              "    </tr>\n",
              "    <tr>\n",
              "      <th>80</th>\n",
              "      <td>Morocco</td>\n",
              "      <td>Cabernet Sauvignon Grenache</td>\n",
              "      <td>1</td>\n",
              "      <td>0.01</td>\n",
              "    </tr>\n",
              "    <tr>\n",
              "      <th>83</th>\n",
              "      <td>Morocco</td>\n",
              "      <td>Sauvignon Blanc</td>\n",
              "      <td>1</td>\n",
              "      <td>0.01</td>\n",
              "    </tr>\n",
              "    <tr>\n",
              "      <th>84</th>\n",
              "      <td>Morocco</td>\n",
              "      <td>Shiraz</td>\n",
              "      <td>1</td>\n",
              "      <td>0.01</td>\n",
              "    </tr>\n",
              "  </tbody>\n",
              "</table>\n",
              "</div>\n",
              "      <button class=\"colab-df-convert\" onclick=\"convertToInteractive('df-fab2abb0-a155-4bba-b9c2-ccf41598de43')\"\n",
              "              title=\"Convert this dataframe to an interactive table.\"\n",
              "              style=\"display:none;\">\n",
              "        \n",
              "  <svg xmlns=\"http://www.w3.org/2000/svg\" height=\"24px\"viewBox=\"0 0 24 24\"\n",
              "       width=\"24px\">\n",
              "    <path d=\"M0 0h24v24H0V0z\" fill=\"none\"/>\n",
              "    <path d=\"M18.56 5.44l.94 2.06.94-2.06 2.06-.94-2.06-.94-.94-2.06-.94 2.06-2.06.94zm-11 1L8.5 8.5l.94-2.06 2.06-.94-2.06-.94L8.5 2.5l-.94 2.06-2.06.94zm10 10l.94 2.06.94-2.06 2.06-.94-2.06-.94-.94-2.06-.94 2.06-2.06.94z\"/><path d=\"M17.41 7.96l-1.37-1.37c-.4-.4-.92-.59-1.43-.59-.52 0-1.04.2-1.43.59L10.3 9.45l-7.72 7.72c-.78.78-.78 2.05 0 2.83L4 21.41c.39.39.9.59 1.41.59.51 0 1.02-.2 1.41-.59l7.78-7.78 2.81-2.81c.8-.78.8-2.07 0-2.86zM5.41 20L4 18.59l7.72-7.72 1.47 1.35L5.41 20z\"/>\n",
              "  </svg>\n",
              "      </button>\n",
              "      \n",
              "  <style>\n",
              "    .colab-df-container {\n",
              "      display:flex;\n",
              "      flex-wrap:wrap;\n",
              "      gap: 12px;\n",
              "    }\n",
              "\n",
              "    .colab-df-convert {\n",
              "      background-color: #E8F0FE;\n",
              "      border: none;\n",
              "      border-radius: 50%;\n",
              "      cursor: pointer;\n",
              "      display: none;\n",
              "      fill: #1967D2;\n",
              "      height: 32px;\n",
              "      padding: 0 0 0 0;\n",
              "      width: 32px;\n",
              "    }\n",
              "\n",
              "    .colab-df-convert:hover {\n",
              "      background-color: #E2EBFA;\n",
              "      box-shadow: 0px 1px 2px rgba(60, 64, 67, 0.3), 0px 1px 3px 1px rgba(60, 64, 67, 0.15);\n",
              "      fill: #174EA6;\n",
              "    }\n",
              "\n",
              "    [theme=dark] .colab-df-convert {\n",
              "      background-color: #3B4455;\n",
              "      fill: #D2E3FC;\n",
              "    }\n",
              "\n",
              "    [theme=dark] .colab-df-convert:hover {\n",
              "      background-color: #434B5C;\n",
              "      box-shadow: 0px 1px 3px 1px rgba(0, 0, 0, 0.15);\n",
              "      filter: drop-shadow(0px 1px 2px rgba(0, 0, 0, 0.3));\n",
              "      fill: #FFFFFF;\n",
              "    }\n",
              "  </style>\n",
              "\n",
              "      <script>\n",
              "        const buttonEl =\n",
              "          document.querySelector('#df-fab2abb0-a155-4bba-b9c2-ccf41598de43 button.colab-df-convert');\n",
              "        buttonEl.style.display =\n",
              "          google.colab.kernel.accessAllowed ? 'block' : 'none';\n",
              "\n",
              "        async function convertToInteractive(key) {\n",
              "          const element = document.querySelector('#df-fab2abb0-a155-4bba-b9c2-ccf41598de43');\n",
              "          const dataTable =\n",
              "            await google.colab.kernel.invokeFunction('convertToInteractive',\n",
              "                                                     [key], {});\n",
              "          if (!dataTable) return;\n",
              "\n",
              "          const docLinkHtml = 'Like what you see? Visit the ' +\n",
              "            '<a target=\"_blank\" href=https://colab.research.google.com/notebooks/data_table.ipynb>data table notebook</a>'\n",
              "            + ' to learn more about interactive tables.';\n",
              "          element.innerHTML = '';\n",
              "          dataTable['output_type'] = 'display_data';\n",
              "          await google.colab.output.renderOutput(dataTable, element);\n",
              "          const docLink = document.createElement('div');\n",
              "          docLink.innerHTML = docLinkHtml;\n",
              "          element.appendChild(docLink);\n",
              "        }\n",
              "      </script>\n",
              "    </div>\n",
              "  </div>\n",
              "  "
            ]
          },
          "metadata": {},
          "execution_count": 21
        }
      ]
    },
    {
      "cell_type": "markdown",
      "source": [
        "В Морокко выпускают 4 вида вин:Cabernet Sauvignon Grenache, Chardonnay, Sauvignon Blanc и Shiraz. И они же самые популярные."
      ],
      "metadata": {
        "id": "G6G7wkJwJrHk"
      }
    },
    {
      "cell_type": "code",
      "source": [
        "popularsort.loc[(popularsort['country']==\"South Africa\") & (popularsort['count'])].head(5)"
      ],
      "metadata": {
        "colab": {
          "base_uri": "https://localhost:8080/",
          "height": 206
        },
        "id": "kA4TDr1UthKL",
        "outputId": "03f34b61-bee3-44e7-91e2-fcb7f65abf06"
      },
      "execution_count": 22,
      "outputs": [
        {
          "output_type": "execute_result",
          "data": {
            "text/plain": [
              "          country                   variety  count     %\n",
              "126  South Africa        Cabernet Sauvignon    213  2.09\n",
              "156  South Africa                 Red Blend    205  2.01\n",
              "135  South Africa              Chenin Blanc    175  1.71\n",
              "121  South Africa  Bordeaux-style Red Blend    123  1.20\n",
              "178  South Africa               White Blend     67  0.66"
            ],
            "text/html": [
              "\n",
              "  <div id=\"df-aae35d12-099c-4aff-abd2-af4b292baf66\">\n",
              "    <div class=\"colab-df-container\">\n",
              "      <div>\n",
              "<style scoped>\n",
              "    .dataframe tbody tr th:only-of-type {\n",
              "        vertical-align: middle;\n",
              "    }\n",
              "\n",
              "    .dataframe tbody tr th {\n",
              "        vertical-align: top;\n",
              "    }\n",
              "\n",
              "    .dataframe thead th {\n",
              "        text-align: right;\n",
              "    }\n",
              "</style>\n",
              "<table border=\"1\" class=\"dataframe\">\n",
              "  <thead>\n",
              "    <tr style=\"text-align: right;\">\n",
              "      <th></th>\n",
              "      <th>country</th>\n",
              "      <th>variety</th>\n",
              "      <th>count</th>\n",
              "      <th>%</th>\n",
              "    </tr>\n",
              "  </thead>\n",
              "  <tbody>\n",
              "    <tr>\n",
              "      <th>126</th>\n",
              "      <td>South Africa</td>\n",
              "      <td>Cabernet Sauvignon</td>\n",
              "      <td>213</td>\n",
              "      <td>2.09</td>\n",
              "    </tr>\n",
              "    <tr>\n",
              "      <th>156</th>\n",
              "      <td>South Africa</td>\n",
              "      <td>Red Blend</td>\n",
              "      <td>205</td>\n",
              "      <td>2.01</td>\n",
              "    </tr>\n",
              "    <tr>\n",
              "      <th>135</th>\n",
              "      <td>South Africa</td>\n",
              "      <td>Chenin Blanc</td>\n",
              "      <td>175</td>\n",
              "      <td>1.71</td>\n",
              "    </tr>\n",
              "    <tr>\n",
              "      <th>121</th>\n",
              "      <td>South Africa</td>\n",
              "      <td>Bordeaux-style Red Blend</td>\n",
              "      <td>123</td>\n",
              "      <td>1.20</td>\n",
              "    </tr>\n",
              "    <tr>\n",
              "      <th>178</th>\n",
              "      <td>South Africa</td>\n",
              "      <td>White Blend</td>\n",
              "      <td>67</td>\n",
              "      <td>0.66</td>\n",
              "    </tr>\n",
              "  </tbody>\n",
              "</table>\n",
              "</div>\n",
              "      <button class=\"colab-df-convert\" onclick=\"convertToInteractive('df-aae35d12-099c-4aff-abd2-af4b292baf66')\"\n",
              "              title=\"Convert this dataframe to an interactive table.\"\n",
              "              style=\"display:none;\">\n",
              "        \n",
              "  <svg xmlns=\"http://www.w3.org/2000/svg\" height=\"24px\"viewBox=\"0 0 24 24\"\n",
              "       width=\"24px\">\n",
              "    <path d=\"M0 0h24v24H0V0z\" fill=\"none\"/>\n",
              "    <path d=\"M18.56 5.44l.94 2.06.94-2.06 2.06-.94-2.06-.94-.94-2.06-.94 2.06-2.06.94zm-11 1L8.5 8.5l.94-2.06 2.06-.94-2.06-.94L8.5 2.5l-.94 2.06-2.06.94zm10 10l.94 2.06.94-2.06 2.06-.94-2.06-.94-.94-2.06-.94 2.06-2.06.94z\"/><path d=\"M17.41 7.96l-1.37-1.37c-.4-.4-.92-.59-1.43-.59-.52 0-1.04.2-1.43.59L10.3 9.45l-7.72 7.72c-.78.78-.78 2.05 0 2.83L4 21.41c.39.39.9.59 1.41.59.51 0 1.02-.2 1.41-.59l7.78-7.78 2.81-2.81c.8-.78.8-2.07 0-2.86zM5.41 20L4 18.59l7.72-7.72 1.47 1.35L5.41 20z\"/>\n",
              "  </svg>\n",
              "      </button>\n",
              "      \n",
              "  <style>\n",
              "    .colab-df-container {\n",
              "      display:flex;\n",
              "      flex-wrap:wrap;\n",
              "      gap: 12px;\n",
              "    }\n",
              "\n",
              "    .colab-df-convert {\n",
              "      background-color: #E8F0FE;\n",
              "      border: none;\n",
              "      border-radius: 50%;\n",
              "      cursor: pointer;\n",
              "      display: none;\n",
              "      fill: #1967D2;\n",
              "      height: 32px;\n",
              "      padding: 0 0 0 0;\n",
              "      width: 32px;\n",
              "    }\n",
              "\n",
              "    .colab-df-convert:hover {\n",
              "      background-color: #E2EBFA;\n",
              "      box-shadow: 0px 1px 2px rgba(60, 64, 67, 0.3), 0px 1px 3px 1px rgba(60, 64, 67, 0.15);\n",
              "      fill: #174EA6;\n",
              "    }\n",
              "\n",
              "    [theme=dark] .colab-df-convert {\n",
              "      background-color: #3B4455;\n",
              "      fill: #D2E3FC;\n",
              "    }\n",
              "\n",
              "    [theme=dark] .colab-df-convert:hover {\n",
              "      background-color: #434B5C;\n",
              "      box-shadow: 0px 1px 3px 1px rgba(0, 0, 0, 0.15);\n",
              "      filter: drop-shadow(0px 1px 2px rgba(0, 0, 0, 0.3));\n",
              "      fill: #FFFFFF;\n",
              "    }\n",
              "  </style>\n",
              "\n",
              "      <script>\n",
              "        const buttonEl =\n",
              "          document.querySelector('#df-aae35d12-099c-4aff-abd2-af4b292baf66 button.colab-df-convert');\n",
              "        buttonEl.style.display =\n",
              "          google.colab.kernel.accessAllowed ? 'block' : 'none';\n",
              "\n",
              "        async function convertToInteractive(key) {\n",
              "          const element = document.querySelector('#df-aae35d12-099c-4aff-abd2-af4b292baf66');\n",
              "          const dataTable =\n",
              "            await google.colab.kernel.invokeFunction('convertToInteractive',\n",
              "                                                     [key], {});\n",
              "          if (!dataTable) return;\n",
              "\n",
              "          const docLinkHtml = 'Like what you see? Visit the ' +\n",
              "            '<a target=\"_blank\" href=https://colab.research.google.com/notebooks/data_table.ipynb>data table notebook</a>'\n",
              "            + ' to learn more about interactive tables.';\n",
              "          element.innerHTML = '';\n",
              "          dataTable['output_type'] = 'display_data';\n",
              "          await google.colab.output.renderOutput(dataTable, element);\n",
              "          const docLink = document.createElement('div');\n",
              "          docLink.innerHTML = docLinkHtml;\n",
              "          element.appendChild(docLink);\n",
              "        }\n",
              "      </script>\n",
              "    </div>\n",
              "  </div>\n",
              "  "
            ]
          },
          "metadata": {},
          "execution_count": 22
        }
      ]
    },
    {
      "cell_type": "markdown",
      "source": [
        "Наиболее популярные сорта вин в Южной Африке: Bordeaux-style Red Blend, Chenin Blanc, White Blend, Cabernet Sauvignon и Red Blend."
      ],
      "metadata": {
        "id": "rlw5R9x_t25C"
      }
    },
    {
      "cell_type": "markdown",
      "source": [
        "## 2.2 Выбрать сорта вина с наибольшей стоимостью. Для каждого региона найти среднюю цену вина."
      ],
      "metadata": {
        "id": "2Lt0Xiu6Gss7"
      }
    },
    {
      "cell_type": "code",
      "source": [
        "expensive = df.groupby((['country', 'variety', 'price']), as_index = False)['price'].max()\n",
        "expensivesort = expensive.sort_values(axis=0, by=['price'], ascending=False)\n",
        "expensivesort.head()"
      ],
      "metadata": {
        "colab": {
          "base_uri": "https://localhost:8080/",
          "height": 206
        },
        "id": "pUmzXzNrGtEL",
        "outputId": "0507d650-8429-438b-ed5f-2e5d517c4601"
      },
      "execution_count": 23,
      "outputs": [
        {
          "output_type": "execute_result",
          "data": {
            "text/plain": [
              "       country             variety  price\n",
              "698  Australia              Shiraz  850.0\n",
              "697  Australia              Shiraz  625.0\n",
              "696  Australia              Shiraz  600.0\n",
              "695  Australia              Shiraz  550.0\n",
              "106  Australia  Cabernet Sauvignon  500.0"
            ],
            "text/html": [
              "\n",
              "  <div id=\"df-a9b65b59-9807-41a5-9cb2-50c9025fcbdb\">\n",
              "    <div class=\"colab-df-container\">\n",
              "      <div>\n",
              "<style scoped>\n",
              "    .dataframe tbody tr th:only-of-type {\n",
              "        vertical-align: middle;\n",
              "    }\n",
              "\n",
              "    .dataframe tbody tr th {\n",
              "        vertical-align: top;\n",
              "    }\n",
              "\n",
              "    .dataframe thead th {\n",
              "        text-align: right;\n",
              "    }\n",
              "</style>\n",
              "<table border=\"1\" class=\"dataframe\">\n",
              "  <thead>\n",
              "    <tr style=\"text-align: right;\">\n",
              "      <th></th>\n",
              "      <th>country</th>\n",
              "      <th>variety</th>\n",
              "      <th>price</th>\n",
              "    </tr>\n",
              "  </thead>\n",
              "  <tbody>\n",
              "    <tr>\n",
              "      <th>698</th>\n",
              "      <td>Australia</td>\n",
              "      <td>Shiraz</td>\n",
              "      <td>850.0</td>\n",
              "    </tr>\n",
              "    <tr>\n",
              "      <th>697</th>\n",
              "      <td>Australia</td>\n",
              "      <td>Shiraz</td>\n",
              "      <td>625.0</td>\n",
              "    </tr>\n",
              "    <tr>\n",
              "      <th>696</th>\n",
              "      <td>Australia</td>\n",
              "      <td>Shiraz</td>\n",
              "      <td>600.0</td>\n",
              "    </tr>\n",
              "    <tr>\n",
              "      <th>695</th>\n",
              "      <td>Australia</td>\n",
              "      <td>Shiraz</td>\n",
              "      <td>550.0</td>\n",
              "    </tr>\n",
              "    <tr>\n",
              "      <th>106</th>\n",
              "      <td>Australia</td>\n",
              "      <td>Cabernet Sauvignon</td>\n",
              "      <td>500.0</td>\n",
              "    </tr>\n",
              "  </tbody>\n",
              "</table>\n",
              "</div>\n",
              "      <button class=\"colab-df-convert\" onclick=\"convertToInteractive('df-a9b65b59-9807-41a5-9cb2-50c9025fcbdb')\"\n",
              "              title=\"Convert this dataframe to an interactive table.\"\n",
              "              style=\"display:none;\">\n",
              "        \n",
              "  <svg xmlns=\"http://www.w3.org/2000/svg\" height=\"24px\"viewBox=\"0 0 24 24\"\n",
              "       width=\"24px\">\n",
              "    <path d=\"M0 0h24v24H0V0z\" fill=\"none\"/>\n",
              "    <path d=\"M18.56 5.44l.94 2.06.94-2.06 2.06-.94-2.06-.94-.94-2.06-.94 2.06-2.06.94zm-11 1L8.5 8.5l.94-2.06 2.06-.94-2.06-.94L8.5 2.5l-.94 2.06-2.06.94zm10 10l.94 2.06.94-2.06 2.06-.94-2.06-.94-.94-2.06-.94 2.06-2.06.94z\"/><path d=\"M17.41 7.96l-1.37-1.37c-.4-.4-.92-.59-1.43-.59-.52 0-1.04.2-1.43.59L10.3 9.45l-7.72 7.72c-.78.78-.78 2.05 0 2.83L4 21.41c.39.39.9.59 1.41.59.51 0 1.02-.2 1.41-.59l7.78-7.78 2.81-2.81c.8-.78.8-2.07 0-2.86zM5.41 20L4 18.59l7.72-7.72 1.47 1.35L5.41 20z\"/>\n",
              "  </svg>\n",
              "      </button>\n",
              "      \n",
              "  <style>\n",
              "    .colab-df-container {\n",
              "      display:flex;\n",
              "      flex-wrap:wrap;\n",
              "      gap: 12px;\n",
              "    }\n",
              "\n",
              "    .colab-df-convert {\n",
              "      background-color: #E8F0FE;\n",
              "      border: none;\n",
              "      border-radius: 50%;\n",
              "      cursor: pointer;\n",
              "      display: none;\n",
              "      fill: #1967D2;\n",
              "      height: 32px;\n",
              "      padding: 0 0 0 0;\n",
              "      width: 32px;\n",
              "    }\n",
              "\n",
              "    .colab-df-convert:hover {\n",
              "      background-color: #E2EBFA;\n",
              "      box-shadow: 0px 1px 2px rgba(60, 64, 67, 0.3), 0px 1px 3px 1px rgba(60, 64, 67, 0.15);\n",
              "      fill: #174EA6;\n",
              "    }\n",
              "\n",
              "    [theme=dark] .colab-df-convert {\n",
              "      background-color: #3B4455;\n",
              "      fill: #D2E3FC;\n",
              "    }\n",
              "\n",
              "    [theme=dark] .colab-df-convert:hover {\n",
              "      background-color: #434B5C;\n",
              "      box-shadow: 0px 1px 3px 1px rgba(0, 0, 0, 0.15);\n",
              "      filter: drop-shadow(0px 1px 2px rgba(0, 0, 0, 0.3));\n",
              "      fill: #FFFFFF;\n",
              "    }\n",
              "  </style>\n",
              "\n",
              "      <script>\n",
              "        const buttonEl =\n",
              "          document.querySelector('#df-a9b65b59-9807-41a5-9cb2-50c9025fcbdb button.colab-df-convert');\n",
              "        buttonEl.style.display =\n",
              "          google.colab.kernel.accessAllowed ? 'block' : 'none';\n",
              "\n",
              "        async function convertToInteractive(key) {\n",
              "          const element = document.querySelector('#df-a9b65b59-9807-41a5-9cb2-50c9025fcbdb');\n",
              "          const dataTable =\n",
              "            await google.colab.kernel.invokeFunction('convertToInteractive',\n",
              "                                                     [key], {});\n",
              "          if (!dataTable) return;\n",
              "\n",
              "          const docLinkHtml = 'Like what you see? Visit the ' +\n",
              "            '<a target=\"_blank\" href=https://colab.research.google.com/notebooks/data_table.ipynb>data table notebook</a>'\n",
              "            + ' to learn more about interactive tables.';\n",
              "          element.innerHTML = '';\n",
              "          dataTable['output_type'] = 'display_data';\n",
              "          await google.colab.output.renderOutput(dataTable, element);\n",
              "          const docLink = document.createElement('div');\n",
              "          docLink.innerHTML = docLinkHtml;\n",
              "          element.appendChild(docLink);\n",
              "        }\n",
              "      </script>\n",
              "    </div>\n",
              "  </div>\n",
              "  "
            ]
          },
          "metadata": {},
          "execution_count": 23
        }
      ]
    },
    {
      "cell_type": "markdown",
      "source": [
        "В Южной Африке и Океании самые дорогие вина: Shiraz и Cabernet Sauvignon"
      ],
      "metadata": {
        "id": "ABXx6f6VRtSu"
      }
    },
    {
      "cell_type": "code",
      "source": [
        "expensive.loc[(expensive['country']==\"Morocco\") & (expensive['price'])].mean()"
      ],
      "metadata": {
        "colab": {
          "base_uri": "https://localhost:8080/",
          "height": 0
        },
        "id": "J2cM1V-DSGw3",
        "outputId": "50fe7330-71a0-4009-8220-4f05b66999e7"
      },
      "execution_count": 24,
      "outputs": [
        {
          "output_type": "execute_result",
          "data": {
            "text/plain": [
              "price    19.181818\n",
              "dtype: float64"
            ]
          },
          "metadata": {},
          "execution_count": 24
        }
      ]
    },
    {
      "cell_type": "code",
      "source": [
        "expensive.loc[(expensive['country']==\"South Africa\") & (expensive['price'])].mean()"
      ],
      "metadata": {
        "colab": {
          "base_uri": "https://localhost:8080/",
          "height": 0
        },
        "id": "iI2yBCXESiJD",
        "outputId": "07e51c8b-8155-4701-9f79-fdc799e31f2c"
      },
      "execution_count": 25,
      "outputs": [
        {
          "output_type": "execute_result",
          "data": {
            "text/plain": [
              "price    27.167689\n",
              "dtype: float64"
            ]
          },
          "metadata": {},
          "execution_count": 25
        }
      ]
    },
    {
      "cell_type": "code",
      "source": [
        "expensive.loc[(expensive['country']==\"Australia\") & (expensive['price'])].mean()"
      ],
      "metadata": {
        "colab": {
          "base_uri": "https://localhost:8080/",
          "height": 0
        },
        "id": "xJceG4Gtuo8G",
        "outputId": "f8679825-2992-44f3-ca7d-a0a12408c540"
      },
      "execution_count": 26,
      "outputs": [
        {
          "output_type": "execute_result",
          "data": {
            "text/plain": [
              "price    42.844649\n",
              "dtype: float64"
            ]
          },
          "metadata": {},
          "execution_count": 26
        }
      ]
    },
    {
      "cell_type": "code",
      "source": [
        "expensive.loc[(expensive['country']==\"New Zealand\") & (expensive['price'])].mean()"
      ],
      "metadata": {
        "colab": {
          "base_uri": "https://localhost:8080/",
          "height": 0
        },
        "id": "fjWn4sbJupTJ",
        "outputId": "6ed50c29-a82c-4524-f029-e8ad90917389"
      },
      "execution_count": 27,
      "outputs": [
        {
          "output_type": "execute_result",
          "data": {
            "text/plain": [
              "price    32.996656\n",
              "dtype: float64"
            ]
          },
          "metadata": {},
          "execution_count": 27
        }
      ]
    },
    {
      "cell_type": "markdown",
      "source": [
        "Средняя цена вин Морокко 19.18, Южной Африки 27.17, Новой Зеландии 32.0, а в Австралии 42.84"
      ],
      "metadata": {
        "id": "6pkBg4gySgyA"
      }
    },
    {
      "cell_type": "markdown",
      "source": [
        "## 2.3 Определить популярные сорта вина в бюджетном сегменте."
      ],
      "metadata": {
        "id": "cOWMhOPnTAWo"
      }
    },
    {
      "cell_type": "markdown",
      "source": [
        "В Африке  и Океании представлены вина с высокими оценками и низкими ценами, поэтому бюджетным сегментом будем считать вина от 5 до 20$ (от минимума до медианы)."
      ],
      "metadata": {
        "id": "3wQSlADFTkCB"
      }
    },
    {
      "cell_type": "code",
      "source": [
        "pointscheap = df.loc[(df['price'] <= 20)].nlargest(5, 'points')\n",
        "pointscheap"
      ],
      "metadata": {
        "colab": {
          "base_uri": "https://localhost:8080/",
          "height": 250
        },
        "id": "1q3HPipJTHz_",
        "outputId": "c420b308-e962-4cca-ec57-ed0bc3f5d83e"
      },
      "execution_count": 28,
      "outputs": [
        {
          "output_type": "execute_result",
          "data": {
            "text/plain": [
              "             country                                        description  \\\n",
              "42669      Australia  Lovely dessert-style Riesling at an extremely ...   \n",
              "94809      Australia  Lovely dessert-style Riesling at an extremely ...   \n",
              "119769     Australia  Lovely dessert-style Riesling at an extremely ...   \n",
              "68126   South Africa  This big boy greets us with his deep ruby/blac...   \n",
              "131047  South Africa  This is a seriously impressive wine. Its black...   \n",
              "\n",
              "               designation  points  price         province  \\\n",
              "42669   The Noble Wrinkled      94   19.0  South Australia   \n",
              "94809   The Noble Wrinkled      94   19.0  South Australia   \n",
              "119769  The Noble Wrinkled      94   19.0  South Australia   \n",
              "68126                  NaN      93   15.0     Stellenbosch   \n",
              "131047                 NaN      93   20.0     Stellenbosch   \n",
              "\n",
              "                   variety      winery       continent               count  \n",
              "42669             Riesling  D'Arenberg  Africa&Oceania            Riesling  \n",
              "94809             Riesling  D'Arenberg  Africa&Oceania            Riesling  \n",
              "119769            Riesling  D'Arenberg  Africa&Oceania            Riesling  \n",
              "68126   Cabernet Sauvignon    Simonsig  Africa&Oceania  Cabernet Sauvignon  \n",
              "131047  Cabernet Sauvignon      Jardin  Africa&Oceania  Cabernet Sauvignon  "
            ],
            "text/html": [
              "\n",
              "  <div id=\"df-dc605d62-770c-4b73-81ca-52476f1f6bdc\">\n",
              "    <div class=\"colab-df-container\">\n",
              "      <div>\n",
              "<style scoped>\n",
              "    .dataframe tbody tr th:only-of-type {\n",
              "        vertical-align: middle;\n",
              "    }\n",
              "\n",
              "    .dataframe tbody tr th {\n",
              "        vertical-align: top;\n",
              "    }\n",
              "\n",
              "    .dataframe thead th {\n",
              "        text-align: right;\n",
              "    }\n",
              "</style>\n",
              "<table border=\"1\" class=\"dataframe\">\n",
              "  <thead>\n",
              "    <tr style=\"text-align: right;\">\n",
              "      <th></th>\n",
              "      <th>country</th>\n",
              "      <th>description</th>\n",
              "      <th>designation</th>\n",
              "      <th>points</th>\n",
              "      <th>price</th>\n",
              "      <th>province</th>\n",
              "      <th>variety</th>\n",
              "      <th>winery</th>\n",
              "      <th>continent</th>\n",
              "      <th>count</th>\n",
              "    </tr>\n",
              "  </thead>\n",
              "  <tbody>\n",
              "    <tr>\n",
              "      <th>42669</th>\n",
              "      <td>Australia</td>\n",
              "      <td>Lovely dessert-style Riesling at an extremely ...</td>\n",
              "      <td>The Noble Wrinkled</td>\n",
              "      <td>94</td>\n",
              "      <td>19.0</td>\n",
              "      <td>South Australia</td>\n",
              "      <td>Riesling</td>\n",
              "      <td>D'Arenberg</td>\n",
              "      <td>Africa&amp;Oceania</td>\n",
              "      <td>Riesling</td>\n",
              "    </tr>\n",
              "    <tr>\n",
              "      <th>94809</th>\n",
              "      <td>Australia</td>\n",
              "      <td>Lovely dessert-style Riesling at an extremely ...</td>\n",
              "      <td>The Noble Wrinkled</td>\n",
              "      <td>94</td>\n",
              "      <td>19.0</td>\n",
              "      <td>South Australia</td>\n",
              "      <td>Riesling</td>\n",
              "      <td>D'Arenberg</td>\n",
              "      <td>Africa&amp;Oceania</td>\n",
              "      <td>Riesling</td>\n",
              "    </tr>\n",
              "    <tr>\n",
              "      <th>119769</th>\n",
              "      <td>Australia</td>\n",
              "      <td>Lovely dessert-style Riesling at an extremely ...</td>\n",
              "      <td>The Noble Wrinkled</td>\n",
              "      <td>94</td>\n",
              "      <td>19.0</td>\n",
              "      <td>South Australia</td>\n",
              "      <td>Riesling</td>\n",
              "      <td>D'Arenberg</td>\n",
              "      <td>Africa&amp;Oceania</td>\n",
              "      <td>Riesling</td>\n",
              "    </tr>\n",
              "    <tr>\n",
              "      <th>68126</th>\n",
              "      <td>South Africa</td>\n",
              "      <td>This big boy greets us with his deep ruby/blac...</td>\n",
              "      <td>NaN</td>\n",
              "      <td>93</td>\n",
              "      <td>15.0</td>\n",
              "      <td>Stellenbosch</td>\n",
              "      <td>Cabernet Sauvignon</td>\n",
              "      <td>Simonsig</td>\n",
              "      <td>Africa&amp;Oceania</td>\n",
              "      <td>Cabernet Sauvignon</td>\n",
              "    </tr>\n",
              "    <tr>\n",
              "      <th>131047</th>\n",
              "      <td>South Africa</td>\n",
              "      <td>This is a seriously impressive wine. Its black...</td>\n",
              "      <td>NaN</td>\n",
              "      <td>93</td>\n",
              "      <td>20.0</td>\n",
              "      <td>Stellenbosch</td>\n",
              "      <td>Cabernet Sauvignon</td>\n",
              "      <td>Jardin</td>\n",
              "      <td>Africa&amp;Oceania</td>\n",
              "      <td>Cabernet Sauvignon</td>\n",
              "    </tr>\n",
              "  </tbody>\n",
              "</table>\n",
              "</div>\n",
              "      <button class=\"colab-df-convert\" onclick=\"convertToInteractive('df-dc605d62-770c-4b73-81ca-52476f1f6bdc')\"\n",
              "              title=\"Convert this dataframe to an interactive table.\"\n",
              "              style=\"display:none;\">\n",
              "        \n",
              "  <svg xmlns=\"http://www.w3.org/2000/svg\" height=\"24px\"viewBox=\"0 0 24 24\"\n",
              "       width=\"24px\">\n",
              "    <path d=\"M0 0h24v24H0V0z\" fill=\"none\"/>\n",
              "    <path d=\"M18.56 5.44l.94 2.06.94-2.06 2.06-.94-2.06-.94-.94-2.06-.94 2.06-2.06.94zm-11 1L8.5 8.5l.94-2.06 2.06-.94-2.06-.94L8.5 2.5l-.94 2.06-2.06.94zm10 10l.94 2.06.94-2.06 2.06-.94-2.06-.94-.94-2.06-.94 2.06-2.06.94z\"/><path d=\"M17.41 7.96l-1.37-1.37c-.4-.4-.92-.59-1.43-.59-.52 0-1.04.2-1.43.59L10.3 9.45l-7.72 7.72c-.78.78-.78 2.05 0 2.83L4 21.41c.39.39.9.59 1.41.59.51 0 1.02-.2 1.41-.59l7.78-7.78 2.81-2.81c.8-.78.8-2.07 0-2.86zM5.41 20L4 18.59l7.72-7.72 1.47 1.35L5.41 20z\"/>\n",
              "  </svg>\n",
              "      </button>\n",
              "      \n",
              "  <style>\n",
              "    .colab-df-container {\n",
              "      display:flex;\n",
              "      flex-wrap:wrap;\n",
              "      gap: 12px;\n",
              "    }\n",
              "\n",
              "    .colab-df-convert {\n",
              "      background-color: #E8F0FE;\n",
              "      border: none;\n",
              "      border-radius: 50%;\n",
              "      cursor: pointer;\n",
              "      display: none;\n",
              "      fill: #1967D2;\n",
              "      height: 32px;\n",
              "      padding: 0 0 0 0;\n",
              "      width: 32px;\n",
              "    }\n",
              "\n",
              "    .colab-df-convert:hover {\n",
              "      background-color: #E2EBFA;\n",
              "      box-shadow: 0px 1px 2px rgba(60, 64, 67, 0.3), 0px 1px 3px 1px rgba(60, 64, 67, 0.15);\n",
              "      fill: #174EA6;\n",
              "    }\n",
              "\n",
              "    [theme=dark] .colab-df-convert {\n",
              "      background-color: #3B4455;\n",
              "      fill: #D2E3FC;\n",
              "    }\n",
              "\n",
              "    [theme=dark] .colab-df-convert:hover {\n",
              "      background-color: #434B5C;\n",
              "      box-shadow: 0px 1px 3px 1px rgba(0, 0, 0, 0.15);\n",
              "      filter: drop-shadow(0px 1px 2px rgba(0, 0, 0, 0.3));\n",
              "      fill: #FFFFFF;\n",
              "    }\n",
              "  </style>\n",
              "\n",
              "      <script>\n",
              "        const buttonEl =\n",
              "          document.querySelector('#df-dc605d62-770c-4b73-81ca-52476f1f6bdc button.colab-df-convert');\n",
              "        buttonEl.style.display =\n",
              "          google.colab.kernel.accessAllowed ? 'block' : 'none';\n",
              "\n",
              "        async function convertToInteractive(key) {\n",
              "          const element = document.querySelector('#df-dc605d62-770c-4b73-81ca-52476f1f6bdc');\n",
              "          const dataTable =\n",
              "            await google.colab.kernel.invokeFunction('convertToInteractive',\n",
              "                                                     [key], {});\n",
              "          if (!dataTable) return;\n",
              "\n",
              "          const docLinkHtml = 'Like what you see? Visit the ' +\n",
              "            '<a target=\"_blank\" href=https://colab.research.google.com/notebooks/data_table.ipynb>data table notebook</a>'\n",
              "            + ' to learn more about interactive tables.';\n",
              "          element.innerHTML = '';\n",
              "          dataTable['output_type'] = 'display_data';\n",
              "          await google.colab.output.renderOutput(dataTable, element);\n",
              "          const docLink = document.createElement('div');\n",
              "          docLink.innerHTML = docLinkHtml;\n",
              "          element.appendChild(docLink);\n",
              "        }\n",
              "      </script>\n",
              "    </div>\n",
              "  </div>\n",
              "  "
            ]
          },
          "metadata": {},
          "execution_count": 28
        }
      ]
    },
    {
      "cell_type": "markdown",
      "source": [
        "Наиболее популярны Riesling и Cabernet Sauvignon. Стоимостью 20, 19 и 15$."
      ],
      "metadata": {
        "id": "OdvGiAVw3CWJ"
      }
    },
    {
      "cell_type": "markdown",
      "source": [
        "## 2.4 Определить, какие сорта вина лидируют по рейтингам."
      ],
      "metadata": {
        "id": "DOcVB9m64-kz"
      }
    },
    {
      "cell_type": "code",
      "source": [
        "pointslarge = df.nlargest(5, 'points')\n",
        "pointslarge"
      ],
      "metadata": {
        "colab": {
          "base_uri": "https://localhost:8080/",
          "height": 206
        },
        "id": "c1uEIjWM5QDo",
        "outputId": "96eac46f-0233-436b-e967-6527e32e3967"
      },
      "execution_count": 29,
      "outputs": [
        {
          "output_type": "execute_result",
          "data": {
            "text/plain": [
              "          country                                        description  \\\n",
              "19355   Australia  Not a Cellar Selection in the traditional sens...   \n",
              "84035   Australia  Not a Cellar Selection in the traditional sens...   \n",
              "119195  Australia  Not a Cellar Selection in the traditional sens...   \n",
              "2148    Australia  Full-bodied and plush yet vibrant and imbued w...   \n",
              "10505   Australia  This has all the size and weight you've come t...   \n",
              "\n",
              "       designation  points  price         province variety  \\\n",
              "19355         Rare     100  300.0         Victoria  Muscat   \n",
              "84035         Rare     100  300.0         Victoria  Muscat   \n",
              "119195        Rare     100  300.0         Victoria  Muscat   \n",
              "2148    The Factor      98  125.0  South Australia  Shiraz   \n",
              "10505       Grange      98  850.0  South Australia  Shiraz   \n",
              "\n",
              "                             winery       continent   count  \n",
              "19355   Chambers Rosewood Vineyards  Africa&Oceania  Muscat  \n",
              "84035   Chambers Rosewood Vineyards  Africa&Oceania  Muscat  \n",
              "119195  Chambers Rosewood Vineyards  Africa&Oceania  Muscat  \n",
              "2148                       Torbreck  Africa&Oceania  Shiraz  \n",
              "10505                      Penfolds  Africa&Oceania  Shiraz  "
            ],
            "text/html": [
              "\n",
              "  <div id=\"df-9b809c66-b61d-4fb7-9ec7-8a34e14392cd\">\n",
              "    <div class=\"colab-df-container\">\n",
              "      <div>\n",
              "<style scoped>\n",
              "    .dataframe tbody tr th:only-of-type {\n",
              "        vertical-align: middle;\n",
              "    }\n",
              "\n",
              "    .dataframe tbody tr th {\n",
              "        vertical-align: top;\n",
              "    }\n",
              "\n",
              "    .dataframe thead th {\n",
              "        text-align: right;\n",
              "    }\n",
              "</style>\n",
              "<table border=\"1\" class=\"dataframe\">\n",
              "  <thead>\n",
              "    <tr style=\"text-align: right;\">\n",
              "      <th></th>\n",
              "      <th>country</th>\n",
              "      <th>description</th>\n",
              "      <th>designation</th>\n",
              "      <th>points</th>\n",
              "      <th>price</th>\n",
              "      <th>province</th>\n",
              "      <th>variety</th>\n",
              "      <th>winery</th>\n",
              "      <th>continent</th>\n",
              "      <th>count</th>\n",
              "    </tr>\n",
              "  </thead>\n",
              "  <tbody>\n",
              "    <tr>\n",
              "      <th>19355</th>\n",
              "      <td>Australia</td>\n",
              "      <td>Not a Cellar Selection in the traditional sens...</td>\n",
              "      <td>Rare</td>\n",
              "      <td>100</td>\n",
              "      <td>300.0</td>\n",
              "      <td>Victoria</td>\n",
              "      <td>Muscat</td>\n",
              "      <td>Chambers Rosewood Vineyards</td>\n",
              "      <td>Africa&amp;Oceania</td>\n",
              "      <td>Muscat</td>\n",
              "    </tr>\n",
              "    <tr>\n",
              "      <th>84035</th>\n",
              "      <td>Australia</td>\n",
              "      <td>Not a Cellar Selection in the traditional sens...</td>\n",
              "      <td>Rare</td>\n",
              "      <td>100</td>\n",
              "      <td>300.0</td>\n",
              "      <td>Victoria</td>\n",
              "      <td>Muscat</td>\n",
              "      <td>Chambers Rosewood Vineyards</td>\n",
              "      <td>Africa&amp;Oceania</td>\n",
              "      <td>Muscat</td>\n",
              "    </tr>\n",
              "    <tr>\n",
              "      <th>119195</th>\n",
              "      <td>Australia</td>\n",
              "      <td>Not a Cellar Selection in the traditional sens...</td>\n",
              "      <td>Rare</td>\n",
              "      <td>100</td>\n",
              "      <td>300.0</td>\n",
              "      <td>Victoria</td>\n",
              "      <td>Muscat</td>\n",
              "      <td>Chambers Rosewood Vineyards</td>\n",
              "      <td>Africa&amp;Oceania</td>\n",
              "      <td>Muscat</td>\n",
              "    </tr>\n",
              "    <tr>\n",
              "      <th>2148</th>\n",
              "      <td>Australia</td>\n",
              "      <td>Full-bodied and plush yet vibrant and imbued w...</td>\n",
              "      <td>The Factor</td>\n",
              "      <td>98</td>\n",
              "      <td>125.0</td>\n",
              "      <td>South Australia</td>\n",
              "      <td>Shiraz</td>\n",
              "      <td>Torbreck</td>\n",
              "      <td>Africa&amp;Oceania</td>\n",
              "      <td>Shiraz</td>\n",
              "    </tr>\n",
              "    <tr>\n",
              "      <th>10505</th>\n",
              "      <td>Australia</td>\n",
              "      <td>This has all the size and weight you've come t...</td>\n",
              "      <td>Grange</td>\n",
              "      <td>98</td>\n",
              "      <td>850.0</td>\n",
              "      <td>South Australia</td>\n",
              "      <td>Shiraz</td>\n",
              "      <td>Penfolds</td>\n",
              "      <td>Africa&amp;Oceania</td>\n",
              "      <td>Shiraz</td>\n",
              "    </tr>\n",
              "  </tbody>\n",
              "</table>\n",
              "</div>\n",
              "      <button class=\"colab-df-convert\" onclick=\"convertToInteractive('df-9b809c66-b61d-4fb7-9ec7-8a34e14392cd')\"\n",
              "              title=\"Convert this dataframe to an interactive table.\"\n",
              "              style=\"display:none;\">\n",
              "        \n",
              "  <svg xmlns=\"http://www.w3.org/2000/svg\" height=\"24px\"viewBox=\"0 0 24 24\"\n",
              "       width=\"24px\">\n",
              "    <path d=\"M0 0h24v24H0V0z\" fill=\"none\"/>\n",
              "    <path d=\"M18.56 5.44l.94 2.06.94-2.06 2.06-.94-2.06-.94-.94-2.06-.94 2.06-2.06.94zm-11 1L8.5 8.5l.94-2.06 2.06-.94-2.06-.94L8.5 2.5l-.94 2.06-2.06.94zm10 10l.94 2.06.94-2.06 2.06-.94-2.06-.94-.94-2.06-.94 2.06-2.06.94z\"/><path d=\"M17.41 7.96l-1.37-1.37c-.4-.4-.92-.59-1.43-.59-.52 0-1.04.2-1.43.59L10.3 9.45l-7.72 7.72c-.78.78-.78 2.05 0 2.83L4 21.41c.39.39.9.59 1.41.59.51 0 1.02-.2 1.41-.59l7.78-7.78 2.81-2.81c.8-.78.8-2.07 0-2.86zM5.41 20L4 18.59l7.72-7.72 1.47 1.35L5.41 20z\"/>\n",
              "  </svg>\n",
              "      </button>\n",
              "      \n",
              "  <style>\n",
              "    .colab-df-container {\n",
              "      display:flex;\n",
              "      flex-wrap:wrap;\n",
              "      gap: 12px;\n",
              "    }\n",
              "\n",
              "    .colab-df-convert {\n",
              "      background-color: #E8F0FE;\n",
              "      border: none;\n",
              "      border-radius: 50%;\n",
              "      cursor: pointer;\n",
              "      display: none;\n",
              "      fill: #1967D2;\n",
              "      height: 32px;\n",
              "      padding: 0 0 0 0;\n",
              "      width: 32px;\n",
              "    }\n",
              "\n",
              "    .colab-df-convert:hover {\n",
              "      background-color: #E2EBFA;\n",
              "      box-shadow: 0px 1px 2px rgba(60, 64, 67, 0.3), 0px 1px 3px 1px rgba(60, 64, 67, 0.15);\n",
              "      fill: #174EA6;\n",
              "    }\n",
              "\n",
              "    [theme=dark] .colab-df-convert {\n",
              "      background-color: #3B4455;\n",
              "      fill: #D2E3FC;\n",
              "    }\n",
              "\n",
              "    [theme=dark] .colab-df-convert:hover {\n",
              "      background-color: #434B5C;\n",
              "      box-shadow: 0px 1px 3px 1px rgba(0, 0, 0, 0.15);\n",
              "      filter: drop-shadow(0px 1px 2px rgba(0, 0, 0, 0.3));\n",
              "      fill: #FFFFFF;\n",
              "    }\n",
              "  </style>\n",
              "\n",
              "      <script>\n",
              "        const buttonEl =\n",
              "          document.querySelector('#df-9b809c66-b61d-4fb7-9ec7-8a34e14392cd button.colab-df-convert');\n",
              "        buttonEl.style.display =\n",
              "          google.colab.kernel.accessAllowed ? 'block' : 'none';\n",
              "\n",
              "        async function convertToInteractive(key) {\n",
              "          const element = document.querySelector('#df-9b809c66-b61d-4fb7-9ec7-8a34e14392cd');\n",
              "          const dataTable =\n",
              "            await google.colab.kernel.invokeFunction('convertToInteractive',\n",
              "                                                     [key], {});\n",
              "          if (!dataTable) return;\n",
              "\n",
              "          const docLinkHtml = 'Like what you see? Visit the ' +\n",
              "            '<a target=\"_blank\" href=https://colab.research.google.com/notebooks/data_table.ipynb>data table notebook</a>'\n",
              "            + ' to learn more about interactive tables.';\n",
              "          element.innerHTML = '';\n",
              "          dataTable['output_type'] = 'display_data';\n",
              "          await google.colab.output.renderOutput(dataTable, element);\n",
              "          const docLink = document.createElement('div');\n",
              "          docLink.innerHTML = docLinkHtml;\n",
              "          element.appendChild(docLink);\n",
              "        }\n",
              "      </script>\n",
              "    </div>\n",
              "  </div>\n",
              "  "
            ]
          },
          "metadata": {},
          "execution_count": 29
        }
      ]
    },
    {
      "cell_type": "markdown",
      "source": [
        "Самые высокие оценки получили сорта: Muscat и Shiraz."
      ],
      "metadata": {
        "id": "NsQpsGn65xWr"
      }
    },
    {
      "cell_type": "markdown",
      "source": [
        "## 2.5 Построить график «ящик с усами» по рейтингам, выполнив категоризацию по странам, по сортам вина."
      ],
      "metadata": {
        "id": "OqwZN8sK6Zer"
      }
    },
    {
      "cell_type": "code",
      "source": [
        "df.pivot_table(columns='country', index='price').plot.box(rot=90, figsize=(15,5))\n",
        "plt.grid\n",
        "plt.title('Диаграмма \"Ящик с усами\": рейтинг вин по странам')\n",
        "plt.xlabel('Страны - производители вина')\n",
        "plt.ylabel('Рейтинг')\n",
        "plt.figtext(0.4, -0.3, 'Рисунок 2. - Диаграмма \"Ящик с усами\": рейтинг вин по странам')\n",
        "plt.show()"
      ],
      "metadata": {
        "colab": {
          "base_uri": "https://localhost:8080/",
          "height": 530
        },
        "id": "bUPxBRny6Z0X",
        "outputId": "f05d6e06-770e-4b02-f67a-fd12fee5b027"
      },
      "execution_count": 30,
      "outputs": [
        {
          "output_type": "stream",
          "name": "stderr",
          "text": [
            "/usr/local/lib/python3.7/dist-packages/matplotlib/cbook/__init__.py:1376: VisibleDeprecationWarning: Creating an ndarray from ragged nested sequences (which is a list-or-tuple of lists-or-tuples-or ndarrays with different lengths or shapes) is deprecated. If you meant to do this, you must specify 'dtype=object' when creating the ndarray.\n",
            "  X = np.atleast_1d(X.T if isinstance(X, np.ndarray) else np.asarray(X))\n"
          ]
        },
        {
          "output_type": "display_data",
          "data": {
            "text/plain": [
              "<Figure size 1080x360 with 1 Axes>"
            ],
            "image/png": "[encoded data removed]"
          },
          "metadata": {
            "needs_background": "light"
          }
        }
      ]
    },
    {
      "cell_type": "markdown",
      "source": [
        "В нашей таблице мало данных по Морокко, поэтому разброс рейтингов маленький, но средние оценки в Морокко и Южной Африке и Новой Зеландии почти одинаковые. А в Австралии средняя оценка выше."
      ],
      "metadata": {
        "id": "14uGUYgd-8mZ"
      }
    },
    {
      "cell_type": "code",
      "source": [
        "p = plt.figure(figsize=(15,5))\n",
        "varietyval = df['variety'].value_counts().head(10)\n",
        "#varietyval.to_frame(name = 'count')\n",
        "varietyvalplot = df[df.variety.isin(varieryval.index)]\n",
        "x = varietyval.variety\n",
        "y = varietyval.points\n",
        "sns.boxplot(x,y);\n",
        "plt.xlabel('Сорт вина', fontsize=12);\n",
        "plt.ylabel('Рейтинг', fontsize=12);\n",
        "plt.title('Распределение рейтингов вина (ТОП 10 сортов)', fontsize=14);\n",
        "plt.figtext(0.35, -0.05, 'Рисунок 3. - Диаграмма \"Ящик с усами\": Распределение рейтингов вина')\n",
        "#varietyval"
      ],
      "metadata": {
        "colab": {
          "base_uri": "https://localhost:8080/",
          "height": 260
        },
        "id": "N1Q86KTZAPW-",
        "outputId": "4ca4b421-c301-45bd-9424-3f72d8dae94c"
      },
      "execution_count": 31,
      "outputs": [
        {
          "output_type": "error",
          "ename": "NameError",
          "evalue": "ignored",
          "traceback": [
            "\u001b[0;31m---------------------------------------------------------------------------\u001b[0m",
            "\u001b[0;31mNameError\u001b[0m                                 Traceback (most recent call last)",
            "\u001b[0;32m<ipython-input-31-c66f36799927>\u001b[0m in \u001b[0;36m<module>\u001b[0;34m\u001b[0m\n\u001b[1;32m      2\u001b[0m \u001b[0mvarietyval\u001b[0m \u001b[0;34m=\u001b[0m \u001b[0mdf\u001b[0m\u001b[0;34m[\u001b[0m\u001b[0;34m'variety'\u001b[0m\u001b[0;34m]\u001b[0m\u001b[0;34m.\u001b[0m\u001b[0mvalue_counts\u001b[0m\u001b[0;34m(\u001b[0m\u001b[0;34m)\u001b[0m\u001b[0;34m.\u001b[0m\u001b[0mhead\u001b[0m\u001b[0;34m(\u001b[0m\u001b[0;36m10\u001b[0m\u001b[0;34m)\u001b[0m\u001b[0;34m\u001b[0m\u001b[0;34m\u001b[0m\u001b[0m\n\u001b[1;32m      3\u001b[0m \u001b[0;31m#varietyval.to_frame(name = 'count')\u001b[0m\u001b[0;34m\u001b[0m\u001b[0;34m\u001b[0m\u001b[0;34m\u001b[0m\u001b[0m\n\u001b[0;32m----> 4\u001b[0;31m \u001b[0mvarietyvalplot\u001b[0m \u001b[0;34m=\u001b[0m \u001b[0mdf\u001b[0m\u001b[0;34m[\u001b[0m\u001b[0mdf\u001b[0m\u001b[0;34m.\u001b[0m\u001b[0mvariety\u001b[0m\u001b[0;34m.\u001b[0m\u001b[0misin\u001b[0m\u001b[0;34m(\u001b[0m\u001b[0mvarieryval\u001b[0m\u001b[0;34m.\u001b[0m\u001b[0mindex\u001b[0m\u001b[0;34m)\u001b[0m\u001b[0;34m]\u001b[0m\u001b[0;34m\u001b[0m\u001b[0;34m\u001b[0m\u001b[0m\n\u001b[0m\u001b[1;32m      5\u001b[0m \u001b[0mx\u001b[0m \u001b[0;34m=\u001b[0m \u001b[0mvarietyval\u001b[0m\u001b[0;34m.\u001b[0m\u001b[0mvariety\u001b[0m\u001b[0;34m\u001b[0m\u001b[0;34m\u001b[0m\u001b[0m\n\u001b[1;32m      6\u001b[0m \u001b[0my\u001b[0m \u001b[0;34m=\u001b[0m \u001b[0mvarietyval\u001b[0m\u001b[0;34m.\u001b[0m\u001b[0mpoints\u001b[0m\u001b[0;34m\u001b[0m\u001b[0;34m\u001b[0m\u001b[0m\n",
            "\u001b[0;31mNameError\u001b[0m: name 'varieryval' is not defined"
          ]
        },
        {
          "output_type": "display_data",
          "data": {
            "text/plain": [
              "<Figure size 1080x360 with 0 Axes>"
            ]
          },
          "metadata": {}
        }
      ]
    },
    {
      "cell_type": "markdown",
      "source": [
        "## 2.6 Выявить закономерность влияния рейтинга вина на его цену. Построить диаграмму рассеяния и посчитать корреляцию."
      ],
      "metadata": {
        "id": "aEBM4SW9PIYG"
      }
    },
    {
      "cell_type": "code",
      "source": [
        "fig, ax = plt.subplots(figsize=(15, 5))\n",
        "plt.scatter(df['price'], df['points'])\n",
        "plt.xlim(0, 310)\n",
        "plt.title('Зависимость цены вина от рейтинга')\n",
        "plt.xlabel('Цена')\n",
        "plt.ylabel('Рейтинг')\n",
        "plt.figtext(0.4, -0.05, 'Рисунок 4. - Зависимость цены вина от рейтинга')\n"
      ],
      "metadata": {
        "colab": {
          "base_uri": "https://localhost:8080/",
          "height": 402
        },
        "id": "CCYt-fTkPI2V",
        "outputId": "843dc9bc-f559-45e2-ca81-8802f290be73"
      },
      "execution_count": 33,
      "outputs": [
        {
          "output_type": "execute_result",
          "data": {
            "text/plain": [
              "Text(0.4, -0.05, 'Рисунок 4. - Зависимость цены вина от рейтинга')"
            ]
          },
          "metadata": {},
          "execution_count": 33
        },
        {
          "output_type": "display_data",
          "data": {
            "text/plain": [
              "<Figure size 1080x360 with 1 Axes>"
            ],
            "image/png": "[encoded data removed]"
          },
          "metadata": {
            "needs_background": "light"
          }
        }
      ]
    },
    {
      "cell_type": "markdown",
      "source": [
        "Видна зависимость цены от рейтинга, но она не прямая. Можно предположить, что существуют и другие факторы влияющие на ценообразование. Так же видно, что есть выбросы, которые мы уберем далее"
      ],
      "metadata": {
        "id": "2nRRphgKTAbv"
      }
    },
    {
      "cell_type": "code",
      "source": [
        "df.corr(method = 'pearson')"
      ],
      "metadata": {
        "colab": {
          "base_uri": "https://localhost:8080/",
          "height": 112
        },
        "id": "jQ_5dlyMT-bG",
        "outputId": "39dbfa78-f685-4688-ea03-024864a13ddb"
      },
      "execution_count": 34,
      "outputs": [
        {
          "output_type": "execute_result",
          "data": {
            "text/plain": [
              "          points     price\n",
              "points  1.000000  0.485209\n",
              "price   0.485209  1.000000"
            ],
            "text/html": [
              "\n",
              "  <div id=\"df-70891cf4-6f80-4d05-8e47-5365b5f228b4\">\n",
              "    <div class=\"colab-df-container\">\n",
              "      <div>\n",
              "<style scoped>\n",
              "    .dataframe tbody tr th:only-of-type {\n",
              "        vertical-align: middle;\n",
              "    }\n",
              "\n",
              "    .dataframe tbody tr th {\n",
              "        vertical-align: top;\n",
              "    }\n",
              "\n",
              "    .dataframe thead th {\n",
              "        text-align: right;\n",
              "    }\n",
              "</style>\n",
              "<table border=\"1\" class=\"dataframe\">\n",
              "  <thead>\n",
              "    <tr style=\"text-align: right;\">\n",
              "      <th></th>\n",
              "      <th>points</th>\n",
              "      <th>price</th>\n",
              "    </tr>\n",
              "  </thead>\n",
              "  <tbody>\n",
              "    <tr>\n",
              "      <th>points</th>\n",
              "      <td>1.000000</td>\n",
              "      <td>0.485209</td>\n",
              "    </tr>\n",
              "    <tr>\n",
              "      <th>price</th>\n",
              "      <td>0.485209</td>\n",
              "      <td>1.000000</td>\n",
              "    </tr>\n",
              "  </tbody>\n",
              "</table>\n",
              "</div>\n",
              "      <button class=\"colab-df-convert\" onclick=\"convertToInteractive('df-70891cf4-6f80-4d05-8e47-5365b5f228b4')\"\n",
              "              title=\"Convert this dataframe to an interactive table.\"\n",
              "              style=\"display:none;\">\n",
              "        \n",
              "  <svg xmlns=\"http://www.w3.org/2000/svg\" height=\"24px\"viewBox=\"0 0 24 24\"\n",
              "       width=\"24px\">\n",
              "    <path d=\"M0 0h24v24H0V0z\" fill=\"none\"/>\n",
              "    <path d=\"M18.56 5.44l.94 2.06.94-2.06 2.06-.94-2.06-.94-.94-2.06-.94 2.06-2.06.94zm-11 1L8.5 8.5l.94-2.06 2.06-.94-2.06-.94L8.5 2.5l-.94 2.06-2.06.94zm10 10l.94 2.06.94-2.06 2.06-.94-2.06-.94-.94-2.06-.94 2.06-2.06.94z\"/><path d=\"M17.41 7.96l-1.37-1.37c-.4-.4-.92-.59-1.43-.59-.52 0-1.04.2-1.43.59L10.3 9.45l-7.72 7.72c-.78.78-.78 2.05 0 2.83L4 21.41c.39.39.9.59 1.41.59.51 0 1.02-.2 1.41-.59l7.78-7.78 2.81-2.81c.8-.78.8-2.07 0-2.86zM5.41 20L4 18.59l7.72-7.72 1.47 1.35L5.41 20z\"/>\n",
              "  </svg>\n",
              "      </button>\n",
              "      \n",
              "  <style>\n",
              "    .colab-df-container {\n",
              "      display:flex;\n",
              "      flex-wrap:wrap;\n",
              "      gap: 12px;\n",
              "    }\n",
              "\n",
              "    .colab-df-convert {\n",
              "      background-color: #E8F0FE;\n",
              "      border: none;\n",
              "      border-radius: 50%;\n",
              "      cursor: pointer;\n",
              "      display: none;\n",
              "      fill: #1967D2;\n",
              "      height: 32px;\n",
              "      padding: 0 0 0 0;\n",
              "      width: 32px;\n",
              "    }\n",
              "\n",
              "    .colab-df-convert:hover {\n",
              "      background-color: #E2EBFA;\n",
              "      box-shadow: 0px 1px 2px rgba(60, 64, 67, 0.3), 0px 1px 3px 1px rgba(60, 64, 67, 0.15);\n",
              "      fill: #174EA6;\n",
              "    }\n",
              "\n",
              "    [theme=dark] .colab-df-convert {\n",
              "      background-color: #3B4455;\n",
              "      fill: #D2E3FC;\n",
              "    }\n",
              "\n",
              "    [theme=dark] .colab-df-convert:hover {\n",
              "      background-color: #434B5C;\n",
              "      box-shadow: 0px 1px 3px 1px rgba(0, 0, 0, 0.15);\n",
              "      filter: drop-shadow(0px 1px 2px rgba(0, 0, 0, 0.3));\n",
              "      fill: #FFFFFF;\n",
              "    }\n",
              "  </style>\n",
              "\n",
              "      <script>\n",
              "        const buttonEl =\n",
              "          document.querySelector('#df-70891cf4-6f80-4d05-8e47-5365b5f228b4 button.colab-df-convert');\n",
              "        buttonEl.style.display =\n",
              "          google.colab.kernel.accessAllowed ? 'block' : 'none';\n",
              "\n",
              "        async function convertToInteractive(key) {\n",
              "          const element = document.querySelector('#df-70891cf4-6f80-4d05-8e47-5365b5f228b4');\n",
              "          const dataTable =\n",
              "            await google.colab.kernel.invokeFunction('convertToInteractive',\n",
              "                                                     [key], {});\n",
              "          if (!dataTable) return;\n",
              "\n",
              "          const docLinkHtml = 'Like what you see? Visit the ' +\n",
              "            '<a target=\"_blank\" href=https://colab.research.google.com/notebooks/data_table.ipynb>data table notebook</a>'\n",
              "            + ' to learn more about interactive tables.';\n",
              "          element.innerHTML = '';\n",
              "          dataTable['output_type'] = 'display_data';\n",
              "          await google.colab.output.renderOutput(dataTable, element);\n",
              "          const docLink = document.createElement('div');\n",
              "          docLink.innerHTML = docLinkHtml;\n",
              "          element.appendChild(docLink);\n",
              "        }\n",
              "      </script>\n",
              "    </div>\n",
              "  </div>\n",
              "  "
            ]
          },
          "metadata": {},
          "execution_count": 34
        }
      ]
    },
    {
      "cell_type": "code",
      "source": [
        "from pandas.plotting import scatter_matrix\n",
        "scatter_matrix(df, alpha=0.5, figsize=(15,5), diagonal='kde')\n",
        "plt.figtext(0.4, -0.05, 'Рисунок 5 - Диаграмма рассеивания')"
      ],
      "metadata": {
        "colab": {
          "base_uri": "https://localhost:8080/",
          "height": 386
        },
        "id": "DbnoUorBUkBS",
        "outputId": "fa5177aa-f2bf-47b2-fe3b-44435aab20ca"
      },
      "execution_count": 35,
      "outputs": [
        {
          "output_type": "execute_result",
          "data": {
            "text/plain": [
              "Text(0.4, -0.05, 'Рисунок 5 - Диаграмма рассеивания')"
            ]
          },
          "metadata": {},
          "execution_count": 35
        },
        {
          "output_type": "display_data",
          "data": {
            "text/plain": [
              "<Figure size 1080x360 with 4 Axes>"
            ],
            "image/png": "[encoded data removed]"
          },
          "metadata": {
            "needs_background": "light"
          }
        }
      ]
    },
    {
      "cell_type": "markdown",
      "source": [
        "Коэффициент корреляции равен 0,49 - это слабая корреляция. Значит много выбросов. Что бы увидеть зависимость уберем выбросы."
      ],
      "metadata": {
        "id": "S1a2UiAyf8hN"
      }
    },
    {
      "cell_type": "code",
      "source": [
        "q25 = df['price'].quantile(0.25)\n",
        "q75 = df['price'].quantile(0.75)\n",
        "iqr = q75 - q25\n",
        "low = q25-1.5*iqr\n",
        "hight = q75+1.5*iqr\n",
        "low, hight"
      ],
      "metadata": {
        "colab": {
          "base_uri": "https://localhost:8080/",
          "height": 0
        },
        "id": "JPY-yfT9gaP6",
        "outputId": "2e9b1e3e-deed-4143-c229-ae04ca89c532"
      },
      "execution_count": 36,
      "outputs": [
        {
          "output_type": "execute_result",
          "data": {
            "text/plain": [
              "(-7.5, 52.5)"
            ]
          },
          "metadata": {},
          "execution_count": 36
        }
      ]
    },
    {
      "cell_type": "code",
      "source": [
        "df1 = df[(df.price<hight)]"
      ],
      "metadata": {
        "id": "cizplqNNiN3X"
      },
      "execution_count": 37,
      "outputs": []
    },
    {
      "cell_type": "code",
      "source": [
        "df1.corr(method = 'pearson')"
      ],
      "metadata": {
        "colab": {
          "base_uri": "https://localhost:8080/",
          "height": 112
        },
        "id": "8VzxcWENivY8",
        "outputId": "b2c0124f-0df0-4e2b-a257-9c806b00c58a"
      },
      "execution_count": 38,
      "outputs": [
        {
          "output_type": "execute_result",
          "data": {
            "text/plain": [
              "          points     price\n",
              "points  1.000000  0.512915\n",
              "price   0.512915  1.000000"
            ],
            "text/html": [
              "\n",
              "  <div id=\"df-27e8b2bf-8016-44ac-ba3d-888997c161a9\">\n",
              "    <div class=\"colab-df-container\">\n",
              "      <div>\n",
              "<style scoped>\n",
              "    .dataframe tbody tr th:only-of-type {\n",
              "        vertical-align: middle;\n",
              "    }\n",
              "\n",
              "    .dataframe tbody tr th {\n",
              "        vertical-align: top;\n",
              "    }\n",
              "\n",
              "    .dataframe thead th {\n",
              "        text-align: right;\n",
              "    }\n",
              "</style>\n",
              "<table border=\"1\" class=\"dataframe\">\n",
              "  <thead>\n",
              "    <tr style=\"text-align: right;\">\n",
              "      <th></th>\n",
              "      <th>points</th>\n",
              "      <th>price</th>\n",
              "    </tr>\n",
              "  </thead>\n",
              "  <tbody>\n",
              "    <tr>\n",
              "      <th>points</th>\n",
              "      <td>1.000000</td>\n",
              "      <td>0.512915</td>\n",
              "    </tr>\n",
              "    <tr>\n",
              "      <th>price</th>\n",
              "      <td>0.512915</td>\n",
              "      <td>1.000000</td>\n",
              "    </tr>\n",
              "  </tbody>\n",
              "</table>\n",
              "</div>\n",
              "      <button class=\"colab-df-convert\" onclick=\"convertToInteractive('df-27e8b2bf-8016-44ac-ba3d-888997c161a9')\"\n",
              "              title=\"Convert this dataframe to an interactive table.\"\n",
              "              style=\"display:none;\">\n",
              "        \n",
              "  <svg xmlns=\"http://www.w3.org/2000/svg\" height=\"24px\"viewBox=\"0 0 24 24\"\n",
              "       width=\"24px\">\n",
              "    <path d=\"M0 0h24v24H0V0z\" fill=\"none\"/>\n",
              "    <path d=\"M18.56 5.44l.94 2.06.94-2.06 2.06-.94-2.06-.94-.94-2.06-.94 2.06-2.06.94zm-11 1L8.5 8.5l.94-2.06 2.06-.94-2.06-.94L8.5 2.5l-.94 2.06-2.06.94zm10 10l.94 2.06.94-2.06 2.06-.94-2.06-.94-.94-2.06-.94 2.06-2.06.94z\"/><path d=\"M17.41 7.96l-1.37-1.37c-.4-.4-.92-.59-1.43-.59-.52 0-1.04.2-1.43.59L10.3 9.45l-7.72 7.72c-.78.78-.78 2.05 0 2.83L4 21.41c.39.39.9.59 1.41.59.51 0 1.02-.2 1.41-.59l7.78-7.78 2.81-2.81c.8-.78.8-2.07 0-2.86zM5.41 20L4 18.59l7.72-7.72 1.47 1.35L5.41 20z\"/>\n",
              "  </svg>\n",
              "      </button>\n",
              "      \n",
              "  <style>\n",
              "    .colab-df-container {\n",
              "      display:flex;\n",
              "      flex-wrap:wrap;\n",
              "      gap: 12px;\n",
              "    }\n",
              "\n",
              "    .colab-df-convert {\n",
              "      background-color: #E8F0FE;\n",
              "      border: none;\n",
              "      border-radius: 50%;\n",
              "      cursor: pointer;\n",
              "      display: none;\n",
              "      fill: #1967D2;\n",
              "      height: 32px;\n",
              "      padding: 0 0 0 0;\n",
              "      width: 32px;\n",
              "    }\n",
              "\n",
              "    .colab-df-convert:hover {\n",
              "      background-color: #E2EBFA;\n",
              "      box-shadow: 0px 1px 2px rgba(60, 64, 67, 0.3), 0px 1px 3px 1px rgba(60, 64, 67, 0.15);\n",
              "      fill: #174EA6;\n",
              "    }\n",
              "\n",
              "    [theme=dark] .colab-df-convert {\n",
              "      background-color: #3B4455;\n",
              "      fill: #D2E3FC;\n",
              "    }\n",
              "\n",
              "    [theme=dark] .colab-df-convert:hover {\n",
              "      background-color: #434B5C;\n",
              "      box-shadow: 0px 1px 3px 1px rgba(0, 0, 0, 0.15);\n",
              "      filter: drop-shadow(0px 1px 2px rgba(0, 0, 0, 0.3));\n",
              "      fill: #FFFFFF;\n",
              "    }\n",
              "  </style>\n",
              "\n",
              "      <script>\n",
              "        const buttonEl =\n",
              "          document.querySelector('#df-27e8b2bf-8016-44ac-ba3d-888997c161a9 button.colab-df-convert');\n",
              "        buttonEl.style.display =\n",
              "          google.colab.kernel.accessAllowed ? 'block' : 'none';\n",
              "\n",
              "        async function convertToInteractive(key) {\n",
              "          const element = document.querySelector('#df-27e8b2bf-8016-44ac-ba3d-888997c161a9');\n",
              "          const dataTable =\n",
              "            await google.colab.kernel.invokeFunction('convertToInteractive',\n",
              "                                                     [key], {});\n",
              "          if (!dataTable) return;\n",
              "\n",
              "          const docLinkHtml = 'Like what you see? Visit the ' +\n",
              "            '<a target=\"_blank\" href=https://colab.research.google.com/notebooks/data_table.ipynb>data table notebook</a>'\n",
              "            + ' to learn more about interactive tables.';\n",
              "          element.innerHTML = '';\n",
              "          dataTable['output_type'] = 'display_data';\n",
              "          await google.colab.output.renderOutput(dataTable, element);\n",
              "          const docLink = document.createElement('div');\n",
              "          docLink.innerHTML = docLinkHtml;\n",
              "          element.appendChild(docLink);\n",
              "        }\n",
              "      </script>\n",
              "    </div>\n",
              "  </div>\n",
              "  "
            ]
          },
          "metadata": {},
          "execution_count": 38
        }
      ]
    },
    {
      "cell_type": "markdown",
      "source": [
        "Если продолжить убирать выбросы, коэффициент корреляции станет ниже, значит удаление выбросов не эффективно, корреляция цена - оценка слабая."
      ],
      "metadata": {
        "id": "jAFZl9lyjT_S"
      }
    },
    {
      "cell_type": "markdown",
      "metadata": {
        "id": "6PzQlNRXljHn"
      },
      "source": [
        "Вывод по этапу \"Исследовательский анализ данных\":  *переписать*\n",
        "Объектом исследования данной работы являются вина Африки и Океании. В таблице представлены вина Южной Африки, Морокко, Австралии и Новой Зеландии.  \n",
        "\n",
        "*   Наиболее популярные вина в Африке и Океании производятся в Австралии и Новой Зеландии и это сорта: Sauvignon Blanc, Chardonnay, Shiraz, Cabernet Sauvignon и Pinot Noir. В Морокко выпускают 4 вида вин:Cabernet Sauvignon Grenache, Chardonnay, Sauvignon Blanc и Shiraz. И они же самые популярные. Наиболее популярные сорта вин в Южной Африке: Bordeaux-style Red Blend, Chenin Blanc, White Blend, Cabernet Sauvignon и Red Blend.\n",
        "*   В Южной Африке и Океании самые дорогие вина: Shiraz и Cabernet Sauvignon. Средняя цена вин Морокко 19.18, Австралии 42.84, Новой Зеландии 33 а Южной Африки 27.17.\n",
        "*   Наиболее популярны Riesling и Cabernet Sauvignon. Стоимостью 20, 19 и 15$.\n",
        "*   Самые высокие оценки получили сорта: Muscat и Shiraz.\n",
        "*   В нашей таблице мало данных по Морокко, поэтому разброс рейтингов маленький, но средние оценки в Морокко и Южной Африке и Новой Зеландии почти одинаковые. А в Австралии средняя оценка выше.\n",
        "*   Видна зависимость цены от рейтинга, но она не прямая. Можно предположить, что существуют и другие факторы влияющие на ценообразование. Коэффициент корреляции равен 0,49 - это слабая корреляция. Если убирать выбросы, коэффициент корреляции станет ниже, значит удаление выбросов не эффективно. Корреляция цена - оценка слабая."
      ]
    },
    {
      "cell_type": "markdown",
      "metadata": {
        "id": "J88gGHq5VBp9"
      },
      "source": [
        "# 3. Составление структуры развития рынка вина регионов"
      ]
    },
    {
      "cell_type": "markdown",
      "metadata": {
        "id": "NiCszJMjKYQR"
      },
      "source": [
        "В рамках составления структуры развития рынка вина в регионах необходимо определить:\n",
        "* Самые популярные сорта (топ-5). \n",
        "* Влияет ли рейтинг на цены по регионам?"
      ]
    },
    {
      "cell_type": "markdown",
      "source": [
        "## 3.1 Самые популярные сорта (топ-5)."
      ],
      "metadata": {
        "id": "QS2zq4E88cxD"
      }
    },
    {
      "cell_type": "code",
      "source": [
        "safrica = df.loc[df['country'] == 'South Africa']\n",
        "australia = df.loc[df['country'] == 'Australia']\n",
        "nzeland = df.loc[df['country'] == 'New Zealand']"
      ],
      "metadata": {
        "id": "o_4AhbYXyWWl"
      },
      "execution_count": 39,
      "outputs": []
    },
    {
      "cell_type": "code",
      "execution_count": 40,
      "metadata": {
        "id": "sez476ucVBp9",
        "colab": {
          "base_uri": "https://localhost:8080/",
          "height": 315
        },
        "outputId": "728d6fe2-2160-40fd-8f69-640368c29f8e"
      },
      "outputs": [
        {
          "output_type": "stream",
          "name": "stderr",
          "text": [
            "/usr/local/lib/python3.7/dist-packages/ipykernel_launcher.py:2: SettingWithCopyWarning: \n",
            "A value is trying to be set on a copy of a slice from a DataFrame.\n",
            "Try using .loc[row_indexer,col_indexer] = value instead\n",
            "\n",
            "See the caveats in the documentation: https://pandas.pydata.org/pandas-docs/stable/user_guide/indexing.html#returning-a-view-versus-a-copy\n",
            "  \n"
          ]
        },
        {
          "output_type": "execute_result",
          "data": {
            "text/plain": [
              "         country             variety  count      %\n",
              "40  South Africa     Sauvignon Blanc    338  15.11\n",
              "11  South Africa          Chardonnay    274  12.25\n",
              "43  South Africa              Shiraz    248  11.09\n",
              "5   South Africa  Cabernet Sauvignon    213   9.52\n",
              "35  South Africa           Red Blend    205   9.16"
            ],
            "text/html": [
              "\n",
              "  <div id=\"df-6789378a-2348-4779-af6c-b838ff1a4e9c\">\n",
              "    <div class=\"colab-df-container\">\n",
              "      <div>\n",
              "<style scoped>\n",
              "    .dataframe tbody tr th:only-of-type {\n",
              "        vertical-align: middle;\n",
              "    }\n",
              "\n",
              "    .dataframe tbody tr th {\n",
              "        vertical-align: top;\n",
              "    }\n",
              "\n",
              "    .dataframe thead th {\n",
              "        text-align: right;\n",
              "    }\n",
              "</style>\n",
              "<table border=\"1\" class=\"dataframe\">\n",
              "  <thead>\n",
              "    <tr style=\"text-align: right;\">\n",
              "      <th></th>\n",
              "      <th>country</th>\n",
              "      <th>variety</th>\n",
              "      <th>count</th>\n",
              "      <th>%</th>\n",
              "    </tr>\n",
              "  </thead>\n",
              "  <tbody>\n",
              "    <tr>\n",
              "      <th>40</th>\n",
              "      <td>South Africa</td>\n",
              "      <td>Sauvignon Blanc</td>\n",
              "      <td>338</td>\n",
              "      <td>15.11</td>\n",
              "    </tr>\n",
              "    <tr>\n",
              "      <th>11</th>\n",
              "      <td>South Africa</td>\n",
              "      <td>Chardonnay</td>\n",
              "      <td>274</td>\n",
              "      <td>12.25</td>\n",
              "    </tr>\n",
              "    <tr>\n",
              "      <th>43</th>\n",
              "      <td>South Africa</td>\n",
              "      <td>Shiraz</td>\n",
              "      <td>248</td>\n",
              "      <td>11.09</td>\n",
              "    </tr>\n",
              "    <tr>\n",
              "      <th>5</th>\n",
              "      <td>South Africa</td>\n",
              "      <td>Cabernet Sauvignon</td>\n",
              "      <td>213</td>\n",
              "      <td>9.52</td>\n",
              "    </tr>\n",
              "    <tr>\n",
              "      <th>35</th>\n",
              "      <td>South Africa</td>\n",
              "      <td>Red Blend</td>\n",
              "      <td>205</td>\n",
              "      <td>9.16</td>\n",
              "    </tr>\n",
              "  </tbody>\n",
              "</table>\n",
              "</div>\n",
              "      <button class=\"colab-df-convert\" onclick=\"convertToInteractive('df-6789378a-2348-4779-af6c-b838ff1a4e9c')\"\n",
              "              title=\"Convert this dataframe to an interactive table.\"\n",
              "              style=\"display:none;\">\n",
              "        \n",
              "  <svg xmlns=\"http://www.w3.org/2000/svg\" height=\"24px\"viewBox=\"0 0 24 24\"\n",
              "       width=\"24px\">\n",
              "    <path d=\"M0 0h24v24H0V0z\" fill=\"none\"/>\n",
              "    <path d=\"M18.56 5.44l.94 2.06.94-2.06 2.06-.94-2.06-.94-.94-2.06-.94 2.06-2.06.94zm-11 1L8.5 8.5l.94-2.06 2.06-.94-2.06-.94L8.5 2.5l-.94 2.06-2.06.94zm10 10l.94 2.06.94-2.06 2.06-.94-2.06-.94-.94-2.06-.94 2.06-2.06.94z\"/><path d=\"M17.41 7.96l-1.37-1.37c-.4-.4-.92-.59-1.43-.59-.52 0-1.04.2-1.43.59L10.3 9.45l-7.72 7.72c-.78.78-.78 2.05 0 2.83L4 21.41c.39.39.9.59 1.41.59.51 0 1.02-.2 1.41-.59l7.78-7.78 2.81-2.81c.8-.78.8-2.07 0-2.86zM5.41 20L4 18.59l7.72-7.72 1.47 1.35L5.41 20z\"/>\n",
              "  </svg>\n",
              "      </button>\n",
              "      \n",
              "  <style>\n",
              "    .colab-df-container {\n",
              "      display:flex;\n",
              "      flex-wrap:wrap;\n",
              "      gap: 12px;\n",
              "    }\n",
              "\n",
              "    .colab-df-convert {\n",
              "      background-color: #E8F0FE;\n",
              "      border: none;\n",
              "      border-radius: 50%;\n",
              "      cursor: pointer;\n",
              "      display: none;\n",
              "      fill: #1967D2;\n",
              "      height: 32px;\n",
              "      padding: 0 0 0 0;\n",
              "      width: 32px;\n",
              "    }\n",
              "\n",
              "    .colab-df-convert:hover {\n",
              "      background-color: #E2EBFA;\n",
              "      box-shadow: 0px 1px 2px rgba(60, 64, 67, 0.3), 0px 1px 3px 1px rgba(60, 64, 67, 0.15);\n",
              "      fill: #174EA6;\n",
              "    }\n",
              "\n",
              "    [theme=dark] .colab-df-convert {\n",
              "      background-color: #3B4455;\n",
              "      fill: #D2E3FC;\n",
              "    }\n",
              "\n",
              "    [theme=dark] .colab-df-convert:hover {\n",
              "      background-color: #434B5C;\n",
              "      box-shadow: 0px 1px 3px 1px rgba(0, 0, 0, 0.15);\n",
              "      filter: drop-shadow(0px 1px 2px rgba(0, 0, 0, 0.3));\n",
              "      fill: #FFFFFF;\n",
              "    }\n",
              "  </style>\n",
              "\n",
              "      <script>\n",
              "        const buttonEl =\n",
              "          document.querySelector('#df-6789378a-2348-4779-af6c-b838ff1a4e9c button.colab-df-convert');\n",
              "        buttonEl.style.display =\n",
              "          google.colab.kernel.accessAllowed ? 'block' : 'none';\n",
              "\n",
              "        async function convertToInteractive(key) {\n",
              "          const element = document.querySelector('#df-6789378a-2348-4779-af6c-b838ff1a4e9c');\n",
              "          const dataTable =\n",
              "            await google.colab.kernel.invokeFunction('convertToInteractive',\n",
              "                                                     [key], {});\n",
              "          if (!dataTable) return;\n",
              "\n",
              "          const docLinkHtml = 'Like what you see? Visit the ' +\n",
              "            '<a target=\"_blank\" href=https://colab.research.google.com/notebooks/data_table.ipynb>data table notebook</a>'\n",
              "            + ' to learn more about interactive tables.';\n",
              "          element.innerHTML = '';\n",
              "          dataTable['output_type'] = 'display_data';\n",
              "          await google.colab.output.renderOutput(dataTable, element);\n",
              "          const docLink = document.createElement('div');\n",
              "          docLink.innerHTML = docLinkHtml;\n",
              "          element.appendChild(docLink);\n",
              "        }\n",
              "      </script>\n",
              "    </div>\n",
              "  </div>\n",
              "  "
            ]
          },
          "metadata": {},
          "execution_count": 40
        }
      ],
      "source": [
        "populars = safrica\n",
        "populars['count'] = populars['variety']\n",
        "populars = populars.groupby((['country', 'variety']), as_index = False)[['count']].count() \n",
        "popularssort = populars.sort_values(axis=0, by=['count'], ascending=False)\n",
        "popularssort['%'] = round((100*popularssort['count']/popularssort['count'].sum()), 2)\n",
        "popularssort.head(5)"
      ]
    },
    {
      "cell_type": "markdown",
      "source": [
        "Наиболее популярные вина в Африке и Океании производятся в Южной Африке и это сорта: Sauvignon Blanc, Chardonnay, Shiraz, Cabernet Sauvignon и Red Blend."
      ],
      "metadata": {
        "id": "mMhH3ODapROQ"
      }
    },
    {
      "cell_type": "markdown",
      "source": [
        "## 3.2 Влияет ли рейтинг на цены по регионам?"
      ],
      "metadata": {
        "id": "2__L2G0j8oJM"
      }
    },
    {
      "cell_type": "code",
      "source": [
        "safrica.corr(method = 'pearson')"
      ],
      "metadata": {
        "colab": {
          "base_uri": "https://localhost:8080/",
          "height": 112
        },
        "id": "sSsRIoqkzmSG",
        "outputId": "356f5c49-9fc5-4096-bde8-b6ea3a2cb3d7"
      },
      "execution_count": 41,
      "outputs": [
        {
          "output_type": "execute_result",
          "data": {
            "text/plain": [
              "          points     price\n",
              "points  1.000000  0.561072\n",
              "price   0.561072  1.000000"
            ],
            "text/html": [
              "\n",
              "  <div id=\"df-5b43a125-4199-4c74-9b1f-6e74694f0a00\">\n",
              "    <div class=\"colab-df-container\">\n",
              "      <div>\n",
              "<style scoped>\n",
              "    .dataframe tbody tr th:only-of-type {\n",
              "        vertical-align: middle;\n",
              "    }\n",
              "\n",
              "    .dataframe tbody tr th {\n",
              "        vertical-align: top;\n",
              "    }\n",
              "\n",
              "    .dataframe thead th {\n",
              "        text-align: right;\n",
              "    }\n",
              "</style>\n",
              "<table border=\"1\" class=\"dataframe\">\n",
              "  <thead>\n",
              "    <tr style=\"text-align: right;\">\n",
              "      <th></th>\n",
              "      <th>points</th>\n",
              "      <th>price</th>\n",
              "    </tr>\n",
              "  </thead>\n",
              "  <tbody>\n",
              "    <tr>\n",
              "      <th>points</th>\n",
              "      <td>1.000000</td>\n",
              "      <td>0.561072</td>\n",
              "    </tr>\n",
              "    <tr>\n",
              "      <th>price</th>\n",
              "      <td>0.561072</td>\n",
              "      <td>1.000000</td>\n",
              "    </tr>\n",
              "  </tbody>\n",
              "</table>\n",
              "</div>\n",
              "      <button class=\"colab-df-convert\" onclick=\"convertToInteractive('df-5b43a125-4199-4c74-9b1f-6e74694f0a00')\"\n",
              "              title=\"Convert this dataframe to an interactive table.\"\n",
              "              style=\"display:none;\">\n",
              "        \n",
              "  <svg xmlns=\"http://www.w3.org/2000/svg\" height=\"24px\"viewBox=\"0 0 24 24\"\n",
              "       width=\"24px\">\n",
              "    <path d=\"M0 0h24v24H0V0z\" fill=\"none\"/>\n",
              "    <path d=\"M18.56 5.44l.94 2.06.94-2.06 2.06-.94-2.06-.94-.94-2.06-.94 2.06-2.06.94zm-11 1L8.5 8.5l.94-2.06 2.06-.94-2.06-.94L8.5 2.5l-.94 2.06-2.06.94zm10 10l.94 2.06.94-2.06 2.06-.94-2.06-.94-.94-2.06-.94 2.06-2.06.94z\"/><path d=\"M17.41 7.96l-1.37-1.37c-.4-.4-.92-.59-1.43-.59-.52 0-1.04.2-1.43.59L10.3 9.45l-7.72 7.72c-.78.78-.78 2.05 0 2.83L4 21.41c.39.39.9.59 1.41.59.51 0 1.02-.2 1.41-.59l7.78-7.78 2.81-2.81c.8-.78.8-2.07 0-2.86zM5.41 20L4 18.59l7.72-7.72 1.47 1.35L5.41 20z\"/>\n",
              "  </svg>\n",
              "      </button>\n",
              "      \n",
              "  <style>\n",
              "    .colab-df-container {\n",
              "      display:flex;\n",
              "      flex-wrap:wrap;\n",
              "      gap: 12px;\n",
              "    }\n",
              "\n",
              "    .colab-df-convert {\n",
              "      background-color: #E8F0FE;\n",
              "      border: none;\n",
              "      border-radius: 50%;\n",
              "      cursor: pointer;\n",
              "      display: none;\n",
              "      fill: #1967D2;\n",
              "      height: 32px;\n",
              "      padding: 0 0 0 0;\n",
              "      width: 32px;\n",
              "    }\n",
              "\n",
              "    .colab-df-convert:hover {\n",
              "      background-color: #E2EBFA;\n",
              "      box-shadow: 0px 1px 2px rgba(60, 64, 67, 0.3), 0px 1px 3px 1px rgba(60, 64, 67, 0.15);\n",
              "      fill: #174EA6;\n",
              "    }\n",
              "\n",
              "    [theme=dark] .colab-df-convert {\n",
              "      background-color: #3B4455;\n",
              "      fill: #D2E3FC;\n",
              "    }\n",
              "\n",
              "    [theme=dark] .colab-df-convert:hover {\n",
              "      background-color: #434B5C;\n",
              "      box-shadow: 0px 1px 3px 1px rgba(0, 0, 0, 0.15);\n",
              "      filter: drop-shadow(0px 1px 2px rgba(0, 0, 0, 0.3));\n",
              "      fill: #FFFFFF;\n",
              "    }\n",
              "  </style>\n",
              "\n",
              "      <script>\n",
              "        const buttonEl =\n",
              "          document.querySelector('#df-5b43a125-4199-4c74-9b1f-6e74694f0a00 button.colab-df-convert');\n",
              "        buttonEl.style.display =\n",
              "          google.colab.kernel.accessAllowed ? 'block' : 'none';\n",
              "\n",
              "        async function convertToInteractive(key) {\n",
              "          const element = document.querySelector('#df-5b43a125-4199-4c74-9b1f-6e74694f0a00');\n",
              "          const dataTable =\n",
              "            await google.colab.kernel.invokeFunction('convertToInteractive',\n",
              "                                                     [key], {});\n",
              "          if (!dataTable) return;\n",
              "\n",
              "          const docLinkHtml = 'Like what you see? Visit the ' +\n",
              "            '<a target=\"_blank\" href=https://colab.research.google.com/notebooks/data_table.ipynb>data table notebook</a>'\n",
              "            + ' to learn more about interactive tables.';\n",
              "          element.innerHTML = '';\n",
              "          dataTable['output_type'] = 'display_data';\n",
              "          await google.colab.output.renderOutput(dataTable, element);\n",
              "          const docLink = document.createElement('div');\n",
              "          docLink.innerHTML = docLinkHtml;\n",
              "          element.appendChild(docLink);\n",
              "        }\n",
              "      </script>\n",
              "    </div>\n",
              "  </div>\n",
              "  "
            ]
          },
          "metadata": {},
          "execution_count": 41
        }
      ]
    },
    {
      "cell_type": "markdown",
      "source": [
        "Коэффициент корреляции равен 0,56 - это слабая корреляция."
      ],
      "metadata": {
        "id": "TUk2u_rb2uKi"
      }
    },
    {
      "cell_type": "code",
      "source": [
        "fig, ax = plt.subplots(figsize=(15, 5))\n",
        "plt.scatter(safrica['price'], safrica['points'])\n",
        "plt.xlim(0, 160)\n",
        "plt.title('Зависимость цены вина от рейтинга')\n",
        "plt.xlabel('Цена')\n",
        "plt.ylabel('Рейтинг')\n",
        "plt.figtext(0.4, -0.05, 'Рисунок 6. - Зависимость цены вина от рейтинга Южная Африка')"
      ],
      "metadata": {
        "colab": {
          "base_uri": "https://localhost:8080/",
          "height": 402
        },
        "id": "av4sWenq05-j",
        "outputId": "688245ad-2dfc-4da0-848d-8f9b0ce89767"
      },
      "execution_count": 42,
      "outputs": [
        {
          "output_type": "execute_result",
          "data": {
            "text/plain": [
              "Text(0.4, -0.05, 'Рисунок 6. - Зависимость цены вина от рейтинга Южная Африка')"
            ]
          },
          "metadata": {},
          "execution_count": 42
        },
        {
          "output_type": "display_data",
          "data": {
            "text/plain": [
              "<Figure size 1080x360 with 1 Axes>"
            ],
            "image/png": "[encoded data removed]"
          },
          "metadata": {
            "needs_background": "light"
          }
        }
      ]
    },
    {
      "cell_type": "markdown",
      "source": [
        "На графике линейная зависимость не прослеживается. Это может говорить о большом количестве выбросов, или о том, что на цену влияют другие факторы.\n",
        "Если выбросы убрать, коэффициент становится ниже."
      ],
      "metadata": {
        "id": "ycQXi6Yp3yMg"
      }
    },
    {
      "cell_type": "code",
      "source": [
        "populara = australia\n",
        "populara['count'] = populara['variety']\n",
        "populara = populara.groupby((['country', 'variety']), as_index = False)[['count']].count() \n",
        "popularasort = populara.sort_values(axis=0, by=['count'], ascending=False)\n",
        "popularasort['%'] = round((100*popularasort['count']/popularasort['count'].sum()), 2)\n",
        "popularasort.head(5)"
      ],
      "metadata": {
        "colab": {
          "base_uri": "https://localhost:8080/",
          "height": 315
        },
        "id": "ULFfS5z9zsoB",
        "outputId": "3bc6f417-346b-46a9-e939-9071ef4dc8b7"
      },
      "execution_count": 43,
      "outputs": [
        {
          "output_type": "stream",
          "name": "stderr",
          "text": [
            "/usr/local/lib/python3.7/dist-packages/ipykernel_launcher.py:2: SettingWithCopyWarning: \n",
            "A value is trying to be set on a copy of a slice from a DataFrame.\n",
            "Try using .loc[row_indexer,col_indexer] = value instead\n",
            "\n",
            "See the caveats in the documentation: https://pandas.pydata.org/pandas-docs/stable/user_guide/indexing.html#returning-a-view-versus-a-copy\n",
            "  \n"
          ]
        },
        {
          "output_type": "execute_result",
          "data": {
            "text/plain": [
              "      country             variety  count      %\n",
              "61  Australia              Shiraz   1419  28.99\n",
              "14  Australia          Chardonnay    667  13.63\n",
              "5   Australia  Cabernet Sauvignon    642  13.12\n",
              "49  Australia            Riesling    279   5.70\n",
              "44  Australia          Pinot Noir    189   3.86"
            ],
            "text/html": [
              "\n",
              "  <div id=\"df-cf47562a-f669-4b49-8c29-49a96bfc39a7\">\n",
              "    <div class=\"colab-df-container\">\n",
              "      <div>\n",
              "<style scoped>\n",
              "    .dataframe tbody tr th:only-of-type {\n",
              "        vertical-align: middle;\n",
              "    }\n",
              "\n",
              "    .dataframe tbody tr th {\n",
              "        vertical-align: top;\n",
              "    }\n",
              "\n",
              "    .dataframe thead th {\n",
              "        text-align: right;\n",
              "    }\n",
              "</style>\n",
              "<table border=\"1\" class=\"dataframe\">\n",
              "  <thead>\n",
              "    <tr style=\"text-align: right;\">\n",
              "      <th></th>\n",
              "      <th>country</th>\n",
              "      <th>variety</th>\n",
              "      <th>count</th>\n",
              "      <th>%</th>\n",
              "    </tr>\n",
              "  </thead>\n",
              "  <tbody>\n",
              "    <tr>\n",
              "      <th>61</th>\n",
              "      <td>Australia</td>\n",
              "      <td>Shiraz</td>\n",
              "      <td>1419</td>\n",
              "      <td>28.99</td>\n",
              "    </tr>\n",
              "    <tr>\n",
              "      <th>14</th>\n",
              "      <td>Australia</td>\n",
              "      <td>Chardonnay</td>\n",
              "      <td>667</td>\n",
              "      <td>13.63</td>\n",
              "    </tr>\n",
              "    <tr>\n",
              "      <th>5</th>\n",
              "      <td>Australia</td>\n",
              "      <td>Cabernet Sauvignon</td>\n",
              "      <td>642</td>\n",
              "      <td>13.12</td>\n",
              "    </tr>\n",
              "    <tr>\n",
              "      <th>49</th>\n",
              "      <td>Australia</td>\n",
              "      <td>Riesling</td>\n",
              "      <td>279</td>\n",
              "      <td>5.70</td>\n",
              "    </tr>\n",
              "    <tr>\n",
              "      <th>44</th>\n",
              "      <td>Australia</td>\n",
              "      <td>Pinot Noir</td>\n",
              "      <td>189</td>\n",
              "      <td>3.86</td>\n",
              "    </tr>\n",
              "  </tbody>\n",
              "</table>\n",
              "</div>\n",
              "      <button class=\"colab-df-convert\" onclick=\"convertToInteractive('df-cf47562a-f669-4b49-8c29-49a96bfc39a7')\"\n",
              "              title=\"Convert this dataframe to an interactive table.\"\n",
              "              style=\"display:none;\">\n",
              "        \n",
              "  <svg xmlns=\"http://www.w3.org/2000/svg\" height=\"24px\"viewBox=\"0 0 24 24\"\n",
              "       width=\"24px\">\n",
              "    <path d=\"M0 0h24v24H0V0z\" fill=\"none\"/>\n",
              "    <path d=\"M18.56 5.44l.94 2.06.94-2.06 2.06-.94-2.06-.94-.94-2.06-.94 2.06-2.06.94zm-11 1L8.5 8.5l.94-2.06 2.06-.94-2.06-.94L8.5 2.5l-.94 2.06-2.06.94zm10 10l.94 2.06.94-2.06 2.06-.94-2.06-.94-.94-2.06-.94 2.06-2.06.94z\"/><path d=\"M17.41 7.96l-1.37-1.37c-.4-.4-.92-.59-1.43-.59-.52 0-1.04.2-1.43.59L10.3 9.45l-7.72 7.72c-.78.78-.78 2.05 0 2.83L4 21.41c.39.39.9.59 1.41.59.51 0 1.02-.2 1.41-.59l7.78-7.78 2.81-2.81c.8-.78.8-2.07 0-2.86zM5.41 20L4 18.59l7.72-7.72 1.47 1.35L5.41 20z\"/>\n",
              "  </svg>\n",
              "      </button>\n",
              "      \n",
              "  <style>\n",
              "    .colab-df-container {\n",
              "      display:flex;\n",
              "      flex-wrap:wrap;\n",
              "      gap: 12px;\n",
              "    }\n",
              "\n",
              "    .colab-df-convert {\n",
              "      background-color: #E8F0FE;\n",
              "      border: none;\n",
              "      border-radius: 50%;\n",
              "      cursor: pointer;\n",
              "      display: none;\n",
              "      fill: #1967D2;\n",
              "      height: 32px;\n",
              "      padding: 0 0 0 0;\n",
              "      width: 32px;\n",
              "    }\n",
              "\n",
              "    .colab-df-convert:hover {\n",
              "      background-color: #E2EBFA;\n",
              "      box-shadow: 0px 1px 2px rgba(60, 64, 67, 0.3), 0px 1px 3px 1px rgba(60, 64, 67, 0.15);\n",
              "      fill: #174EA6;\n",
              "    }\n",
              "\n",
              "    [theme=dark] .colab-df-convert {\n",
              "      background-color: #3B4455;\n",
              "      fill: #D2E3FC;\n",
              "    }\n",
              "\n",
              "    [theme=dark] .colab-df-convert:hover {\n",
              "      background-color: #434B5C;\n",
              "      box-shadow: 0px 1px 3px 1px rgba(0, 0, 0, 0.15);\n",
              "      filter: drop-shadow(0px 1px 2px rgba(0, 0, 0, 0.3));\n",
              "      fill: #FFFFFF;\n",
              "    }\n",
              "  </style>\n",
              "\n",
              "      <script>\n",
              "        const buttonEl =\n",
              "          document.querySelector('#df-cf47562a-f669-4b49-8c29-49a96bfc39a7 button.colab-df-convert');\n",
              "        buttonEl.style.display =\n",
              "          google.colab.kernel.accessAllowed ? 'block' : 'none';\n",
              "\n",
              "        async function convertToInteractive(key) {\n",
              "          const element = document.querySelector('#df-cf47562a-f669-4b49-8c29-49a96bfc39a7');\n",
              "          const dataTable =\n",
              "            await google.colab.kernel.invokeFunction('convertToInteractive',\n",
              "                                                     [key], {});\n",
              "          if (!dataTable) return;\n",
              "\n",
              "          const docLinkHtml = 'Like what you see? Visit the ' +\n",
              "            '<a target=\"_blank\" href=https://colab.research.google.com/notebooks/data_table.ipynb>data table notebook</a>'\n",
              "            + ' to learn more about interactive tables.';\n",
              "          element.innerHTML = '';\n",
              "          dataTable['output_type'] = 'display_data';\n",
              "          await google.colab.output.renderOutput(dataTable, element);\n",
              "          const docLink = document.createElement('div');\n",
              "          docLink.innerHTML = docLinkHtml;\n",
              "          element.appendChild(docLink);\n",
              "        }\n",
              "      </script>\n",
              "    </div>\n",
              "  </div>\n",
              "  "
            ]
          },
          "metadata": {},
          "execution_count": 43
        }
      ]
    },
    {
      "cell_type": "markdown",
      "source": [
        "Наиболее популярные вина в Африке и Океании производятся в Южной Африке и это сорта: Sauvignon Blanc, Chardonnay, Shiraz, Cabernet Sauvignon и Red Blend."
      ],
      "metadata": {
        "id": "xiCk6ovU48Zv"
      }
    },
    {
      "cell_type": "code",
      "source": [
        "australia.corr(method = 'pearson')"
      ],
      "metadata": {
        "colab": {
          "base_uri": "https://localhost:8080/",
          "height": 112
        },
        "id": "KWnKof9G2ARK",
        "outputId": "77a81440-1148-4e84-dba6-e4374acbc155"
      },
      "execution_count": 44,
      "outputs": [
        {
          "output_type": "execute_result",
          "data": {
            "text/plain": [
              "          points     price\n",
              "points  1.000000  0.515197\n",
              "price   0.515197  1.000000"
            ],
            "text/html": [
              "\n",
              "  <div id=\"df-f781d42d-b46d-478a-8033-60fd019d7d9e\">\n",
              "    <div class=\"colab-df-container\">\n",
              "      <div>\n",
              "<style scoped>\n",
              "    .dataframe tbody tr th:only-of-type {\n",
              "        vertical-align: middle;\n",
              "    }\n",
              "\n",
              "    .dataframe tbody tr th {\n",
              "        vertical-align: top;\n",
              "    }\n",
              "\n",
              "    .dataframe thead th {\n",
              "        text-align: right;\n",
              "    }\n",
              "</style>\n",
              "<table border=\"1\" class=\"dataframe\">\n",
              "  <thead>\n",
              "    <tr style=\"text-align: right;\">\n",
              "      <th></th>\n",
              "      <th>points</th>\n",
              "      <th>price</th>\n",
              "    </tr>\n",
              "  </thead>\n",
              "  <tbody>\n",
              "    <tr>\n",
              "      <th>points</th>\n",
              "      <td>1.000000</td>\n",
              "      <td>0.515197</td>\n",
              "    </tr>\n",
              "    <tr>\n",
              "      <th>price</th>\n",
              "      <td>0.515197</td>\n",
              "      <td>1.000000</td>\n",
              "    </tr>\n",
              "  </tbody>\n",
              "</table>\n",
              "</div>\n",
              "      <button class=\"colab-df-convert\" onclick=\"convertToInteractive('df-f781d42d-b46d-478a-8033-60fd019d7d9e')\"\n",
              "              title=\"Convert this dataframe to an interactive table.\"\n",
              "              style=\"display:none;\">\n",
              "        \n",
              "  <svg xmlns=\"http://www.w3.org/2000/svg\" height=\"24px\"viewBox=\"0 0 24 24\"\n",
              "       width=\"24px\">\n",
              "    <path d=\"M0 0h24v24H0V0z\" fill=\"none\"/>\n",
              "    <path d=\"M18.56 5.44l.94 2.06.94-2.06 2.06-.94-2.06-.94-.94-2.06-.94 2.06-2.06.94zm-11 1L8.5 8.5l.94-2.06 2.06-.94-2.06-.94L8.5 2.5l-.94 2.06-2.06.94zm10 10l.94 2.06.94-2.06 2.06-.94-2.06-.94-.94-2.06-.94 2.06-2.06.94z\"/><path d=\"M17.41 7.96l-1.37-1.37c-.4-.4-.92-.59-1.43-.59-.52 0-1.04.2-1.43.59L10.3 9.45l-7.72 7.72c-.78.78-.78 2.05 0 2.83L4 21.41c.39.39.9.59 1.41.59.51 0 1.02-.2 1.41-.59l7.78-7.78 2.81-2.81c.8-.78.8-2.07 0-2.86zM5.41 20L4 18.59l7.72-7.72 1.47 1.35L5.41 20z\"/>\n",
              "  </svg>\n",
              "      </button>\n",
              "      \n",
              "  <style>\n",
              "    .colab-df-container {\n",
              "      display:flex;\n",
              "      flex-wrap:wrap;\n",
              "      gap: 12px;\n",
              "    }\n",
              "\n",
              "    .colab-df-convert {\n",
              "      background-color: #E8F0FE;\n",
              "      border: none;\n",
              "      border-radius: 50%;\n",
              "      cursor: pointer;\n",
              "      display: none;\n",
              "      fill: #1967D2;\n",
              "      height: 32px;\n",
              "      padding: 0 0 0 0;\n",
              "      width: 32px;\n",
              "    }\n",
              "\n",
              "    .colab-df-convert:hover {\n",
              "      background-color: #E2EBFA;\n",
              "      box-shadow: 0px 1px 2px rgba(60, 64, 67, 0.3), 0px 1px 3px 1px rgba(60, 64, 67, 0.15);\n",
              "      fill: #174EA6;\n",
              "    }\n",
              "\n",
              "    [theme=dark] .colab-df-convert {\n",
              "      background-color: #3B4455;\n",
              "      fill: #D2E3FC;\n",
              "    }\n",
              "\n",
              "    [theme=dark] .colab-df-convert:hover {\n",
              "      background-color: #434B5C;\n",
              "      box-shadow: 0px 1px 3px 1px rgba(0, 0, 0, 0.15);\n",
              "      filter: drop-shadow(0px 1px 2px rgba(0, 0, 0, 0.3));\n",
              "      fill: #FFFFFF;\n",
              "    }\n",
              "  </style>\n",
              "\n",
              "      <script>\n",
              "        const buttonEl =\n",
              "          document.querySelector('#df-f781d42d-b46d-478a-8033-60fd019d7d9e button.colab-df-convert');\n",
              "        buttonEl.style.display =\n",
              "          google.colab.kernel.accessAllowed ? 'block' : 'none';\n",
              "\n",
              "        async function convertToInteractive(key) {\n",
              "          const element = document.querySelector('#df-f781d42d-b46d-478a-8033-60fd019d7d9e');\n",
              "          const dataTable =\n",
              "            await google.colab.kernel.invokeFunction('convertToInteractive',\n",
              "                                                     [key], {});\n",
              "          if (!dataTable) return;\n",
              "\n",
              "          const docLinkHtml = 'Like what you see? Visit the ' +\n",
              "            '<a target=\"_blank\" href=https://colab.research.google.com/notebooks/data_table.ipynb>data table notebook</a>'\n",
              "            + ' to learn more about interactive tables.';\n",
              "          element.innerHTML = '';\n",
              "          dataTable['output_type'] = 'display_data';\n",
              "          await google.colab.output.renderOutput(dataTable, element);\n",
              "          const docLink = document.createElement('div');\n",
              "          docLink.innerHTML = docLinkHtml;\n",
              "          element.appendChild(docLink);\n",
              "        }\n",
              "      </script>\n",
              "    </div>\n",
              "  </div>\n",
              "  "
            ]
          },
          "metadata": {},
          "execution_count": 44
        }
      ]
    },
    {
      "cell_type": "markdown",
      "source": [
        "Коэффициент корреляции равен 0,52 - это слабая корреляция."
      ],
      "metadata": {
        "id": "NpcHe7SK3aRK"
      }
    },
    {
      "cell_type": "code",
      "source": [
        "fig, ax = plt.subplots(figsize=(15, 5))\n",
        "plt.scatter(australia['price'], australia['points'])\n",
        "plt.xlim(0, 310)\n",
        "plt.title('Зависимость цены вина от рейтинга')\n",
        "plt.xlabel('Цена')\n",
        "plt.ylabel('Рейтинг')\n",
        "plt.figtext(0.4, -0.05, 'Рисунок 6. - Зависимость цены вина от рейтинга Южная Африка')"
      ],
      "metadata": {
        "colab": {
          "base_uri": "https://localhost:8080/",
          "height": 402
        },
        "id": "X-lmVFHu2JS2",
        "outputId": "46ff8a44-40ed-4b6f-d9b6-2edea8143172"
      },
      "execution_count": 45,
      "outputs": [
        {
          "output_type": "execute_result",
          "data": {
            "text/plain": [
              "Text(0.4, -0.05, 'Рисунок 6. - Зависимость цены вина от рейтинга Южная Африка')"
            ]
          },
          "metadata": {},
          "execution_count": 45
        },
        {
          "output_type": "display_data",
          "data": {
            "text/plain": [
              "<Figure size 1080x360 with 1 Axes>"
            ],
            "image/png": "[encoded data removed]"
          },
          "metadata": {
            "needs_background": "light"
          }
        }
      ]
    },
    {
      "cell_type": "markdown",
      "source": [
        "На графике линейная зависимость не прослеживается. Это может говорить о большом количестве выбросов, или о том, что на цену влияют другие факторы. Если выбросы убрать, коэффициент становится ниже."
      ],
      "metadata": {
        "id": "DGxOxkHU40OM"
      }
    },
    {
      "cell_type": "code",
      "source": [
        "popularn = nzeland\n",
        "popularn['count'] = popularn['variety']\n",
        "popularn = popularn.groupby((['country', 'variety']), as_index = False)[['count']].count() \n",
        "popularnsort = popularn.sort_values(axis=0, by=['count'], ascending=False)\n",
        "popularnsort['%'] = round((100*popularnsort['count']/popularnsort['count'].sum()), 2)\n",
        "popularnsort.head(5)"
      ],
      "metadata": {
        "colab": {
          "base_uri": "https://localhost:8080/",
          "height": 315
        },
        "id": "ObnAtzpx1ekZ",
        "outputId": "0384e104-294e-44ee-b420-77c1ff3c6b7d"
      },
      "execution_count": 46,
      "outputs": [
        {
          "output_type": "stream",
          "name": "stderr",
          "text": [
            "/usr/local/lib/python3.7/dist-packages/ipykernel_launcher.py:2: SettingWithCopyWarning: \n",
            "A value is trying to be set on a copy of a slice from a DataFrame.\n",
            "Try using .loc[row_indexer,col_indexer] = value instead\n",
            "\n",
            "See the caveats in the documentation: https://pandas.pydata.org/pandas-docs/stable/user_guide/indexing.html#returning-a-view-versus-a-copy\n",
            "  \n"
          ]
        },
        {
          "output_type": "execute_result",
          "data": {
            "text/plain": [
              "        country          variety  count      %\n",
              "23  New Zealand  Sauvignon Blanc   1085  35.34\n",
              "19  New Zealand       Pinot Noir    856  27.88\n",
              "7   New Zealand       Chardonnay    425  13.84\n",
              "22  New Zealand         Riesling    273   8.89\n",
              "18  New Zealand       Pinot Gris    132   4.30"
            ],
            "text/html": [
              "\n",
              "  <div id=\"df-4b709c3e-3d65-4145-8ddd-a5927ce441a1\">\n",
              "    <div class=\"colab-df-container\">\n",
              "      <div>\n",
              "<style scoped>\n",
              "    .dataframe tbody tr th:only-of-type {\n",
              "        vertical-align: middle;\n",
              "    }\n",
              "\n",
              "    .dataframe tbody tr th {\n",
              "        vertical-align: top;\n",
              "    }\n",
              "\n",
              "    .dataframe thead th {\n",
              "        text-align: right;\n",
              "    }\n",
              "</style>\n",
              "<table border=\"1\" class=\"dataframe\">\n",
              "  <thead>\n",
              "    <tr style=\"text-align: right;\">\n",
              "      <th></th>\n",
              "      <th>country</th>\n",
              "      <th>variety</th>\n",
              "      <th>count</th>\n",
              "      <th>%</th>\n",
              "    </tr>\n",
              "  </thead>\n",
              "  <tbody>\n",
              "    <tr>\n",
              "      <th>23</th>\n",
              "      <td>New Zealand</td>\n",
              "      <td>Sauvignon Blanc</td>\n",
              "      <td>1085</td>\n",
              "      <td>35.34</td>\n",
              "    </tr>\n",
              "    <tr>\n",
              "      <th>19</th>\n",
              "      <td>New Zealand</td>\n",
              "      <td>Pinot Noir</td>\n",
              "      <td>856</td>\n",
              "      <td>27.88</td>\n",
              "    </tr>\n",
              "    <tr>\n",
              "      <th>7</th>\n",
              "      <td>New Zealand</td>\n",
              "      <td>Chardonnay</td>\n",
              "      <td>425</td>\n",
              "      <td>13.84</td>\n",
              "    </tr>\n",
              "    <tr>\n",
              "      <th>22</th>\n",
              "      <td>New Zealand</td>\n",
              "      <td>Riesling</td>\n",
              "      <td>273</td>\n",
              "      <td>8.89</td>\n",
              "    </tr>\n",
              "    <tr>\n",
              "      <th>18</th>\n",
              "      <td>New Zealand</td>\n",
              "      <td>Pinot Gris</td>\n",
              "      <td>132</td>\n",
              "      <td>4.30</td>\n",
              "    </tr>\n",
              "  </tbody>\n",
              "</table>\n",
              "</div>\n",
              "      <button class=\"colab-df-convert\" onclick=\"convertToInteractive('df-4b709c3e-3d65-4145-8ddd-a5927ce441a1')\"\n",
              "              title=\"Convert this dataframe to an interactive table.\"\n",
              "              style=\"display:none;\">\n",
              "        \n",
              "  <svg xmlns=\"http://www.w3.org/2000/svg\" height=\"24px\"viewBox=\"0 0 24 24\"\n",
              "       width=\"24px\">\n",
              "    <path d=\"M0 0h24v24H0V0z\" fill=\"none\"/>\n",
              "    <path d=\"M18.56 5.44l.94 2.06.94-2.06 2.06-.94-2.06-.94-.94-2.06-.94 2.06-2.06.94zm-11 1L8.5 8.5l.94-2.06 2.06-.94-2.06-.94L8.5 2.5l-.94 2.06-2.06.94zm10 10l.94 2.06.94-2.06 2.06-.94-2.06-.94-.94-2.06-.94 2.06-2.06.94z\"/><path d=\"M17.41 7.96l-1.37-1.37c-.4-.4-.92-.59-1.43-.59-.52 0-1.04.2-1.43.59L10.3 9.45l-7.72 7.72c-.78.78-.78 2.05 0 2.83L4 21.41c.39.39.9.59 1.41.59.51 0 1.02-.2 1.41-.59l7.78-7.78 2.81-2.81c.8-.78.8-2.07 0-2.86zM5.41 20L4 18.59l7.72-7.72 1.47 1.35L5.41 20z\"/>\n",
              "  </svg>\n",
              "      </button>\n",
              "      \n",
              "  <style>\n",
              "    .colab-df-container {\n",
              "      display:flex;\n",
              "      flex-wrap:wrap;\n",
              "      gap: 12px;\n",
              "    }\n",
              "\n",
              "    .colab-df-convert {\n",
              "      background-color: #E8F0FE;\n",
              "      border: none;\n",
              "      border-radius: 50%;\n",
              "      cursor: pointer;\n",
              "      display: none;\n",
              "      fill: #1967D2;\n",
              "      height: 32px;\n",
              "      padding: 0 0 0 0;\n",
              "      width: 32px;\n",
              "    }\n",
              "\n",
              "    .colab-df-convert:hover {\n",
              "      background-color: #E2EBFA;\n",
              "      box-shadow: 0px 1px 2px rgba(60, 64, 67, 0.3), 0px 1px 3px 1px rgba(60, 64, 67, 0.15);\n",
              "      fill: #174EA6;\n",
              "    }\n",
              "\n",
              "    [theme=dark] .colab-df-convert {\n",
              "      background-color: #3B4455;\n",
              "      fill: #D2E3FC;\n",
              "    }\n",
              "\n",
              "    [theme=dark] .colab-df-convert:hover {\n",
              "      background-color: #434B5C;\n",
              "      box-shadow: 0px 1px 3px 1px rgba(0, 0, 0, 0.15);\n",
              "      filter: drop-shadow(0px 1px 2px rgba(0, 0, 0, 0.3));\n",
              "      fill: #FFFFFF;\n",
              "    }\n",
              "  </style>\n",
              "\n",
              "      <script>\n",
              "        const buttonEl =\n",
              "          document.querySelector('#df-4b709c3e-3d65-4145-8ddd-a5927ce441a1 button.colab-df-convert');\n",
              "        buttonEl.style.display =\n",
              "          google.colab.kernel.accessAllowed ? 'block' : 'none';\n",
              "\n",
              "        async function convertToInteractive(key) {\n",
              "          const element = document.querySelector('#df-4b709c3e-3d65-4145-8ddd-a5927ce441a1');\n",
              "          const dataTable =\n",
              "            await google.colab.kernel.invokeFunction('convertToInteractive',\n",
              "                                                     [key], {});\n",
              "          if (!dataTable) return;\n",
              "\n",
              "          const docLinkHtml = 'Like what you see? Visit the ' +\n",
              "            '<a target=\"_blank\" href=https://colab.research.google.com/notebooks/data_table.ipynb>data table notebook</a>'\n",
              "            + ' to learn more about interactive tables.';\n",
              "          element.innerHTML = '';\n",
              "          dataTable['output_type'] = 'display_data';\n",
              "          await google.colab.output.renderOutput(dataTable, element);\n",
              "          const docLink = document.createElement('div');\n",
              "          docLink.innerHTML = docLinkHtml;\n",
              "          element.appendChild(docLink);\n",
              "        }\n",
              "      </script>\n",
              "    </div>\n",
              "  </div>\n",
              "  "
            ]
          },
          "metadata": {},
          "execution_count": 46
        }
      ]
    },
    {
      "cell_type": "code",
      "source": [
        "nzeland.corr(method = 'pearson')"
      ],
      "metadata": {
        "colab": {
          "base_uri": "https://localhost:8080/",
          "height": 112
        },
        "id": "dhsZffIh2BU7",
        "outputId": "28e8e199-1ccf-4b1d-a67e-4ff3104294b0"
      },
      "execution_count": 47,
      "outputs": [
        {
          "output_type": "execute_result",
          "data": {
            "text/plain": [
              "          points     price\n",
              "points  1.000000  0.429265\n",
              "price   0.429265  1.000000"
            ],
            "text/html": [
              "\n",
              "  <div id=\"df-29a64f37-29f5-4cbf-afcd-279e0c8ce119\">\n",
              "    <div class=\"colab-df-container\">\n",
              "      <div>\n",
              "<style scoped>\n",
              "    .dataframe tbody tr th:only-of-type {\n",
              "        vertical-align: middle;\n",
              "    }\n",
              "\n",
              "    .dataframe tbody tr th {\n",
              "        vertical-align: top;\n",
              "    }\n",
              "\n",
              "    .dataframe thead th {\n",
              "        text-align: right;\n",
              "    }\n",
              "</style>\n",
              "<table border=\"1\" class=\"dataframe\">\n",
              "  <thead>\n",
              "    <tr style=\"text-align: right;\">\n",
              "      <th></th>\n",
              "      <th>points</th>\n",
              "      <th>price</th>\n",
              "    </tr>\n",
              "  </thead>\n",
              "  <tbody>\n",
              "    <tr>\n",
              "      <th>points</th>\n",
              "      <td>1.000000</td>\n",
              "      <td>0.429265</td>\n",
              "    </tr>\n",
              "    <tr>\n",
              "      <th>price</th>\n",
              "      <td>0.429265</td>\n",
              "      <td>1.000000</td>\n",
              "    </tr>\n",
              "  </tbody>\n",
              "</table>\n",
              "</div>\n",
              "      <button class=\"colab-df-convert\" onclick=\"convertToInteractive('df-29a64f37-29f5-4cbf-afcd-279e0c8ce119')\"\n",
              "              title=\"Convert this dataframe to an interactive table.\"\n",
              "              style=\"display:none;\">\n",
              "        \n",
              "  <svg xmlns=\"http://www.w3.org/2000/svg\" height=\"24px\"viewBox=\"0 0 24 24\"\n",
              "       width=\"24px\">\n",
              "    <path d=\"M0 0h24v24H0V0z\" fill=\"none\"/>\n",
              "    <path d=\"M18.56 5.44l.94 2.06.94-2.06 2.06-.94-2.06-.94-.94-2.06-.94 2.06-2.06.94zm-11 1L8.5 8.5l.94-2.06 2.06-.94-2.06-.94L8.5 2.5l-.94 2.06-2.06.94zm10 10l.94 2.06.94-2.06 2.06-.94-2.06-.94-.94-2.06-.94 2.06-2.06.94z\"/><path d=\"M17.41 7.96l-1.37-1.37c-.4-.4-.92-.59-1.43-.59-.52 0-1.04.2-1.43.59L10.3 9.45l-7.72 7.72c-.78.78-.78 2.05 0 2.83L4 21.41c.39.39.9.59 1.41.59.51 0 1.02-.2 1.41-.59l7.78-7.78 2.81-2.81c.8-.78.8-2.07 0-2.86zM5.41 20L4 18.59l7.72-7.72 1.47 1.35L5.41 20z\"/>\n",
              "  </svg>\n",
              "      </button>\n",
              "      \n",
              "  <style>\n",
              "    .colab-df-container {\n",
              "      display:flex;\n",
              "      flex-wrap:wrap;\n",
              "      gap: 12px;\n",
              "    }\n",
              "\n",
              "    .colab-df-convert {\n",
              "      background-color: #E8F0FE;\n",
              "      border: none;\n",
              "      border-radius: 50%;\n",
              "      cursor: pointer;\n",
              "      display: none;\n",
              "      fill: #1967D2;\n",
              "      height: 32px;\n",
              "      padding: 0 0 0 0;\n",
              "      width: 32px;\n",
              "    }\n",
              "\n",
              "    .colab-df-convert:hover {\n",
              "      background-color: #E2EBFA;\n",
              "      box-shadow: 0px 1px 2px rgba(60, 64, 67, 0.3), 0px 1px 3px 1px rgba(60, 64, 67, 0.15);\n",
              "      fill: #174EA6;\n",
              "    }\n",
              "\n",
              "    [theme=dark] .colab-df-convert {\n",
              "      background-color: #3B4455;\n",
              "      fill: #D2E3FC;\n",
              "    }\n",
              "\n",
              "    [theme=dark] .colab-df-convert:hover {\n",
              "      background-color: #434B5C;\n",
              "      box-shadow: 0px 1px 3px 1px rgba(0, 0, 0, 0.15);\n",
              "      filter: drop-shadow(0px 1px 2px rgba(0, 0, 0, 0.3));\n",
              "      fill: #FFFFFF;\n",
              "    }\n",
              "  </style>\n",
              "\n",
              "      <script>\n",
              "        const buttonEl =\n",
              "          document.querySelector('#df-29a64f37-29f5-4cbf-afcd-279e0c8ce119 button.colab-df-convert');\n",
              "        buttonEl.style.display =\n",
              "          google.colab.kernel.accessAllowed ? 'block' : 'none';\n",
              "\n",
              "        async function convertToInteractive(key) {\n",
              "          const element = document.querySelector('#df-29a64f37-29f5-4cbf-afcd-279e0c8ce119');\n",
              "          const dataTable =\n",
              "            await google.colab.kernel.invokeFunction('convertToInteractive',\n",
              "                                                     [key], {});\n",
              "          if (!dataTable) return;\n",
              "\n",
              "          const docLinkHtml = 'Like what you see? Visit the ' +\n",
              "            '<a target=\"_blank\" href=https://colab.research.google.com/notebooks/data_table.ipynb>data table notebook</a>'\n",
              "            + ' to learn more about interactive tables.';\n",
              "          element.innerHTML = '';\n",
              "          dataTable['output_type'] = 'display_data';\n",
              "          await google.colab.output.renderOutput(dataTable, element);\n",
              "          const docLink = document.createElement('div');\n",
              "          docLink.innerHTML = docLinkHtml;\n",
              "          element.appendChild(docLink);\n",
              "        }\n",
              "      </script>\n",
              "    </div>\n",
              "  </div>\n",
              "  "
            ]
          },
          "metadata": {},
          "execution_count": 47
        }
      ]
    },
    {
      "cell_type": "markdown",
      "source": [
        "Коэффициент корреляции равен 0,43 - это слабая корреляция."
      ],
      "metadata": {
        "id": "flHfFYz23di2"
      }
    },
    {
      "cell_type": "code",
      "source": [
        "fig, ax = plt.subplots(figsize=(15, 5))\n",
        "plt.scatter(nzeland['price'], nzeland['points'])\n",
        "plt.xlim(0, 130)\n",
        "plt.title('Зависимость цены вина от рейтинга')\n",
        "plt.xlabel('Цена')\n",
        "plt.ylabel('Рейтинг')\n",
        "plt.figtext(0.4, -0.05, 'Рисунок 6. - Зависимость цены вина от рейтинга Южная Африка')"
      ],
      "metadata": {
        "colab": {
          "base_uri": "https://localhost:8080/",
          "height": 402
        },
        "id": "Iypq-ahI2Ke9",
        "outputId": "bfe0fbeb-58c7-4f76-fb81-11828a99c136"
      },
      "execution_count": 48,
      "outputs": [
        {
          "output_type": "execute_result",
          "data": {
            "text/plain": [
              "Text(0.4, -0.05, 'Рисунок 6. - Зависимость цены вина от рейтинга Южная Африка')"
            ]
          },
          "metadata": {},
          "execution_count": 48
        },
        {
          "output_type": "display_data",
          "data": {
            "text/plain": [
              "<Figure size 1080x360 with 1 Axes>"
            ],
            "image/png": "[encoded data removed]"
          },
          "metadata": {
            "needs_background": "light"
          }
        }
      ]
    },
    {
      "cell_type": "markdown",
      "source": [
        "На графике линейная зависимость не прослеживается. Это может говорить о большом количестве выбросов, или о том, что на цену влияют другие факторы. Если выбросы убрать, коэффициент становится ниже."
      ],
      "metadata": {
        "id": "2qcT3u7X43n1"
      }
    },
    {
      "cell_type": "markdown",
      "metadata": {
        "id": "7_4FFJ67lmhe"
      },
      "source": [
        "Вывод:  \n",
        "*   Наиболее популярные вина в Африке и Океании производятся в Южной Африке и это сорта: Sauvignon Blanc, Chardonnay, Shiraz, Cabernet Sauvignon и Red Blend.\n",
        "*   В Африке, Австралии и Новой Зеландии коэффициент корреляции около 0,5 это слабая корреляция.\n",
        "*   На графике линейная зависимость не прослеживается. \n",
        "*   Если выбросы убрать, коэффициент становится ниже. Значит модель линейной регрессии не подходит."
      ]
    },
    {
      "cell_type": "markdown",
      "metadata": {
        "id": "T6RFnOZOVBp9"
      },
      "source": [
        "# 4. Исследование статистических показателей зависимости цены вина от рейтинга в регионе."
      ]
    },
    {
      "cell_type": "markdown",
      "metadata": {
        "id": "2ejD-emKKbO5"
      },
      "source": [
        "В рамках исследования статистических показателей необходимо построить линейную регрессию зависимости между ценой продукта и его рейтингом."
      ]
    },
    {
      "cell_type": "code",
      "execution_count": 49,
      "metadata": {
        "id": "v_XWm_A-VBp9"
      },
      "outputs": [],
      "source": [
        "from sklearn.model_selection import train_test_split\n",
        "from sklearn.metrics import mean_squared_error\n",
        "from sklearn.metrics import r2_score\n",
        "import statsmodels.api as sm"
      ]
    },
    {
      "cell_type": "code",
      "source": [
        "#задаем х, у как нецелевой и целевой набор признаков объекта\n",
        "X = safrica[['points']]\n",
        "Y = safrica[['price']]\n",
        "#определяем размер тестовой и тренировочной выборки\n",
        "X_train, X_test, Y_train, Y_test = train_test_split(X, Y,\n",
        "                                                    train_size=0.7,\n",
        "                                                    test_size=0.3,\n",
        "                                                    random_state=10)"
      ],
      "metadata": {
        "id": "VaDt9GVT6Fne"
      },
      "execution_count": 50,
      "outputs": []
    },
    {
      "cell_type": "code",
      "source": [
        "#добавляем константу для создания пересечения\n",
        "X_train_sm = sm.add_constant(X_train)\n",
        "#подгоняем прямую регрессии, используя OLS\n",
        "lr = sm.OLS(Y_train, X_train_sm).fit()"
      ],
      "metadata": {
        "id": "h7yevu4H7wUW"
      },
      "execution_count": 51,
      "outputs": []
    },
    {
      "cell_type": "code",
      "source": [
        "#выводим праметры, то есть пересечение и наклон установленной линии регрессии \n",
        "lr.params"
      ],
      "metadata": {
        "id": "xZQ_vCbO8ynb",
        "colab": {
          "base_uri": "https://localhost:8080/",
          "height": 0
        },
        "outputId": "d03bc4a6-88fa-48f7-df86-d386c609a998"
      },
      "execution_count": 52,
      "outputs": [
        {
          "output_type": "execute_result",
          "data": {
            "text/plain": [
              "const    -260.622624\n",
              "points      3.230073\n",
              "dtype: float64"
            ]
          },
          "metadata": {},
          "execution_count": 52
        }
      ]
    },
    {
      "cell_type": "code",
      "source": [
        "#выполнение сводной операции выводит список всех различных параметров \n",
        "#установленной линии регрессии\n",
        "print(lr.summary())"
      ],
      "metadata": {
        "colab": {
          "base_uri": "https://localhost:8080/",
          "height": 0
        },
        "id": "EJlmyJD4Gk2b",
        "outputId": "59d4f639-d7b5-4189-d6b5-06770ad6b81c"
      },
      "execution_count": 53,
      "outputs": [
        {
          "output_type": "stream",
          "name": "stdout",
          "text": [
            "                            OLS Regression Results                            \n",
            "==============================================================================\n",
            "Dep. Variable:                  price   R-squared:                       0.304\n",
            "Model:                            OLS   Adj. R-squared:                  0.303\n",
            "Method:                 Least Squares   F-statistic:                     681.4\n",
            "Date:                Thu, 29 Sep 2022   Prob (F-statistic):          5.64e-125\n",
            "Time:                        10:40:09   Log-Likelihood:                -6077.1\n",
            "No. Observations:                1565   AIC:                         1.216e+04\n",
            "Df Residuals:                    1563   BIC:                         1.217e+04\n",
            "Df Model:                           1                                         \n",
            "Covariance Type:            nonrobust                                         \n",
            "==============================================================================\n",
            "                 coef    std err          t      P>|t|      [0.025      0.975]\n",
            "------------------------------------------------------------------------------\n",
            "const       -260.6226     10.794    -24.146      0.000    -281.794    -239.451\n",
            "points         3.2301      0.124     26.104      0.000       2.987       3.473\n",
            "==============================================================================\n",
            "Omnibus:                     1070.092   Durbin-Watson:                   1.978\n",
            "Prob(Omnibus):                  0.000   Jarque-Bera (JB):            22632.692\n",
            "Skew:                           2.896   Prob(JB):                         0.00\n",
            "Kurtosis:                      20.707   Cond. No.                     3.17e+03\n",
            "==============================================================================\n",
            "\n",
            "Notes:\n",
            "[1] Standard Errors assume that the covariance matrix of the errors is correctly specified.\n",
            "[2] The condition number is large, 3.17e+03. This might indicate that there are\n",
            "strong multicollinearity or other numerical problems.\n"
          ]
        }
      ]
    },
    {
      "cell_type": "markdown",
      "source": [
        "R квадрат равен 0,304, значит линейная регрессия нам не подходит.\n",
        "price = -260.6226+3.2301 * points\n",
        "При увеличении на единицу рейтинга цена возрастает на -260.6226+3.2301*рейтинг. "
      ],
      "metadata": {
        "id": "e1hgrfsPNuqw"
      }
    },
    {
      "cell_type": "code",
      "source": [
        "plt.scatter(X_train, Y_train)\n",
        "plt.plot(X_train, -260.6226+3.2301*X_train, 'r')\n",
        "plt.show()\n",
        "plt.figtext(0.5, -0.05, \"Рисунок 7 - линейная регрессия\")"
      ],
      "metadata": {
        "colab": {
          "base_uri": "https://localhost:8080/",
          "height": 301
        },
        "id": "ZpLCqdK6O8Wu",
        "outputId": "f27d8210-ae89-442d-d153-2e7a34eeb4ff"
      },
      "execution_count": 54,
      "outputs": [
        {
          "output_type": "display_data",
          "data": {
            "text/plain": [
              "<Figure size 432x288 with 1 Axes>"
            ],
            "image/png": "[encoded data removed]"
          },
          "metadata": {
            "needs_background": "light"
          }
        },
        {
          "output_type": "execute_result",
          "data": {
            "text/plain": [
              "Text(0.5, -0.05, 'Рисунок 7 - линейная регрессия')"
            ]
          },
          "metadata": {},
          "execution_count": 54
        },
        {
          "output_type": "display_data",
          "data": {
            "text/plain": [
              "<Figure size 432x288 with 0 Axes>"
            ]
          },
          "metadata": {}
        }
      ]
    },
    {
      "cell_type": "markdown",
      "metadata": {
        "id": "-syMSC6alptO"
      },
      "source": [
        "Вывод:\n",
        "*   R квадрат равен 0,304, значит линейная регрессия нам не подходит. price = -260.6226+3.2301 * points При увеличении на единицу рейтинга цена возрастает на -260.6226+3.2301*рейтинг.\n",
        "*   Применение модели линейной регрессии не эффективно. Нужно использовать более точные модели\n",
        "\n"
      ]
    },
    {
      "cell_type": "markdown",
      "metadata": {
        "id": "N_7yZU9gVBp9"
      },
      "source": [
        "# 5. Проверка гипотез"
      ]
    },
    {
      "cell_type": "markdown",
      "metadata": {
        "id": "UCw0lG21Kjuo"
      },
      "source": [
        "На основе проведенном анализе, были выявлены некоторые закономерности. Это позволяет сформулировать следующие гипотезы:\n",
        "\n",
        "* H0: Средние пользовательские рейтинги красного и белого вина одинаковые.\n",
        "\n",
        "  H1:Средние пользовательские рейтинги красного и белого вина разные.\n",
        "\n",
        "\n",
        "* H0:Средние цены двух популярных сортов вина одинаковые.\n",
        "\n",
        "  H1:Средние цены двух популярных сортов вина разные.\n",
        "\n",
        "* Пороговое значение alpha - необходимо задать самостоятельно."
      ]
    },
    {
      "cell_type": "markdown",
      "source": [
        "## 5.1 H0: Средние пользовательские рейтинги красного и белого вина одинаковые.\n",
        "\n",
        "## H1:Средние пользовательские рейтинги красного и белого вина разные."
      ],
      "metadata": {
        "id": "5LjvJVNWevZW"
      }
    },
    {
      "cell_type": "code",
      "execution_count": 55,
      "metadata": {
        "id": "5xx1jrv9VBp9"
      },
      "outputs": [],
      "source": [
        "from sklearn.preprocessing import LabelEncoder\n",
        "import copy\n",
        "import scipy.stats as stats"
      ]
    },
    {
      "cell_type": "code",
      "source": [
        "color = {\n",
        "\"Chardonnay\": \"white\",\n",
        "\"Pinot Noir\": \"red\",\n",
        "\"Cabernet Sauvignon\": \"red\",\n",
        "\"Red Blend\": \"red\",\n",
        "\"Bordeaux-style Red Blend\": \"red\",\n",
        "\"Sauvignon Blanc\": \"white\",\n",
        "\"Syrah\": \"red\",\n",
        "\"Riesling\": \"red\",\n",
        "\"Merlot\": \"red\",\n",
        "\"Zinfandel\": \"red\",\n",
        "\"Sangiovese\": \"red\",\n",
        "\"Malbec\": \"red\",\n",
        "\"White Blend\": \"white\",\n",
        "\"Rosé\": \"other\",\n",
        "\"Tempranillo\": \"red\",\n",
        "\"Nebbiolo\": \"red\",\n",
        "\"Portuguese Red\": \"red\",\n",
        "\"Sparkling Blend\": \"other\",\n",
        "\"Shiraz\": \"red\",\n",
        "\"Corvina, Rondinella, Molinara\": \"red\",\n",
        "\"Rhône-style Red Blend\": \"red\",\n",
        "\"Barbera\": \"red\",\n",
        "\"Pinot Gris\": \"white\",\n",
        "\"Viognier\": \"white\",\n",
        "\"Bordeaux-style White Blend\": \"white\",\n",
        "\"Champagne Blend\": \"other\",\n",
        "\"Port\": \"red\",\n",
        "\"Grüner Veltliner\": \"white\",\n",
        "\"Gewürztraminer\": \"white\",\n",
        "\"Portuguese White\": \"white\",\n",
        "\"Petite Sirah\": \"red\",\n",
        "\"Carmenère\": \"red\",\n",
        "\"Syrah-Grenache\": \"red\",\n",
        "\"Semillon-Chardonnay\": \"white\"\n",
        "}\n",
        "df['color']=df['variety'].map(color)\n",
        "df"
      ],
      "metadata": {
        "colab": {
          "base_uri": "https://localhost:8080/",
          "height": 731
        },
        "id": "rlyph5qgfj34",
        "outputId": "1f82d4fb-aea1-4392-843d-10890f5cee91"
      },
      "execution_count": 56,
      "outputs": [
        {
          "output_type": "stream",
          "name": "stderr",
          "text": [
            "/usr/local/lib/python3.7/dist-packages/ipykernel_launcher.py:37: SettingWithCopyWarning: \n",
            "A value is trying to be set on a copy of a slice from a DataFrame.\n",
            "Try using .loc[row_indexer,col_indexer] = value instead\n",
            "\n",
            "See the caveats in the documentation: https://pandas.pydata.org/pandas-docs/stable/user_guide/indexing.html#returning-a-view-versus-a-copy\n"
          ]
        },
        {
          "output_type": "execute_result",
          "data": {
            "text/plain": [
              "             country                                        description  \\\n",
              "25       New Zealand  Yields were down in 2015, but intensity is up,...   \n",
              "61         Australia  Moorooduc's estate Pinot Noir is a solid value...   \n",
              "114     South Africa  Muted aromas of tart gooseberry and lime peel ...   \n",
              "216          Morocco  Tones of black cherry, toffee, tobacco, tar an...   \n",
              "305      New Zealand  Yields were down in 2015, but intensity is up,...   \n",
              "...              ...                                                ...   \n",
              "150786     Australia  Nutty, toasty and tropical-fruit elements are ...   \n",
              "150801     Australia  This strongly-oaked wine has apple, lemon and ...   \n",
              "150810     Australia  Deep cassis aromas, a touch of licorice, and m...   \n",
              "150819     Australia  This defines mainstream, affordable Chardonnay...   \n",
              "150854     Australia  The tangy grapefruit, lemon and pear notes on ...   \n",
              "\n",
              "             designation  points  price         province              variety  \\\n",
              "25       Maté's Vineyard      94   57.0            Kumeu           Chardonnay   \n",
              "61                   NaN      91   36.0         Victoria           Pinot Noir   \n",
              "114         Circumstance      86   20.0     Stellenbosch      Sauvignon Blanc   \n",
              "216     Domaine Excelcio      93   35.0       Guerrouane       Syrah-Grenache   \n",
              "305      Maté's Vineyard      94   57.0            Kumeu           Chardonnay   \n",
              "...                  ...     ...    ...              ...                  ...   \n",
              "150786   Limited Release      90   38.0  South Australia           Chardonnay   \n",
              "150801           Reserve      88   16.0  South Australia           Chardonnay   \n",
              "150810               NaN      88   11.0  South Australia   Cabernet Sauvignon   \n",
              "150819               NaN      87   10.0  South Australia           Chardonnay   \n",
              "150854               NaN      85    8.0  South Australia  Semillon-Chardonnay   \n",
              "\n",
              "                winery       continent                count  color  \n",
              "25         Kumeu River  Africa&Oceania           Chardonnay  white  \n",
              "61           Moorooduc  Africa&Oceania           Pinot Noir    red  \n",
              "114         Waterkloof  Africa&Oceania      Sauvignon Blanc  white  \n",
              "216     Bernard Magrez  Africa&Oceania       Syrah-Grenache    red  \n",
              "305        Kumeu River  Africa&Oceania           Chardonnay  white  \n",
              "...                ...             ...                  ...    ...  \n",
              "150786   Jacob's Creek  Africa&Oceania           Chardonnay  white  \n",
              "150801   Jacob's Creek  Africa&Oceania           Chardonnay  white  \n",
              "150810   Jacob's Creek  Africa&Oceania   Cabernet Sauvignon    red  \n",
              "150819   Jacob's Creek  Africa&Oceania           Chardonnay  white  \n",
              "150854   Jacob's Creek  Africa&Oceania  Semillon-Chardonnay  white  \n",
              "\n",
              "[10213 rows x 11 columns]"
            ],
            "text/html": [
              "\n",
              "  <div id=\"df-84fbe48b-5b3c-4778-8c2a-25188c9e4359\">\n",
              "    <div class=\"colab-df-container\">\n",
              "      <div>\n",
              "<style scoped>\n",
              "    .dataframe tbody tr th:only-of-type {\n",
              "        vertical-align: middle;\n",
              "    }\n",
              "\n",
              "    .dataframe tbody tr th {\n",
              "        vertical-align: top;\n",
              "    }\n",
              "\n",
              "    .dataframe thead th {\n",
              "        text-align: right;\n",
              "    }\n",
              "</style>\n",
              "<table border=\"1\" class=\"dataframe\">\n",
              "  <thead>\n",
              "    <tr style=\"text-align: right;\">\n",
              "      <th></th>\n",
              "      <th>country</th>\n",
              "      <th>description</th>\n",
              "      <th>designation</th>\n",
              "      <th>points</th>\n",
              "      <th>price</th>\n",
              "      <th>province</th>\n",
              "      <th>variety</th>\n",
              "      <th>winery</th>\n",
              "      <th>continent</th>\n",
              "      <th>count</th>\n",
              "      <th>color</th>\n",
              "    </tr>\n",
              "  </thead>\n",
              "  <tbody>\n",
              "    <tr>\n",
              "      <th>25</th>\n",
              "      <td>New Zealand</td>\n",
              "      <td>Yields were down in 2015, but intensity is up,...</td>\n",
              "      <td>Maté's Vineyard</td>\n",
              "      <td>94</td>\n",
              "      <td>57.0</td>\n",
              "      <td>Kumeu</td>\n",
              "      <td>Chardonnay</td>\n",
              "      <td>Kumeu River</td>\n",
              "      <td>Africa&amp;Oceania</td>\n",
              "      <td>Chardonnay</td>\n",
              "      <td>white</td>\n",
              "    </tr>\n",
              "    <tr>\n",
              "      <th>61</th>\n",
              "      <td>Australia</td>\n",
              "      <td>Moorooduc's estate Pinot Noir is a solid value...</td>\n",
              "      <td>NaN</td>\n",
              "      <td>91</td>\n",
              "      <td>36.0</td>\n",
              "      <td>Victoria</td>\n",
              "      <td>Pinot Noir</td>\n",
              "      <td>Moorooduc</td>\n",
              "      <td>Africa&amp;Oceania</td>\n",
              "      <td>Pinot Noir</td>\n",
              "      <td>red</td>\n",
              "    </tr>\n",
              "    <tr>\n",
              "      <th>114</th>\n",
              "      <td>South Africa</td>\n",
              "      <td>Muted aromas of tart gooseberry and lime peel ...</td>\n",
              "      <td>Circumstance</td>\n",
              "      <td>86</td>\n",
              "      <td>20.0</td>\n",
              "      <td>Stellenbosch</td>\n",
              "      <td>Sauvignon Blanc</td>\n",
              "      <td>Waterkloof</td>\n",
              "      <td>Africa&amp;Oceania</td>\n",
              "      <td>Sauvignon Blanc</td>\n",
              "      <td>white</td>\n",
              "    </tr>\n",
              "    <tr>\n",
              "      <th>216</th>\n",
              "      <td>Morocco</td>\n",
              "      <td>Tones of black cherry, toffee, tobacco, tar an...</td>\n",
              "      <td>Domaine Excelcio</td>\n",
              "      <td>93</td>\n",
              "      <td>35.0</td>\n",
              "      <td>Guerrouane</td>\n",
              "      <td>Syrah-Grenache</td>\n",
              "      <td>Bernard Magrez</td>\n",
              "      <td>Africa&amp;Oceania</td>\n",
              "      <td>Syrah-Grenache</td>\n",
              "      <td>red</td>\n",
              "    </tr>\n",
              "    <tr>\n",
              "      <th>305</th>\n",
              "      <td>New Zealand</td>\n",
              "      <td>Yields were down in 2015, but intensity is up,...</td>\n",
              "      <td>Maté's Vineyard</td>\n",
              "      <td>94</td>\n",
              "      <td>57.0</td>\n",
              "      <td>Kumeu</td>\n",
              "      <td>Chardonnay</td>\n",
              "      <td>Kumeu River</td>\n",
              "      <td>Africa&amp;Oceania</td>\n",
              "      <td>Chardonnay</td>\n",
              "      <td>white</td>\n",
              "    </tr>\n",
              "    <tr>\n",
              "      <th>...</th>\n",
              "      <td>...</td>\n",
              "      <td>...</td>\n",
              "      <td>...</td>\n",
              "      <td>...</td>\n",
              "      <td>...</td>\n",
              "      <td>...</td>\n",
              "      <td>...</td>\n",
              "      <td>...</td>\n",
              "      <td>...</td>\n",
              "      <td>...</td>\n",
              "      <td>...</td>\n",
              "    </tr>\n",
              "    <tr>\n",
              "      <th>150786</th>\n",
              "      <td>Australia</td>\n",
              "      <td>Nutty, toasty and tropical-fruit elements are ...</td>\n",
              "      <td>Limited Release</td>\n",
              "      <td>90</td>\n",
              "      <td>38.0</td>\n",
              "      <td>South Australia</td>\n",
              "      <td>Chardonnay</td>\n",
              "      <td>Jacob's Creek</td>\n",
              "      <td>Africa&amp;Oceania</td>\n",
              "      <td>Chardonnay</td>\n",
              "      <td>white</td>\n",
              "    </tr>\n",
              "    <tr>\n",
              "      <th>150801</th>\n",
              "      <td>Australia</td>\n",
              "      <td>This strongly-oaked wine has apple, lemon and ...</td>\n",
              "      <td>Reserve</td>\n",
              "      <td>88</td>\n",
              "      <td>16.0</td>\n",
              "      <td>South Australia</td>\n",
              "      <td>Chardonnay</td>\n",
              "      <td>Jacob's Creek</td>\n",
              "      <td>Africa&amp;Oceania</td>\n",
              "      <td>Chardonnay</td>\n",
              "      <td>white</td>\n",
              "    </tr>\n",
              "    <tr>\n",
              "      <th>150810</th>\n",
              "      <td>Australia</td>\n",
              "      <td>Deep cassis aromas, a touch of licorice, and m...</td>\n",
              "      <td>NaN</td>\n",
              "      <td>88</td>\n",
              "      <td>11.0</td>\n",
              "      <td>South Australia</td>\n",
              "      <td>Cabernet Sauvignon</td>\n",
              "      <td>Jacob's Creek</td>\n",
              "      <td>Africa&amp;Oceania</td>\n",
              "      <td>Cabernet Sauvignon</td>\n",
              "      <td>red</td>\n",
              "    </tr>\n",
              "    <tr>\n",
              "      <th>150819</th>\n",
              "      <td>Australia</td>\n",
              "      <td>This defines mainstream, affordable Chardonnay...</td>\n",
              "      <td>NaN</td>\n",
              "      <td>87</td>\n",
              "      <td>10.0</td>\n",
              "      <td>South Australia</td>\n",
              "      <td>Chardonnay</td>\n",
              "      <td>Jacob's Creek</td>\n",
              "      <td>Africa&amp;Oceania</td>\n",
              "      <td>Chardonnay</td>\n",
              "      <td>white</td>\n",
              "    </tr>\n",
              "    <tr>\n",
              "      <th>150854</th>\n",
              "      <td>Australia</td>\n",
              "      <td>The tangy grapefruit, lemon and pear notes on ...</td>\n",
              "      <td>NaN</td>\n",
              "      <td>85</td>\n",
              "      <td>8.0</td>\n",
              "      <td>South Australia</td>\n",
              "      <td>Semillon-Chardonnay</td>\n",
              "      <td>Jacob's Creek</td>\n",
              "      <td>Africa&amp;Oceania</td>\n",
              "      <td>Semillon-Chardonnay</td>\n",
              "      <td>white</td>\n",
              "    </tr>\n",
              "  </tbody>\n",
              "</table>\n",
              "<p>10213 rows × 11 columns</p>\n",
              "</div>\n",
              "      <button class=\"colab-df-convert\" onclick=\"convertToInteractive('df-84fbe48b-5b3c-4778-8c2a-25188c9e4359')\"\n",
              "              title=\"Convert this dataframe to an interactive table.\"\n",
              "              style=\"display:none;\">\n",
              "        \n",
              "  <svg xmlns=\"http://www.w3.org/2000/svg\" height=\"24px\"viewBox=\"0 0 24 24\"\n",
              "       width=\"24px\">\n",
              "    <path d=\"M0 0h24v24H0V0z\" fill=\"none\"/>\n",
              "    <path d=\"M18.56 5.44l.94 2.06.94-2.06 2.06-.94-2.06-.94-.94-2.06-.94 2.06-2.06.94zm-11 1L8.5 8.5l.94-2.06 2.06-.94-2.06-.94L8.5 2.5l-.94 2.06-2.06.94zm10 10l.94 2.06.94-2.06 2.06-.94-2.06-.94-.94-2.06-.94 2.06-2.06.94z\"/><path d=\"M17.41 7.96l-1.37-1.37c-.4-.4-.92-.59-1.43-.59-.52 0-1.04.2-1.43.59L10.3 9.45l-7.72 7.72c-.78.78-.78 2.05 0 2.83L4 21.41c.39.39.9.59 1.41.59.51 0 1.02-.2 1.41-.59l7.78-7.78 2.81-2.81c.8-.78.8-2.07 0-2.86zM5.41 20L4 18.59l7.72-7.72 1.47 1.35L5.41 20z\"/>\n",
              "  </svg>\n",
              "      </button>\n",
              "      \n",
              "  <style>\n",
              "    .colab-df-container {\n",
              "      display:flex;\n",
              "      flex-wrap:wrap;\n",
              "      gap: 12px;\n",
              "    }\n",
              "\n",
              "    .colab-df-convert {\n",
              "      background-color: #E8F0FE;\n",
              "      border: none;\n",
              "      border-radius: 50%;\n",
              "      cursor: pointer;\n",
              "      display: none;\n",
              "      fill: #1967D2;\n",
              "      height: 32px;\n",
              "      padding: 0 0 0 0;\n",
              "      width: 32px;\n",
              "    }\n",
              "\n",
              "    .colab-df-convert:hover {\n",
              "      background-color: #E2EBFA;\n",
              "      box-shadow: 0px 1px 2px rgba(60, 64, 67, 0.3), 0px 1px 3px 1px rgba(60, 64, 67, 0.15);\n",
              "      fill: #174EA6;\n",
              "    }\n",
              "\n",
              "    [theme=dark] .colab-df-convert {\n",
              "      background-color: #3B4455;\n",
              "      fill: #D2E3FC;\n",
              "    }\n",
              "\n",
              "    [theme=dark] .colab-df-convert:hover {\n",
              "      background-color: #434B5C;\n",
              "      box-shadow: 0px 1px 3px 1px rgba(0, 0, 0, 0.15);\n",
              "      filter: drop-shadow(0px 1px 2px rgba(0, 0, 0, 0.3));\n",
              "      fill: #FFFFFF;\n",
              "    }\n",
              "  </style>\n",
              "\n",
              "      <script>\n",
              "        const buttonEl =\n",
              "          document.querySelector('#df-84fbe48b-5b3c-4778-8c2a-25188c9e4359 button.colab-df-convert');\n",
              "        buttonEl.style.display =\n",
              "          google.colab.kernel.accessAllowed ? 'block' : 'none';\n",
              "\n",
              "        async function convertToInteractive(key) {\n",
              "          const element = document.querySelector('#df-84fbe48b-5b3c-4778-8c2a-25188c9e4359');\n",
              "          const dataTable =\n",
              "            await google.colab.kernel.invokeFunction('convertToInteractive',\n",
              "                                                     [key], {});\n",
              "          if (!dataTable) return;\n",
              "\n",
              "          const docLinkHtml = 'Like what you see? Visit the ' +\n",
              "            '<a target=\"_blank\" href=https://colab.research.google.com/notebooks/data_table.ipynb>data table notebook</a>'\n",
              "            + ' to learn more about interactive tables.';\n",
              "          element.innerHTML = '';\n",
              "          dataTable['output_type'] = 'display_data';\n",
              "          await google.colab.output.renderOutput(dataTable, element);\n",
              "          const docLink = document.createElement('div');\n",
              "          docLink.innerHTML = docLinkHtml;\n",
              "          element.appendChild(docLink);\n",
              "        }\n",
              "      </script>\n",
              "    </div>\n",
              "  </div>\n",
              "  "
            ]
          },
          "metadata": {},
          "execution_count": 56
        }
      ]
    },
    {
      "cell_type": "code",
      "source": [
        "df = df.dropna(subset = ['color'])\n",
        "df.info()"
      ],
      "metadata": {
        "colab": {
          "base_uri": "https://localhost:8080/",
          "height": 0
        },
        "id": "tiH6WHoPgR6Y",
        "outputId": "493e10ec-4294-489b-9e63-f91201b3f953"
      },
      "execution_count": 57,
      "outputs": [
        {
          "output_type": "stream",
          "name": "stdout",
          "text": [
            "<class 'pandas.core.frame.DataFrame'>\n",
            "Int64Index: 8816 entries, 25 to 150854\n",
            "Data columns (total 11 columns):\n",
            " #   Column       Non-Null Count  Dtype  \n",
            "---  ------       --------------  -----  \n",
            " 0   country      8816 non-null   object \n",
            " 1   description  8816 non-null   object \n",
            " 2   designation  5006 non-null   object \n",
            " 3   points       8816 non-null   int64  \n",
            " 4   price        8816 non-null   float64\n",
            " 5   province     8816 non-null   object \n",
            " 6   variety      8816 non-null   object \n",
            " 7   winery       8816 non-null   object \n",
            " 8   continent    8816 non-null   object \n",
            " 9   count        8816 non-null   object \n",
            " 10  color        8816 non-null   object \n",
            "dtypes: float64(1), int64(1), object(9)\n",
            "memory usage: 826.5+ KB\n"
          ]
        }
      ]
    },
    {
      "cell_type": "code",
      "source": [
        "dfw = df[df.loc[:, 'color'].isin(['white'])]\n",
        "dfr = df[df.loc[:, 'color'].isin(['red'])]\n",
        "mpw = dfw.filter(items=['points'])\n",
        "mpr = dfr.filter(items=['points'])\n",
        "f, ax = plt.subplots(figsize=(15,5))\n",
        "sns.distplot(mpw.points, ax=ax, label = 'white')\n",
        "sns.distplot(mpr.points, ax=ax, label = 'red')\n",
        "plt.title('Распределение рейтингов по цветам')\n",
        "plt.legend()\n",
        "plt.show()\n",
        "plt.figtext(0.5, -0.05, \"Рисунок 10 - Распределение рейтингов по цветам\")\n"
      ],
      "metadata": {
        "colab": {
          "base_uri": "https://localhost:8080/",
          "height": 386
        },
        "id": "9z8X2yUmi2hU",
        "outputId": "893bef5a-bc75-42df-9b93-b22461982839"
      },
      "execution_count": 58,
      "outputs": [
        {
          "output_type": "display_data",
          "data": {
            "text/plain": [
              "<Figure size 1080x360 with 1 Axes>"
            ],
            "image/png": "[encoded data removed]"
          },
          "metadata": {
            "needs_background": "light"
          }
        },
        {
          "output_type": "execute_result",
          "data": {
            "text/plain": [
              "Text(0.5, -0.05, 'Рисунок 10 - Распределение рейтингов по цветам')"
            ]
          },
          "metadata": {},
          "execution_count": 58
        },
        {
          "output_type": "display_data",
          "data": {
            "text/plain": [
              "<Figure size 432x288 with 0 Axes>"
            ]
          },
          "metadata": {}
        }
      ]
    },
    {
      "cell_type": "code",
      "source": [
        "H0 = \"Средние пользовательские рейтинги красного и белого вина одинаковые.\"\n",
        "H1 = \"Средние пользовательские рейтинги красного и белого вина разные.\"\n",
        "\n",
        "f_stat, p_value = stats.ttest_ind(mpw, mpr, axis=0)\n",
        "print('f_stat=', f_stat, 'p_value=', p_value)\n",
        "if p_value <0.05:\n",
        "  print()\n",
        "  print(f'{H1}, \\nтк значение p_value: ({p_value}) < 0.05')\n",
        "else:\n",
        "    print()\n",
        "    print(f'{H0}, \\nтк значение p_value: ({p_value}) > 0.05')"
      ],
      "metadata": {
        "colab": {
          "base_uri": "https://localhost:8080/",
          "height": 0
        },
        "id": "9udlm8kmnJ38",
        "outputId": "fe25e712-1035-4fd1-be2d-e7f0b867e3e6"
      },
      "execution_count": 59,
      "outputs": [
        {
          "output_type": "stream",
          "name": "stdout",
          "text": [
            "f_stat= [-17.89553031] p_value= [2.35590727e-70]\n",
            "\n",
            "Средние пользовательские рейтинги красного и белого вина разные., \n",
            "тк значение p_value: ([2.35590727e-70]) < 0.05\n"
          ]
        }
      ]
    },
    {
      "cell_type": "markdown",
      "source": [
        "# 5.2 H0:Средние цены двух популярных сортов вина одинаковые.\n",
        "\n",
        "# H1:Средние цены двух популярных сортов вина разные."
      ],
      "metadata": {
        "id": "IZihkk6vp0bO"
      }
    },
    {
      "cell_type": "code",
      "source": [
        "dfer = df.groupby(by = ['variety'], as_index=False)['points'].max()\\\n",
        ".sort_values('points', ascending=False).head(2)\n",
        "dfer                                                                                                                "
      ],
      "metadata": {
        "colab": {
          "base_uri": "https://localhost:8080/",
          "height": 112
        },
        "id": "zUNbEISdp--A",
        "outputId": "e2932d0c-3332-444c-ccc0-f6efd6fe5c5e"
      },
      "execution_count": 60,
      "outputs": [
        {
          "output_type": "execute_result",
          "data": {
            "text/plain": [
              "   variety  points\n",
              "22   Syrah      98\n",
              "20  Shiraz      98"
            ],
            "text/html": [
              "\n",
              "  <div id=\"df-baee9ad2-b619-44c1-adec-982f0f57f86a\">\n",
              "    <div class=\"colab-df-container\">\n",
              "      <div>\n",
              "<style scoped>\n",
              "    .dataframe tbody tr th:only-of-type {\n",
              "        vertical-align: middle;\n",
              "    }\n",
              "\n",
              "    .dataframe tbody tr th {\n",
              "        vertical-align: top;\n",
              "    }\n",
              "\n",
              "    .dataframe thead th {\n",
              "        text-align: right;\n",
              "    }\n",
              "</style>\n",
              "<table border=\"1\" class=\"dataframe\">\n",
              "  <thead>\n",
              "    <tr style=\"text-align: right;\">\n",
              "      <th></th>\n",
              "      <th>variety</th>\n",
              "      <th>points</th>\n",
              "    </tr>\n",
              "  </thead>\n",
              "  <tbody>\n",
              "    <tr>\n",
              "      <th>22</th>\n",
              "      <td>Syrah</td>\n",
              "      <td>98</td>\n",
              "    </tr>\n",
              "    <tr>\n",
              "      <th>20</th>\n",
              "      <td>Shiraz</td>\n",
              "      <td>98</td>\n",
              "    </tr>\n",
              "  </tbody>\n",
              "</table>\n",
              "</div>\n",
              "      <button class=\"colab-df-convert\" onclick=\"convertToInteractive('df-baee9ad2-b619-44c1-adec-982f0f57f86a')\"\n",
              "              title=\"Convert this dataframe to an interactive table.\"\n",
              "              style=\"display:none;\">\n",
              "        \n",
              "  <svg xmlns=\"http://www.w3.org/2000/svg\" height=\"24px\"viewBox=\"0 0 24 24\"\n",
              "       width=\"24px\">\n",
              "    <path d=\"M0 0h24v24H0V0z\" fill=\"none\"/>\n",
              "    <path d=\"M18.56 5.44l.94 2.06.94-2.06 2.06-.94-2.06-.94-.94-2.06-.94 2.06-2.06.94zm-11 1L8.5 8.5l.94-2.06 2.06-.94-2.06-.94L8.5 2.5l-.94 2.06-2.06.94zm10 10l.94 2.06.94-2.06 2.06-.94-2.06-.94-.94-2.06-.94 2.06-2.06.94z\"/><path d=\"M17.41 7.96l-1.37-1.37c-.4-.4-.92-.59-1.43-.59-.52 0-1.04.2-1.43.59L10.3 9.45l-7.72 7.72c-.78.78-.78 2.05 0 2.83L4 21.41c.39.39.9.59 1.41.59.51 0 1.02-.2 1.41-.59l7.78-7.78 2.81-2.81c.8-.78.8-2.07 0-2.86zM5.41 20L4 18.59l7.72-7.72 1.47 1.35L5.41 20z\"/>\n",
              "  </svg>\n",
              "      </button>\n",
              "      \n",
              "  <style>\n",
              "    .colab-df-container {\n",
              "      display:flex;\n",
              "      flex-wrap:wrap;\n",
              "      gap: 12px;\n",
              "    }\n",
              "\n",
              "    .colab-df-convert {\n",
              "      background-color: #E8F0FE;\n",
              "      border: none;\n",
              "      border-radius: 50%;\n",
              "      cursor: pointer;\n",
              "      display: none;\n",
              "      fill: #1967D2;\n",
              "      height: 32px;\n",
              "      padding: 0 0 0 0;\n",
              "      width: 32px;\n",
              "    }\n",
              "\n",
              "    .colab-df-convert:hover {\n",
              "      background-color: #E2EBFA;\n",
              "      box-shadow: 0px 1px 2px rgba(60, 64, 67, 0.3), 0px 1px 3px 1px rgba(60, 64, 67, 0.15);\n",
              "      fill: #174EA6;\n",
              "    }\n",
              "\n",
              "    [theme=dark] .colab-df-convert {\n",
              "      background-color: #3B4455;\n",
              "      fill: #D2E3FC;\n",
              "    }\n",
              "\n",
              "    [theme=dark] .colab-df-convert:hover {\n",
              "      background-color: #434B5C;\n",
              "      box-shadow: 0px 1px 3px 1px rgba(0, 0, 0, 0.15);\n",
              "      filter: drop-shadow(0px 1px 2px rgba(0, 0, 0, 0.3));\n",
              "      fill: #FFFFFF;\n",
              "    }\n",
              "  </style>\n",
              "\n",
              "      <script>\n",
              "        const buttonEl =\n",
              "          document.querySelector('#df-baee9ad2-b619-44c1-adec-982f0f57f86a button.colab-df-convert');\n",
              "        buttonEl.style.display =\n",
              "          google.colab.kernel.accessAllowed ? 'block' : 'none';\n",
              "\n",
              "        async function convertToInteractive(key) {\n",
              "          const element = document.querySelector('#df-baee9ad2-b619-44c1-adec-982f0f57f86a');\n",
              "          const dataTable =\n",
              "            await google.colab.kernel.invokeFunction('convertToInteractive',\n",
              "                                                     [key], {});\n",
              "          if (!dataTable) return;\n",
              "\n",
              "          const docLinkHtml = 'Like what you see? Visit the ' +\n",
              "            '<a target=\"_blank\" href=https://colab.research.google.com/notebooks/data_table.ipynb>data table notebook</a>'\n",
              "            + ' to learn more about interactive tables.';\n",
              "          element.innerHTML = '';\n",
              "          dataTable['output_type'] = 'display_data';\n",
              "          await google.colab.output.renderOutput(dataTable, element);\n",
              "          const docLink = document.createElement('div');\n",
              "          docLink.innerHTML = docLinkHtml;\n",
              "          element.appendChild(docLink);\n",
              "        }\n",
              "      </script>\n",
              "    </div>\n",
              "  </div>\n",
              "  "
            ]
          },
          "metadata": {},
          "execution_count": 60
        }
      ]
    },
    {
      "cell_type": "code",
      "source": [
        "dfsy = df[df.loc[:,'variety'].isin(['Syrah'])]\n",
        "dfsh = df[df.loc[:,'variety'].isin(['Shiraz'])]\n",
        "mpsy = dfsy.filter(items=['price'])\n",
        "mpsh = dfsh.filter(items=['price'])\n",
        "f, ax = plt.subplots(figsize=(15,5))\n",
        "sns.distplot(mpsy.price, ax=ax, label='Syrah')\n",
        "sns.distplot(mpsh.price, ax=ax, label='Shiraz')\n",
        "plt.title('Распределение средних цен')\n",
        "plt.legend()\n",
        "plt.show()\n",
        "plt.figtext(0.5, -0.05, \"Рисунок 11 - Распределение средних цен\")"
      ],
      "metadata": {
        "colab": {
          "base_uri": "https://localhost:8080/",
          "height": 386
        },
        "id": "kuaPsRTyr7dN",
        "outputId": "471c6753-1dff-424c-d831-84743f0703bd"
      },
      "execution_count": 61,
      "outputs": [
        {
          "output_type": "display_data",
          "data": {
            "text/plain": [
              "<Figure size 1080x360 with 1 Axes>"
            ],
            "image/png": "[encoded data removed]"
          },
          "metadata": {
            "needs_background": "light"
          }
        },
        {
          "output_type": "execute_result",
          "data": {
            "text/plain": [
              "Text(0.5, -0.05, 'Рисунок 11 - Распределение средних цен')"
            ]
          },
          "metadata": {},
          "execution_count": 61
        },
        {
          "output_type": "display_data",
          "data": {
            "text/plain": [
              "<Figure size 432x288 with 0 Axes>"
            ]
          },
          "metadata": {}
        }
      ]
    },
    {
      "cell_type": "code",
      "source": [
        "H0 = \"Средние цены двух популярных сортов вина одинаковые.\"\n",
        "H1 = \"Средние цены двух популярных сортов вина разные.\"\n",
        "f_stat, p_value = stats.ttest_ind(mpsy, mpsh, axis=0)\n",
        "print('f_stat=', f_stat, 'p_value=', p_value)\n",
        "if p_value <0.05:\n",
        "  print()\n",
        "  print(f'{H1}, \\nтк значение p_value: ({p_value}) < 0.05')\n",
        "else:\n",
        "    print()\n",
        "    print(f'{H0}, \\nтк значение p_value: ({p_value}) > 0.05')"
      ],
      "metadata": {
        "colab": {
          "base_uri": "https://localhost:8080/",
          "height": 0
        },
        "id": "-vDN5AB6uUGV",
        "outputId": "2291aec1-67f8-4db6-a5ac-e35cfd94eec1"
      },
      "execution_count": 62,
      "outputs": [
        {
          "output_type": "stream",
          "name": "stdout",
          "text": [
            "f_stat= [3.87309523] p_value= [0.00011125]\n",
            "\n",
            "Средние цены двух популярных сортов вина разные., \n",
            "тк значение p_value: ([0.00011125]) < 0.05\n"
          ]
        }
      ]
    },
    {
      "cell_type": "markdown",
      "metadata": {
        "id": "FneIrxFwlwQV"
      },
      "source": [
        "Вывод:  \n",
        "*   Средние пользовательские рейтинги красного и белого вина разные., \n",
        "так как значение p_value: 2.35590727e-70 < 0.05\n",
        "*   Средние цены двух популярных сортов вина разные., \n",
        "так как значение p_value: 0.00011125 < 0.05"
      ]
    },
    {
      "cell_type": "markdown",
      "metadata": {
        "id": "duniFSWNVBp-"
      },
      "source": [
        "# 6. Выводы"
      ]
    },
    {
      "cell_type": "markdown",
      "metadata": {
        "id": "FAEZZOBy03dG"
      },
      "source": [
        "\n",
        "\n",
        "*   Была выполнена предобработка, выгрузка данных. Удалены пустые строчки.\n",
        "Определены типы данных.\n",
        "*   Наиболее популярные сорта: Sauvignon Blanc, Chardonnay, Shiraz, Cabernet Sauvignon, Pinot Noir,Cabernet Sauvignon Grenache, Bordeaux-style Red Blend, Chenin Blanc и White Blend. Самые дорогие вина: Shiraz и Cabernet Sauvignon. Средняя цена вин Морокко 19.18, Австралии 42.84, Новой Зеландии 33 а Южной Африки 27.17. Самые высокие оценки получили сорта: Muscat и Shiraz.\n",
        "*   Видна зависимость цены от рейтинга, но она не прямая. Можно предположить, что существуют и другие факторы влияющие на ценообразование. \n",
        "*   В Африке, Австралии и Новой Зеландии коэффициент корреляции около 0,5 это слабая корреляция. На графике линейная зависимость не прослеживается. Если выбросы убрать, коэффициент становится ниже. Значит модель линейной регрессии не подходит.\n",
        "*   При увеличении на единицу рейтинга цена возрастает на -260.6226+3.2301*рейтинг.\n",
        "*   Средние пользовательские рейтинги красного и белого вина разные.\n",
        "*   Средние цены двух популярных сортов вина разные.\n"
      ]
    },
    {
      "cell_type": "markdown",
      "metadata": {
        "id": "ZjbwYU9JVBp-"
      },
      "source": [
        "**<center>Список литературы</center>**"
      ]
    },
    {
      "cell_type": "markdown",
      "metadata": {
        "id": "M6l8mk15VBp-"
      },
      "source": [
        "1. Андерсон, К, Аналитическая культура: от сбора данных до бизнес-результатов / Карл Андерсон. - Москва : Манн, Иванов и Фербер, 2017. - 324 с.\n",
        "2. Бенгфорт Бенджамин, Билбро Ребекка, Охеда Тони, Прикладной анализ текстовых данных на Python. Машинное обучение и создание приложений обработки естественного языка. — СПб.: Питер, 2019. \n",
        "3. Мэтиз Э., Изучаем Python. Программирование игр, визуализация данных, веб-приложения. — СПб.: Питер, 2017. \n",
        "4.  Плас Дж. Вандер, Python для сложных задач: наука о данных и машинное обучение. — СПб.: Питер, 2018.\n",
        "5. Рашка С., Рашка С. Р28 Python и машинное обучение / пер. с англ. А. В. Логунова. - М.: ДМК Пресс, 2017.  \n",
        "6.  Шарден Б., Массарон Л., Боскетти А.,  Крупномасштабное машинное обучение вместе с Python. Пер. с анг. А. В. Логунова. – М.: ДМК Пресс, 2018. "
      ]
    }
  ],
  "metadata": {
    "accelerator": "GPU",
    "colab": {
      "collapsed_sections": [],
      "provenance": []
    },
    "kernelspec": {
      "display_name": "Python 3",
      "language": "python",
      "name": "python3"
    },
    "language_info": {
      "codemirror_mode": {
        "name": "ipython",
        "version": 3
      },
      "file_extension": ".py",
      "mimetype": "text/x-python",
      "name": "python",
      "nbconvert_exporter": "python",
      "pygments_lexer": "ipython3",
      "version": "3.8.3"
    }
  },
  "nbformat": 4,
  "nbformat_minor": 0
}